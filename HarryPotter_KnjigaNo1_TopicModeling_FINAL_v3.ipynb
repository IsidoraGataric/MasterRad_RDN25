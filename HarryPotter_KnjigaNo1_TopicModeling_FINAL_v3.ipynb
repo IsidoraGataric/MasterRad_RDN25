{
 "cells": [
  {
   "cell_type": "markdown",
   "id": "81dc1640-df45-4ad3-9c62-508919470881",
   "metadata": {},
   "source": [
    "## Harry Potter (BookNo1. - Harry Potter and the Sorcerer's Stone)\n",
    "\n",
    "Link to datasets (preuzeta samo prva knjiga): https://github.com/ErikaJacobs/Harry-Potter-Text-Mining/tree/master/Book%20Text\n",
    "\n",
    "Dole sam isprobala **LDA** i **BERTopic**, sa različito podešenim parametrima. Rezultati su vrlo jednolični (u smislu, izoluje se malo tema), ali to ustvari uopšte nije čudno jer literatura koja se bavi književnom (teorijskom) analizom ovog dela takođe govori o tome da je sadržaj jednoličan, u smislu da se stalno vrte iste teme, isti pridevi, iste priče, sve isto i da je teško napraviti distinkciju u tematici (što se slaže i sa ovim našim rezultatima)."
   ]
  },
  {
   "cell_type": "code",
   "execution_count": 1,
   "id": "6a9a5eb5-26a6-46e0-9aba-168cd8aa76da",
   "metadata": {},
   "outputs": [
    {
     "name": "stderr",
     "output_type": "stream",
     "text": [
      "/Users/isidoragataric/miniconda3/envs/isi/lib/python3.11/site-packages/tqdm/auto.py:21: TqdmWarning: IProgress not found. Please update jupyter and ipywidgets. See https://ipywidgets.readthedocs.io/en/stable/user_install.html\n",
      "  from .autonotebook import tqdm as notebook_tqdm\n",
      "[nltk_data] Downloading package punkt to\n",
      "[nltk_data]     /Users/isidoragataric/nltk_data...\n",
      "[nltk_data]   Package punkt is already up-to-date!\n",
      "[nltk_data] Downloading package stopwords to\n",
      "[nltk_data]     /Users/isidoragataric/nltk_data...\n",
      "[nltk_data]   Package stopwords is already up-to-date!\n",
      "[nltk_data] Downloading package wordnet to\n",
      "[nltk_data]     /Users/isidoragataric/nltk_data...\n",
      "[nltk_data]   Package wordnet is already up-to-date!\n"
     ]
    }
   ],
   "source": [
    "# Opšti paketi\n",
    "import re\n",
    "import itertools\n",
    "import numpy as np\n",
    "import pandas as pd\n",
    "import spacy\n",
    "import string\n",
    "\n",
    "# NLP alati\n",
    "import nltk\n",
    "from nltk.corpus import stopwords\n",
    "from nltk.tokenize import word_tokenize\n",
    "from nltk.stem import WordNetLemmatizer\n",
    "\n",
    "# Gensim - za LDA\n",
    "import gensim\n",
    "from gensim import corpora, models\n",
    "import itertools\n",
    "from gensim.models import Phrases\n",
    "from gensim.models.phrases import Phraser\n",
    "from pprint import pprint\n",
    "from gensim.models import CoherenceModel\n",
    "import pyLDAvis\n",
    "import pyLDAvis.gensim_models as gensimvis\n",
    "import matplotlib.pyplot as plt\n",
    "from gensim.models import LdaModel\n",
    "\n",
    "# BERTopic\n",
    "from bertopic import BERTopic\n",
    "from sentence_transformers import SentenceTransformer\n",
    "from sklearn.feature_extraction.text import CountVectorizer\n",
    "\n",
    "# Dimenzionalna redukcija (koristi je BERTopic)\n",
    "import umap\n",
    "\n",
    "# Vizualizacija (ako budeš htela kasnije)\n",
    "import matplotlib.pyplot as plt\n",
    "\n",
    "# Sklearn - ako bude potrebno za vektore ili dodatnu analizu\n",
    "from sklearn.decomposition import PCA\n",
    "from sklearn.cluster import KMeans\n",
    "\n",
    "# Preuzimanje NLTK resursa (prvi put)\n",
    "nltk.download('punkt')\n",
    "nltk.download('stopwords')\n",
    "nltk.download('wordnet')\n",
    "\n",
    "# Izbaci warnings\n",
    "import warnings\n",
    "warnings.filterwarnings(\"ignore\")"
   ]
  },
  {
   "cell_type": "code",
   "execution_count": 2,
   "id": "0d1a0ee0-8a2a-43d5-94fd-7393f5af17f2",
   "metadata": {},
   "outputs": [
    {
     "name": "stdout",
     "output_type": "stream",
     "text": [
      "\"Text\"@\"Chapter\"@\"Book\"\n",
      "\"THE BOY WHO LIVED  Mr. and Mrs. Dursley, of number four, Privet Drive, were proud to say that they were perfectly normal, thank you very much. They were the last people you'd expect to be involved in anything strange or mysterious, because they just didn't hold with such nonsense.  Mr. Dursley was the director of a firm called Grunnings, which made drills. He was a big, beefy man with hardly any neck, although he did have a very large mustache. Mrs. Dursley was thin and \n"
     ]
    }
   ],
   "source": [
    "# Učitavanje teksta iz fajla (uzimam samo prvu knjigu)\n",
    "with open(\"HPBook1.txt\", \"r\", encoding=\"utf-8\") as f:\n",
    "    text = f.read()\n",
    "\n",
    "# ✔️ Provera prvih 500 karaktera\n",
    "print(text[:500])"
   ]
  },
  {
   "cell_type": "markdown",
   "id": "cf73d172-3bd9-472d-afa5-f551c15b167c",
   "metadata": {},
   "source": [
    "# Pre-processing teksta"
   ]
  },
  {
   "cell_type": "code",
   "execution_count": 3,
   "id": "2fbaa39a-3636-4f83-ae4c-d1b1647dc12e",
   "metadata": {},
   "outputs": [],
   "source": [
    "# Definišem stopwords\n",
    "nlp = spacy.load(\"en_core_web_sm\")\n",
    "stop_words = set(stopwords.words('english'))"
   ]
  },
  {
   "cell_type": "code",
   "execution_count": 4,
   "id": "c022cb5d-0507-4d7f-a5df-eef29696d41c",
   "metadata": {},
   "outputs": [],
   "source": [
    "# Čišćenje teksta od svega i svačega\n",
    "def clean_text(text):\n",
    "    # 1. Uklanjanje ličnih imena iz originalnog teksta putem spaCy NER\n",
    "    doc_ner = nlp(text)\n",
    "    ents_to_remove = [ent for ent in doc_ner.ents if ent.label_ == 'PERSON']\n",
    "    \n",
    "    intervals = [(ent.start_char, ent.end_char) for ent in ents_to_remove]\n",
    "    intervals = sorted(intervals, reverse=True)\n",
    "    \n",
    "    for start, end in intervals:\n",
    "        text = text[:start] + ' ' + text[end:]\n",
    "\n",
    "    # 2. Standardno čišćenje\n",
    "    text = text.lower()\n",
    "    text = re.sub(r\"[^a-zA-Z']\", ' ', text)\n",
    "    lines = text.split('\\n')\n",
    "    lines = [line for line in lines if not line.startswith('\"Text\"@')]\n",
    "    text = ' '.join(lines)\n",
    "    text = text.translate(str.maketrans('', '', string.punctuation))\n",
    "    text = re.sub(r'\\d+', '', text)\n",
    "    text = re.sub(r'\\s+', ' ', text).strip()\n",
    "\n",
    "    # 3. Ručno definisane reči koje želiš da izbaciš\n",
    "    custom_remove_words = {\n",
    "        'hagrid', 'snape', 'hermione', 'neville',  # imena\n",
    "        'could', 'would', 'i', 'me', 'you', 'we', 'us', 'my', 'your', 'ronan', 'petunia', 'vernon', 'say', 'get', 'mrs', 'mr' # jednostavne reči\n",
    "    }\n",
    "\n",
    "    # 4. Tokenizacija i uklanjanje i stopwords i custom reči\n",
    "    tokens = text.split()\n",
    "    tokens = [word for word in tokens if word not in stop_words and word not in custom_remove_words]\n",
    "\n",
    "    # 5. Lemmatizacija i finalno filtriranje\n",
    "    doc = nlp(' '.join(tokens))\n",
    "    lemmas = [token.lemma_ for token in doc\n",
    "              if token.lemma_ not in stop_words and token.lemma_ not in custom_remove_words and token.lemma_.isalpha()]\n",
    "\n",
    "    cleaned_text = ' '.join(lemmas)\n",
    "    return cleaned_text, lemmas\n",
    "\n",
    "#results = [clean_text(doc) for doc in documents]\n",
    "texts, tokens_list = clean_text(text)\n",
    "#texts, tokens_list = zip(*results) "
   ]
  },
  {
   "cell_type": "markdown",
   "id": "99ee0dfe-39e4-4bd0-9c47-8a4403d5bcdf",
   "metadata": {},
   "source": [
    "# LDA"
   ]
  },
  {
   "cell_type": "code",
   "execution_count": 5,
   "id": "7ff01d82-0ae6-4086-9122-9f64ef2a3253",
   "metadata": {},
   "outputs": [
    {
     "name": "stdout",
     "output_type": "stream",
     "text": [
      "📄 Broj segmenata za LDA: 346\n"
     ]
    }
   ],
   "source": [
    "# Celokupna knjiga se deli na segmente\n",
    "def split_text(text, max_words=100):\n",
    "    words = text.split()\n",
    "    chunks = []\n",
    "    for i in range(0, len(words), max_words):\n",
    "        chunk = \" \".join(words[i:i+max_words])\n",
    "        chunks.append(chunk)\n",
    "    return chunks\n",
    "\n",
    "# 1. Očisti ceo tekst i izdvoji lemme\n",
    "cleaned_text, all_lemmas = clean_text(text)\n",
    "\n",
    "# 2. Napravi očišćen tekst spojen u string\n",
    "cleaned_text_str = ' '.join(all_lemmas)\n",
    "\n",
    "# 3. Podeli na chunkove od max 100 reči\n",
    "chunks = split_text(cleaned_text_str, max_words=100)\n",
    "\n",
    "# 4. Tokenizuj svaki chunk (za LDA dictionary i corpus)\n",
    "tokens_list = [chunk.split() for chunk in chunks]\n",
    "\n",
    "# 5. Kreiraj dictionary i corpus za gensim LDA\n",
    "dictionary = corpora.Dictionary(tokens_list)\n",
    "corpus = [dictionary.doc2bow(tokens) for tokens in tokens_list]\n",
    "\n",
    "print(f\"📄 Broj segmenata za LDA: {len(tokens_list)}\")"
   ]
  },
  {
   "cell_type": "code",
   "execution_count": 6,
   "id": "c3040f89-a6b8-4802-891f-3a33de8a96aa",
   "metadata": {},
   "outputs": [
    {
     "name": "stdout",
     "output_type": "stream",
     "text": [
      "\n",
      "✅ Provera bigrama na prvom dokumentu:\n",
      "Pre: ['text', 'chapter', 'book', 'boy', 'live', 'number', 'four', 'proud', 'perfectly', 'normal', 'thank', 'much', 'last', 'people', 'expect', 'involve', 'anything', 'strange', 'mysterious', 'hold', 'nonsense', 'director', 'firm', 'call', 'grunning', 'make', 'drill', 'big', 'beefy', 'man', 'hardly', 'neck', 'although', 'large', 'mustache', 'thin', 'blonde', 'nearly', 'twice', 'usual', 'amount', 'neck', 'come', 'useful', 'spend', 'much', 'time', 'crane', 'garden', 'fence', 'spy', 'neighbor', 'small', 'son', 'call', 'opinion', 'fine', 'boy', 'anywhere', 'everything', 'want', 'also', 'secret', 'great', 'fear', 'somebody', 'discover', 'think', 'bear', 'anyone', 'find', 'potter', 'sister', 'meet', 'several', 'year', 'fact', 'pretend', 'sister', 'sister', 'good', 'nothing', 'husband', 'undursleyish', 'possible', 'shudder', 'think', 'neighbor', 'potter', 'arrive', 'street', 'know', 'small', 'son', 'never', 'even', 'see', 'boy', 'another', 'good']\n",
      "Posle: ['text', 'chapter', 'book', 'boy_live', 'number_four', 'proud', 'perfectly', 'normal', 'thank', 'much', 'last', 'people', 'expect', 'involve', 'anything', 'strange', 'mysterious', 'hold', 'nonsense', 'director', 'firm', 'call', 'grunning', 'make', 'drill', 'big', 'beefy', 'man', 'hardly', 'neck', 'although', 'large', 'mustache', 'thin', 'blonde', 'nearly', 'twice', 'usual', 'amount', 'neck', 'come', 'useful', 'spend', 'much_time', 'crane', 'garden', 'fence', 'spy', 'neighbor', 'small', 'son', 'call', 'opinion', 'fine', 'boy', 'anywhere', 'everything', 'want', 'also', 'secret', 'great', 'fear', 'somebody', 'discover', 'think', 'bear', 'anyone', 'find', 'potter', 'sister', 'meet', 'several', 'year', 'fact', 'pretend', 'sister', 'sister', 'good', 'nothing', 'husband', 'undursleyish', 'possible', 'shudder', 'think', 'neighbor', 'potter', 'arrive', 'street', 'know', 'small', 'son', 'never_even', 'see_boy', 'another', 'good']\n",
      "\n",
      "📘 Primeri reči iz dictionary-ja:\n",
      "0: also\n",
      "1: although\n",
      "2: amount\n",
      "3: another\n",
      "4: anyone\n",
      "5: anything\n",
      "6: anywhere\n",
      "7: arrive\n",
      "8: bear\n",
      "9: beefy\n",
      "10: big\n",
      "11: blonde\n",
      "12: book\n",
      "13: boy\n",
      "14: boy_live\n",
      "15: call\n",
      "16: chapter\n",
      "17: come\n",
      "18: crane\n",
      "19: director\n",
      "20: discover\n",
      "21: drill\n",
      "22: everything\n",
      "23: expect\n",
      "24: fact\n",
      "25: fear\n",
      "26: fence\n",
      "27: find\n",
      "28: fine\n",
      "29: firm\n",
      "\n",
      "📊 LDA MODELI\n",
      "\n",
      "\n",
      "--- LDA --- Topics: 5 | Alpha: symmetric | Passes: 10\n",
      "[(0, '0.007*\"look\" + 0.006*\"one\" + 0.006*\"go\" + 0.005*\"come\" + 0.005*\"see\"'),\n",
      " (1, '0.007*\"know\" + 0.007*\"tell\" + 0.006*\"go\" + 0.005*\"think\" + 0.005*\"see\"'),\n",
      " (2, '0.008*\"look\" + 0.007*\"one\" + 0.006*\"see\" + 0.006*\"back\" + 0.006*\"go\"'),\n",
      " (3,\n",
      "  '0.008*\"look\" + 0.007*\"professor\" + 0.006*\"wood\" + 0.006*\"one\" + 0.006*\"go\"'),\n",
      " (4, '0.008*\"go\" + 0.006*\"think\" + 0.005*\"look\" + 0.005*\"like\" + 0.005*\"I\"')]\n",
      "Perplexity: -8.01 | Coherence: 0.2239\n",
      "\n",
      "--- LDA --- Topics: 5 | Alpha: symmetric | Passes: 20\n",
      "[(0, '0.007*\"look\" + 0.006*\"one\" + 0.006*\"go\" + 0.005*\"come\" + 0.005*\"see\"'),\n",
      " (1, '0.007*\"know\" + 0.006*\"tell\" + 0.006*\"go\" + 0.005*\"think\" + 0.005*\"see\"'),\n",
      " (2, '0.008*\"look\" + 0.006*\"one\" + 0.006*\"see\" + 0.006*\"back\" + 0.006*\"go\"'),\n",
      " (3,\n",
      "  '0.008*\"look\" + 0.007*\"professor\" + 0.007*\"wood\" + 0.006*\"one\" + 0.006*\"go\"'),\n",
      " (4, '0.008*\"go\" + 0.006*\"think\" + 0.005*\"look\" + 0.005*\"like\" + 0.005*\"I\"')]\n",
      "Perplexity: -8.01 | Coherence: 0.2343\n",
      "\n",
      "--- LDA --- Topics: 5 | Alpha: asymmetric | Passes: 10\n",
      "[(0, '0.007*\"go\" + 0.006*\"look\" + 0.006*\"one\" + 0.006*\"see\" + 0.005*\"come\"'),\n",
      " (1, '0.008*\"know\" + 0.007*\"tell\" + 0.006*\"go\" + 0.005*\"think\" + 0.005*\"see\"'),\n",
      " (2, '0.008*\"look\" + 0.007*\"back\" + 0.007*\"one\" + 0.006*\"see\" + 0.006*\"know\"'),\n",
      " (3,\n",
      "  '0.008*\"look\" + 0.007*\"wood\" + 0.007*\"professor\" + 0.006*\"one\" + 0.005*\"go\"'),\n",
      " (4, '0.006*\"go\" + 0.005*\"tell\" + 0.005*\"look\" + 0.004*\"think\" + 0.004*\"like\"')]\n",
      "Perplexity: -8.00 | Coherence: 0.2337\n",
      "\n",
      "--- LDA --- Topics: 5 | Alpha: asymmetric | Passes: 20\n",
      "[(0, '0.007*\"go\" + 0.006*\"look\" + 0.006*\"one\" + 0.006*\"see\" + 0.005*\"come\"'),\n",
      " (1, '0.008*\"know\" + 0.007*\"tell\" + 0.006*\"go\" + 0.005*\"think\" + 0.005*\"see\"'),\n",
      " (2, '0.008*\"look\" + 0.007*\"back\" + 0.007*\"one\" + 0.006*\"see\" + 0.006*\"know\"'),\n",
      " (3,\n",
      "  '0.008*\"look\" + 0.008*\"wood\" + 0.007*\"professor\" + 0.006*\"one\" + 0.005*\"go\"'),\n",
      " (4, '0.006*\"go\" + 0.005*\"tell\" + 0.005*\"look\" + 0.004*\"think\" + 0.004*\"like\"')]\n",
      "Perplexity: -8.00 | Coherence: 0.2301\n",
      "\n",
      "--- LDA --- Topics: 8 | Alpha: symmetric | Passes: 10\n",
      "[(0, '0.006*\"look\" + 0.006*\"one\" + 0.006*\"go\" + 0.005*\"turn\" + 0.005*\"see\"'),\n",
      " (1,\n",
      "  '0.007*\"tell\" + 0.006*\"go\" + 0.006*\"peeve\" + 0.006*\"think\" + 0.006*\"come\"'),\n",
      " (2,\n",
      "  '0.008*\"look\" + 0.007*\"one\" + 0.006*\"back\" + 0.006*\"leave\" + 0.005*\"come\"'),\n",
      " (3,\n",
      "  '0.009*\"professor\" + 0.008*\"look\" + 0.006*\"one\" + 0.006*\"go\" + 0.005*\"wood\"'),\n",
      " (4, '0.009*\"look\" + 0.006*\"like\" + 0.006*\"go\" + 0.005*\"tell\" + 0.004*\"think\"'),\n",
      " (5, '0.010*\"look\" + 0.008*\"see\" + 0.008*\"know\" + 0.006*\"one\" + 0.006*\"like\"'),\n",
      " (6, '0.008*\"go\" + 0.007*\"know\" + 0.006*\"well\" + 0.005*\"see\" + 0.005*\"look\"'),\n",
      " (7, '0.006*\"go\" + 0.005*\"wand\" + 0.005*\"face\" + 0.005*\"make\" + 0.005*\"much\"')]\n",
      "Perplexity: -8.12 | Coherence: 0.2212\n",
      "\n",
      "--- LDA --- Topics: 8 | Alpha: symmetric | Passes: 20\n",
      "[(0, '0.006*\"look\" + 0.006*\"one\" + 0.006*\"go\" + 0.005*\"turn\" + 0.005*\"see\"'),\n",
      " (1,\n",
      "  '0.007*\"tell\" + 0.006*\"go\" + 0.006*\"peeve\" + 0.006*\"come\" + 0.005*\"think\"'),\n",
      " (2,\n",
      "  '0.008*\"look\" + 0.006*\"one\" + 0.006*\"back\" + 0.006*\"leave\" + 0.005*\"come\"'),\n",
      " (3,\n",
      "  '0.009*\"professor\" + 0.008*\"look\" + 0.006*\"one\" + 0.006*\"go\" + 0.005*\"wood\"'),\n",
      " (4, '0.009*\"look\" + 0.006*\"like\" + 0.006*\"go\" + 0.005*\"tell\" + 0.004*\"think\"'),\n",
      " (5, '0.010*\"look\" + 0.009*\"see\" + 0.008*\"know\" + 0.006*\"one\" + 0.006*\"like\"'),\n",
      " (6, '0.008*\"go\" + 0.007*\"know\" + 0.006*\"well\" + 0.005*\"see\" + 0.005*\"look\"'),\n",
      " (7, '0.006*\"go\" + 0.005*\"wand\" + 0.005*\"face\" + 0.005*\"much\" + 0.005*\"make\"')]\n",
      "Perplexity: -8.11 | Coherence: 0.2192\n",
      "\n",
      "--- LDA --- Topics: 8 | Alpha: asymmetric | Passes: 10\n",
      "[(0, '0.007*\"go\" + 0.006*\"one\" + 0.006*\"look\" + 0.006*\"come\" + 0.005*\"see\"'),\n",
      " (1,\n",
      "  '0.007*\"tell\" + 0.006*\"think\" + 0.006*\"go\" + 0.006*\"peeve\" + 0.005*\"know\"'),\n",
      " (2, '0.008*\"look\" + 0.007*\"back\" + 0.007*\"one\" + 0.006*\"leave\" + 0.006*\"see\"'),\n",
      " (3,\n",
      "  '0.008*\"professor\" + 0.008*\"look\" + 0.006*\"wood\" + 0.006*\"go\" + 0.006*\"one\"'),\n",
      " (4, '0.008*\"look\" + 0.006*\"like\" + 0.006*\"tell\" + 0.005*\"go\" + 0.005*\"think\"'),\n",
      " (5, '0.011*\"look\" + 0.008*\"see\" + 0.008*\"know\" + 0.006*\"like\" + 0.005*\"one\"'),\n",
      " (6,\n",
      "  '0.008*\"know\" + 0.008*\"go\" + 0.006*\"well\" + 0.006*\"look\" + '\n",
      "  '0.005*\"professor\"'),\n",
      " (7, '0.006*\"pier\" + 0.005*\"thing\" + 0.005*\"much\" + 0.005*\"go\" + 0.005*\"name\"')]\n",
      "Perplexity: -8.10 | Coherence: 0.2301\n",
      "\n",
      "--- LDA --- Topics: 8 | Alpha: asymmetric | Passes: 20\n",
      "[(0, '0.007*\"go\" + 0.006*\"one\" + 0.006*\"look\" + 0.006*\"come\" + 0.005*\"see\"'),\n",
      " (1,\n",
      "  '0.007*\"tell\" + 0.006*\"think\" + 0.006*\"peeve\" + 0.006*\"go\" + 0.005*\"know\"'),\n",
      " (2, '0.007*\"look\" + 0.007*\"back\" + 0.007*\"one\" + 0.006*\"leave\" + 0.006*\"see\"'),\n",
      " (3,\n",
      "  '0.008*\"professor\" + 0.008*\"look\" + 0.007*\"wood\" + 0.006*\"go\" + 0.006*\"one\"'),\n",
      " (4, '0.008*\"look\" + 0.006*\"like\" + 0.006*\"tell\" + 0.005*\"go\" + 0.005*\"think\"'),\n",
      " (5, '0.011*\"look\" + 0.009*\"see\" + 0.008*\"know\" + 0.006*\"like\" + 0.005*\"one\"'),\n",
      " (6,\n",
      "  '0.008*\"know\" + 0.008*\"go\" + 0.007*\"well\" + 0.006*\"look\" + '\n",
      "  '0.005*\"professor\"'),\n",
      " (7, '0.006*\"pier\" + 0.005*\"thing\" + 0.005*\"much\" + 0.005*\"I\" + 0.005*\"name\"')]\n",
      "Perplexity: -8.09 | Coherence: 0.2324\n",
      "\n",
      "--- LDA --- Topics: 10 | Alpha: symmetric | Passes: 10\n",
      "[(0, '0.006*\"look\" + 0.006*\"go\" + 0.006*\"see\" + 0.005*\"turn\" + 0.005*\"broom\"'),\n",
      " (1, '0.009*\"peeve\" + 0.008*\"tell\" + 0.006*\"go\" + 0.005*\"know\" + 0.005*\"come\"'),\n",
      " (2,\n",
      "  '0.008*\"one\" + 0.007*\"look\" + 0.007*\"back\" + 0.006*\"come\" + 0.005*\"leave\"'),\n",
      " (3,\n",
      "  '0.011*\"professor\" + 0.008*\"wood\" + 0.008*\"one\" + 0.007*\"go\" + 0.005*\"see\"'),\n",
      " (4,\n",
      "  '0.006*\"like\" + 0.006*\"go\" + 0.006*\"mother\" + 0.005*\"boy\" + 0.004*\"train\"'),\n",
      " (5,\n",
      "  '0.011*\"look\" + 0.009*\"see\" + 0.008*\"know\" + 0.006*\"back\" + '\n",
      "  '0.005*\"something\"'),\n",
      " (6, '0.009*\"know\" + 0.006*\"go\" + 0.006*\"see\" + 0.006*\"one\" + 0.005*\"well\"'),\n",
      " (7, '0.007*\"I\" + 0.006*\"book\" + 0.006*\"know\" + 0.006*\"tell\" + 0.005*\"wand\"'),\n",
      " (8,\n",
      "  '0.008*\"come\" + 0.006*\"well\" + 0.005*\"letter\" + 0.005*\"make\" + '\n",
      "  '0.005*\"something\"'),\n",
      " (9,\n",
      "  '0.010*\"look\" + 0.007*\"go\" + 0.007*\"one\" + 0.006*\"professor\" + 0.006*\"like\"')]\n",
      "Perplexity: -8.17 | Coherence: 0.2253\n",
      "\n",
      "--- LDA --- Topics: 10 | Alpha: symmetric | Passes: 20\n",
      "[(0, '0.006*\"look\" + 0.006*\"go\" + 0.006*\"see\" + 0.005*\"turn\" + 0.005*\"broom\"'),\n",
      " (1, '0.009*\"peeve\" + 0.008*\"tell\" + 0.006*\"go\" + 0.005*\"know\" + 0.005*\"come\"'),\n",
      " (2,\n",
      "  '0.008*\"one\" + 0.008*\"look\" + 0.007*\"back\" + 0.006*\"come\" + 0.006*\"leave\"'),\n",
      " (3,\n",
      "  '0.011*\"professor\" + 0.008*\"wood\" + 0.008*\"one\" + 0.007*\"go\" + 0.005*\"see\"'),\n",
      " (4,\n",
      "  '0.006*\"like\" + 0.006*\"go\" + 0.006*\"mother\" + 0.006*\"boy\" + 0.004*\"train\"'),\n",
      " (5,\n",
      "  '0.011*\"look\" + 0.010*\"see\" + 0.008*\"know\" + 0.006*\"back\" + '\n",
      "  '0.005*\"something\"'),\n",
      " (6, '0.009*\"know\" + 0.006*\"see\" + 0.006*\"go\" + 0.006*\"one\" + 0.005*\"think\"'),\n",
      " (7, '0.007*\"I\" + 0.006*\"book\" + 0.006*\"know\" + 0.006*\"tell\" + 0.005*\"wand\"'),\n",
      " (8,\n",
      "  '0.008*\"come\" + 0.006*\"well\" + 0.005*\"letter\" + 0.005*\"make\" + '\n",
      "  '0.005*\"something\"'),\n",
      " (9,\n",
      "  '0.009*\"look\" + 0.007*\"go\" + 0.007*\"one\" + 0.006*\"professor\" + 0.006*\"like\"')]\n",
      "Perplexity: -8.16 | Coherence: 0.2273\n",
      "\n",
      "--- LDA --- Topics: 10 | Alpha: asymmetric | Passes: 10\n",
      "[(0, '0.007*\"go\" + 0.006*\"look\" + 0.005*\"see\" + 0.005*\"one\" + 0.005*\"turn\"'),\n",
      " (1, '0.009*\"tell\" + 0.007*\"go\" + 0.007*\"peeve\" + 0.006*\"come\" + 0.005*\"know\"'),\n",
      " (2,\n",
      "  '0.008*\"look\" + 0.008*\"back\" + 0.008*\"one\" + 0.006*\"leave\" + 0.005*\"take\"'),\n",
      " (3,\n",
      "  '0.010*\"professor\" + 0.008*\"go\" + 0.007*\"one\" + 0.006*\"wood\" + 0.006*\"look\"'),\n",
      " (4, '0.006*\"like\" + 0.005*\"go\" + 0.005*\"mother\" + 0.005*\"boy\" + 0.005*\"hand\"'),\n",
      " (5,\n",
      "  '0.012*\"look\" + 0.009*\"see\" + 0.008*\"know\" + 0.006*\"something\" + '\n",
      "  '0.005*\"back\"'),\n",
      " (6, '0.009*\"know\" + 0.006*\"see\" + 0.006*\"go\" + 0.006*\"one\" + 0.005*\"look\"'),\n",
      " (7, '0.007*\"book\" + 0.007*\"know\" + 0.007*\"tell\" + 0.005*\"I\" + 0.005*\"find\"'),\n",
      " (8,\n",
      "  '0.006*\"letter\" + 0.006*\"come\" + 0.005*\"back\" + 0.005*\"make\" + '\n",
      "  '0.005*\"think\"'),\n",
      " (9,\n",
      "  '0.011*\"look\" + 0.007*\"one\" + 0.006*\"like\" + 0.005*\"professor\" + 0.005*\"go\"')]\n",
      "Perplexity: -8.16 | Coherence: 0.2145\n",
      "\n",
      "--- LDA --- Topics: 10 | Alpha: asymmetric | Passes: 20\n",
      "[(0, '0.007*\"go\" + 0.006*\"look\" + 0.006*\"see\" + 0.005*\"one\" + 0.005*\"turn\"'),\n",
      " (1, '0.009*\"tell\" + 0.008*\"peeve\" + 0.007*\"go\" + 0.006*\"come\" + 0.005*\"know\"'),\n",
      " (2,\n",
      "  '0.008*\"look\" + 0.008*\"back\" + 0.007*\"one\" + 0.006*\"leave\" + 0.005*\"take\"'),\n",
      " (3,\n",
      "  '0.010*\"professor\" + 0.008*\"go\" + 0.007*\"one\" + 0.006*\"look\" + 0.006*\"wood\"'),\n",
      " (4, '0.006*\"like\" + 0.005*\"go\" + 0.005*\"mother\" + 0.005*\"boy\" + 0.005*\"hand\"'),\n",
      " (5,\n",
      "  '0.012*\"look\" + 0.009*\"see\" + 0.008*\"know\" + 0.006*\"something\" + '\n",
      "  '0.005*\"back\"'),\n",
      " (6, '0.009*\"know\" + 0.007*\"see\" + 0.006*\"go\" + 0.006*\"one\" + 0.005*\"think\"'),\n",
      " (7, '0.007*\"book\" + 0.007*\"know\" + 0.007*\"tell\" + 0.005*\"I\" + 0.005*\"find\"'),\n",
      " (8,\n",
      "  '0.006*\"letter\" + 0.006*\"come\" + 0.005*\"back\" + 0.005*\"make\" + '\n",
      "  '0.005*\"think\"'),\n",
      " (9,\n",
      "  '0.011*\"look\" + 0.007*\"one\" + 0.006*\"like\" + 0.005*\"professor\" + 0.005*\"go\"')]\n",
      "Perplexity: -8.15 | Coherence: 0.2143\n",
      "\n",
      "🏆 NAJBOLJI MODEL:\n",
      "Topics: 5 | Alpha: symmetric | Passes: 20\n",
      "Coherence Score: 0.2343\n",
      "[(0,\n",
      "  '0.007*\"look\" + 0.006*\"one\" + 0.006*\"go\" + 0.005*\"come\" + 0.005*\"see\" + '\n",
      "  '0.005*\"professor\" + 0.004*\"turn\" + 0.004*\"well\" + 0.004*\"something\" + '\n",
      "  '0.004*\"hand\"'),\n",
      " (1,\n",
      "  '0.007*\"know\" + 0.006*\"tell\" + 0.006*\"go\" + 0.005*\"think\" + 0.005*\"see\" + '\n",
      "  '0.005*\"look\" + 0.005*\"peeve\" + 0.004*\"come\" + 0.004*\"keep\" + 0.004*\"well\"'),\n",
      " (2,\n",
      "  '0.008*\"look\" + 0.006*\"one\" + 0.006*\"see\" + 0.006*\"back\" + 0.006*\"go\" + '\n",
      "  '0.006*\"know\" + 0.005*\"well\" + 0.005*\"come\" + 0.005*\"try\" + '\n",
      "  '0.004*\"something\"'),\n",
      " (3,\n",
      "  '0.008*\"look\" + 0.007*\"professor\" + 0.007*\"wood\" + 0.006*\"one\" + 0.006*\"go\" '\n",
      "  '+ 0.005*\"like\" + 0.005*\"see\" + 0.005*\"know\" + 0.004*\"even\" + 0.004*\"point\"'),\n",
      " (4,\n",
      "  '0.008*\"go\" + 0.006*\"think\" + 0.005*\"look\" + 0.005*\"like\" + 0.005*\"I\" + '\n",
      "  '0.005*\"tell\" + 0.004*\"see\" + 0.004*\"face\" + 0.004*\"boy\" + 0.003*\"know\"')]\n"
     ]
    }
   ],
   "source": [
    "######### LDA BIGRAMI\n",
    "\n",
    "# --------------------------------------------\n",
    "# 1. Kreiranje bigrama iz tokena — opušteniji parametri!\n",
    "bigram = Phrases(tokens_list, min_count=2, threshold=1)\n",
    "bigram_mod = Phraser(bigram)\n",
    "\n",
    "# Pretvaramo originalne tokene u bigramsku verziju\n",
    "tokens_bigrams = [bigram_mod[doc] for doc in tokens_list]\n",
    "\n",
    "# Opcionalno: proveri da li su bigrami ubačeni\n",
    "print(\"\\n✅ Provera bigrama na prvom dokumentu:\")\n",
    "print(\"Pre:\", tokens_list[0])\n",
    "print(\"Posle:\", tokens_bigrams[0])\n",
    "\n",
    "# --------------------------------------------\n",
    "# 2. Dictionary i corpus na osnovu bigrama\n",
    "dictionary = corpora.Dictionary(tokens_bigrams)\n",
    "corpus = [dictionary.doc2bow(tokens) for tokens in tokens_bigrams]\n",
    "\n",
    "# Opcionalno: prikaži nekoliko reči iz dictionary-ja\n",
    "print(\"\\n📘 Primeri reči iz dictionary-ja:\")\n",
    "for i in range(min(30, len(dictionary))):\n",
    "    print(f\"{i}: {dictionary[i]}\")\n",
    "\n",
    "# --------------------------------------------\n",
    "# 3. LDA kombinacije parametara\n",
    "num_topics_list = [5, 8, 10]\n",
    "alpha_list = ['symmetric', 'asymmetric']\n",
    "passes_list = [10, 20]\n",
    "\n",
    "lda_results = []\n",
    "\n",
    "print(\"\\n📊 LDA MODELI\\n\")\n",
    "\n",
    "for num_topics, alpha, passes in itertools.product(num_topics_list, alpha_list, passes_list):\n",
    "    lda_model = LdaModel(\n",
    "        corpus=corpus,\n",
    "        id2word=dictionary,\n",
    "        num_topics=num_topics,\n",
    "        alpha=alpha,\n",
    "        passes=passes,\n",
    "        random_state=42\n",
    "    )\n",
    "\n",
    "    # Coherence Score\n",
    "    coherence_model = CoherenceModel(\n",
    "        model=lda_model,\n",
    "        texts=tokens_bigrams,\n",
    "        dictionary=dictionary,\n",
    "        coherence='c_v'\n",
    "    )\n",
    "    coherence = coherence_model.get_coherence()\n",
    "\n",
    "    # Perplexity\n",
    "    perplexity = lda_model.log_perplexity(corpus)\n",
    "\n",
    "    print(f\"\\n--- LDA --- Topics: {num_topics} | Alpha: {alpha} | Passes: {passes}\")\n",
    "    pprint(lda_model.print_topics(num_words=5))\n",
    "    print(f\"Perplexity: {perplexity:.2f} | Coherence: {coherence:.4f}\")\n",
    "\n",
    "    lda_results.append({\n",
    "        \"num_topics\": num_topics,\n",
    "        \"alpha\": alpha,\n",
    "        \"passes\": passes,\n",
    "        \"model\": lda_model,\n",
    "        \"perplexity\": perplexity,\n",
    "        \"coherence\": coherence\n",
    "    })\n",
    "\n",
    "# --------------------------------------------\n",
    "# 4. Pronalaženje najboljeg modela po coherence-u\n",
    "best_model = max(lda_results, key=lambda x: x[\"coherence\"])\n",
    "\n",
    "print(\"\\n🏆 NAJBOLJI MODEL:\")\n",
    "print(f\"Topics: {best_model['num_topics']} | Alpha: {best_model['alpha']} | Passes: {best_model['passes']}\")\n",
    "print(f\"Coherence Score: {best_model['coherence']:.4f}\")\n",
    "pprint(best_model['model'].print_topics(num_words=10))"
   ]
  },
  {
   "cell_type": "code",
   "execution_count": 7,
   "id": "a9520f62-38ec-4ede-9f86-3bfc5b5bb2b8",
   "metadata": {},
   "outputs": [
    {
     "name": "stdout",
     "output_type": "stream",
     "text": [
      "LDA | Topics: 5 | Alpha: symmetric | Passes: 10 | Perplexity: -8.01 | Coherence: 0.2239\n",
      "LDA | Topics: 5 | Alpha: symmetric | Passes: 20 | Perplexity: -8.01 | Coherence: 0.2343\n",
      "LDA | Topics: 5 | Alpha: asymmetric | Passes: 10 | Perplexity: -8.00 | Coherence: 0.2337\n",
      "LDA | Topics: 5 | Alpha: asymmetric | Passes: 20 | Perplexity: -8.00 | Coherence: 0.2301\n",
      "LDA | Topics: 8 | Alpha: symmetric | Passes: 10 | Perplexity: -8.12 | Coherence: 0.2212\n",
      "LDA | Topics: 8 | Alpha: symmetric | Passes: 20 | Perplexity: -8.11 | Coherence: 0.2192\n",
      "LDA | Topics: 8 | Alpha: asymmetric | Passes: 10 | Perplexity: -8.10 | Coherence: 0.2301\n",
      "LDA | Topics: 8 | Alpha: asymmetric | Passes: 20 | Perplexity: -8.09 | Coherence: 0.2324\n",
      "LDA | Topics: 10 | Alpha: symmetric | Passes: 10 | Perplexity: -8.17 | Coherence: 0.2253\n",
      "LDA | Topics: 10 | Alpha: symmetric | Passes: 20 | Perplexity: -8.16 | Coherence: 0.2273\n",
      "LDA | Topics: 10 | Alpha: asymmetric | Passes: 10 | Perplexity: -8.16 | Coherence: 0.2145\n",
      "LDA | Topics: 10 | Alpha: asymmetric | Passes: 20 | Perplexity: -8.15 | Coherence: 0.2143\n"
     ]
    }
   ],
   "source": [
    "# Testiram koji model je najbolji prema coherence score-u\n",
    "for result in lda_results:\n",
    "    model = result[\"model\"]\n",
    "    coherence_model = CoherenceModel(\n",
    "        model=model, \n",
    "        texts=tokens_bigrams,  # <- koristi bigrame\n",
    "        dictionary=dictionary, \n",
    "        coherence='c_v'\n",
    "    )\n",
    "    coherence = coherence_model.get_coherence()\n",
    "    result[\"coherence\"] = coherence\n",
    "    print(f\"LDA | Topics: {result['num_topics']} | Alpha: {result['alpha']} | Passes: {result['passes']} | Perplexity: {result['perplexity']:.2f} | Coherence: {coherence:.4f}\")"
   ]
  },
  {
   "cell_type": "code",
   "execution_count": 8,
   "id": "576355dc-6efd-4dcb-85df-15c1294fc3f0",
   "metadata": {},
   "outputs": [
    {
     "name": "stdout",
     "output_type": "stream",
     "text": [
      "\n",
      "🏆 Najbolji LDA model po koherentnosti:\n",
      "Topics: 5, Alpha: symmetric, Passes: 20, Coherence: 0.2343\n"
     ]
    }
   ],
   "source": [
    "# Automatsko pronalaženje najboljeg LDA modela po coherence score-u (računato na bigramima)\n",
    "best_model = max(lda_results, key=lambda x: x[\"coherence\"])\n",
    "\n",
    "print(\"\\n🏆 Najbolji LDA model po koherentnosti:\")\n",
    "print(f\"Topics: {best_model['num_topics']}, Alpha: {best_model['alpha']}, Passes: {best_model['passes']}, Coherence: {best_model['coherence']:.4f}\")\n",
    "\n",
    "# Možeš koristiti ovaj model dalje (npr. za predikciju, vizualizaciju itd.)\n",
    "lda_best = best_model[\"model\"]"
   ]
  },
  {
   "cell_type": "code",
   "execution_count": 9,
   "id": "2ce5df67-02bd-4fba-aa72-8dca237fbba8",
   "metadata": {},
   "outputs": [
    {
     "data": {
      "text/html": [
       "\n",
       "<link rel=\"stylesheet\" type=\"text/css\" href=\"https://cdn.jsdelivr.net/gh/bmabey/pyLDAvis@3.4.0/pyLDAvis/js/ldavis.v1.0.0.css\">\n",
       "\n",
       "\n",
       "<div id=\"ldavis_el100061189312801671324911\" style=\"background-color:white;\"></div>\n",
       "<script type=\"text/javascript\">\n",
       "\n",
       "var ldavis_el100061189312801671324911_data = {\"mdsDat\": {\"x\": [-0.01759791392044723, -0.03674577007198545, -0.04032904362563455, -0.0021624267773888827, 0.09683515439545613], \"y\": [0.0021995933628403334, -0.013056870504004212, -0.05537487746809544, 0.09179914464354322, -0.025566990034283945], \"topics\": [1, 2, 3, 4, 5], \"cluster\": [1, 1, 1, 1, 1], \"Freq\": [28.396176053290525, 25.144152190148926, 19.23047477620152, 15.22423033579724, 12.004966644561794]}, \"tinfo\": {\"Term\": [\"wood\", \"peeve\", \"tell\", \"think\", \"team\", \"dragon\", \"card\", \"like\", \"dog\", \"keep\", \"go\", \"point\", \"snake\", \"mother\", \"hat\", \"I\", \"know\", \"quaffle\", \"broom\", \"pier\", \"corridor\", \"goblin\", \"quirrell\", \"yeh\", \"bludger\", \"crate\", \"ever\", \"train\", \"first_year\", \"meet\", \"snake\", \"curious\", \"favorite\", \"spring\", \"shall\", \"adventure\", \"gang\", \"step_forward\", \"freeze\", \"wine\", \"boa_constrictor\", \"anger\", \"poison\", \"gulp\", \"white_queen\", \"think_keep\", \"seemed\", \"try_take\", \"six_hundred\", \"think_let\", \"branch\", \"impressed\", \"whole_hall\", \"swiftly\", \"brazil\", \"stop_name\", \"wife\", \"astronomy\", \"look_quite\", \"finished\", \"death\", \"bottle\", \"indeed\", \"malfoy\", \"sorcerer_stone\", \"bedroom\", \"tree\", \"throw_cloak\", \"shed\", \"cupboard\", \"fire\", \"back\", \"try\", \"thing\", \"figure\", \"die\", \"bet\", \"feather\", \"three_head\", \"anymore\", \"scream\", \"christmas\", \"mean\", \"look\", \"see\", \"move\", \"one\", \"something\", \"well\", \"make\", \"though\", \"know\", \"give\", \"name\", \"quirrell\", \"yes\", \"come\", \"take\", \"leave\", \"go\", \"leg\", \"house\", \"I\", \"hear\", \"think\", \"tell\", \"find\", \"like\", \"letter\", \"professor\", \"people\", \"want\", \"time\", \"never\", \"right\", \"face\", \"ask\", \"knight\", \"coin\", \"archway\", \"sock\", \"hug\", \"emerald_green\", \"galleon\", \"reflect\", \"eye_like\", \"see_quirrell\", \"see_make\", \"knut\", \"I_warn\", \"desperately\", \"marcus_flint\", \"front_mirror\", \"thirty\", \"flint\", \"whole_crowd\", \"time_hogwart\", \"look_mirror\", \"tape_measure\", \"put_outer\", \"little_bronze\", \"walk_toward\", \"knowing\", \"red_card\", \"sway\", \"hush\", \"monday\", \"club\", \"doorway\", \"shape\", \"flat\", \"shriek\", \"count\", \"broom\", \"coat\", \"computer\", \"horse\", \"furiously\", \"old_man\", \"pain\", \"present\", \"street\", \"hand\", \"yer\", \"wand\", \"pair\", \"aunt\", \"high\", \"cat\", \"come\", \"one\", \"turn\", \"stand\", \"quirrell\", \"wall\", \"large\", \"put\", \"voice\", \"still\", \"look\", \"start\", \"wake\", \"go\", \"something\", \"professor\", \"make\", \"hold\", \"see\", \"well\", \"open\", \"inside\", \"face\", \"back\", \"even\", \"head\", \"time\", \"know\", \"like\", \"take\", \"give\", \"right\", \"people\", \"find\", \"beater\", \"wood\", \"rumor\", \"bin\", \"see_anythin\", \"team\", \"plain\", \"go_sleep\", \"ten_point\", \"sandy\", \"three_chaser\", \"wood_take\", \"ceremony\", \"pure\", \"notice_seem\", \"even_tell\", \"overtake_slytherin\", \"win\", \"countryside\", \"hoop\", \"king_cross\", \"sugar\", \"standard\", \"told\", \"admit\", \"nibble\", \"booger\", \"circumstance\", \"fantastic\", \"resign\", \"chaser\", \"quaffle\", \"bludger\", \"station\", \"nearly_headless\", \"first_year\", \"great_hall\", \"score\", \"plastic\", \"thousand\", \"hat\", \"platform_nine\", \"professor\", \"year\", \"nimbus_two\", \"slytherin\", \"yeh\", \"point\", \"even\", \"five_minute\", \"like\", \"look\", \"friend\", \"wizard\", \"one\", \"gryffindor\", \"yet\", \"become\", \"ball\", \"go\", \"stop\", \"know\", \"keep\", \"see\", \"bit\", \"turn\", \"head\", \"take\", \"find\", \"way\", \"sit\", \"want\", \"ter\", \"leave\", \"good\", \"back\", \"I\", \"give\", \"love\", \"card\", \"bartender\", \"discovery\", \"threaten\", \"peeve\", \"rid_norbert\", \"pasty\", \"ha\", \"vampire\", \"oh_I\", \"g\", \"password\", \"put_hat\", \"wherever_go\", \"village\", \"first_day\", \"walking_stick\", \"bezoar\", \"plant\", \"bar\", \"twitch\", \"garlic\", \"zombie\", \"tub\", \"state\", \"tremblin\", \"tug\", \"blonde\", \"diffrent\", \"trophy_room\", \"lemon_drop\", \"third_floor\", \"bloody_baron\", \"ickle\", \"nasty\", \"frog\", \"anywhere\", \"dog\", \"invisibility_cloak\", \"meet\", \"tell\", \"corridor\", \"path\", \"know\", \"think\", \"keep\", \"lock\", \"around\", \"follow\", \"either\", \"float\", \"go\", \"see\", \"eye\", \"want\", \"come\", \"toward\", \"right\", \"well\", \"forget\", \"suddenly\", \"turn\", \"look\", \"hear\", \"I\", \"time\", \"try\", \"take\", \"good\", \"find\", \"ask\", \"head\", \"back\", \"bit\", \"nail\", \"bye\", \"blow_toilet\", \"harry_see\", \"rock_cake\", \"goyle\", \"cliff\", \"little_boat\", \"dish\", \"biscuit\", \"tell_first\", \"git\", \"sunny\", \"importantly\", \"stalagmite\", \"moren\", \"fitch\", \"stalactite\", \"harbor\", \"gateway\", \"school_witchcraft\", \"see_dragon\", \"thrash\", \"torch\", \"passersby\", \"lent\", \"teddy\", \"polite\", \"rat\", \"rub\", \"think_anything\", \"motorcycle\", \"ministry_magic\", \"crate\", \"summer\", \"pier\", \"vault_seven\", \"hundred_thirteen\", \"dragon\", \"mother\", \"one_twin\", \"stroke\", \"four_hundred\", \"pale_boy\", \"high_voice\", \"lurk\", \"goblin\", \"scabber\", \"shut\", \"behind_back\", \"think\", \"go\", \"case\", \"like\", \"old\", \"I\", \"begin\", \"boy\", \"tell\", \"someone\", \"work\", \"face\", \"ever\", \"ask\", \"brother\", \"train\", \"look\", \"point\", \"long\", \"good\", \"see\", \"last\", \"seem\", \"oh\", \"right\", \"know\", \"still\", \"way\", \"keep\", \"one\", \"great\", \"hear\", \"something\", \"call\", \"find\", \"back\", \"come\"], \"Freq\": [46.0, 27.0, 107.0, 110.0, 23.0, 35.0, 12.0, 114.0, 22.0, 70.0, 186.0, 57.0, 17.0, 25.0, 21.0, 99.0, 153.0, 14.0, 37.0, 14.0, 27.0, 15.0, 60.0, 40.0, 15.0, 10.0, 34.0, 28.0, 18.0, 29.0, 16.330833374604545, 6.456959998887663, 5.560018506949558, 5.540748055949717, 6.301664396319577, 4.665777667802417, 4.662734554125648, 4.660102081237483, 4.644262484582991, 3.768481744461221, 3.768296201443303, 3.7672833915895327, 3.7671358419525625, 3.7668675462281955, 3.766337460495377, 3.765554952985026, 3.7643966753233786, 3.7584866227568385, 3.7518291935458925, 3.722030152136573, 7.35901394262103, 3.66080381873853, 2.8710804285221894, 2.8710265611944066, 2.870957860834336, 2.8709219492824807, 2.8708881195597185, 2.8708813536151663, 2.8708803127006197, 2.8708600148669623, 8.58003741267556, 13.36566546090775, 6.952692428927197, 7.579644628530936, 9.547845928312999, 5.5638750953444385, 17.187079271431653, 3.5177072141984596, 9.047716675228937, 13.825641435359556, 19.768039380518296, 55.67714508649301, 41.48152723020341, 27.95320638042636, 6.458727471787665, 15.898138729502646, 9.732557255508645, 8.017490759723593, 6.445294469564741, 5.43377118617411, 11.537131472692225, 12.276917768224873, 20.901870123125775, 71.08040701771337, 57.22656304363023, 21.495181005500328, 57.787986549786496, 38.77042782085186, 43.572220751534324, 36.87281562058521, 25.64205964911572, 50.541614133903266, 31.05660982773095, 18.085090823523586, 25.871591715770244, 20.53697544701187, 41.86338048610932, 36.066140156292775, 31.908556747480905, 50.86373554947131, 16.11243076628148, 22.318665157890067, 32.76707808350672, 25.860820332042792, 33.48515298342792, 32.16463005324276, 29.010384175827635, 31.974504929490628, 21.82622097690301, 30.98322327037175, 25.373131048704266, 26.087290028101435, 25.605511057558086, 22.83940972356808, 24.42815967776034, 24.16823290634725, 23.58722147025445, 7.2409517171389925, 4.595968253595769, 4.595898664824863, 4.587298690958049, 4.577602348309864, 4.538275475691859, 4.46230066770936, 3.7123346491510274, 3.7121904022285523, 3.7120185041388294, 3.7119189599367375, 3.7117631916945757, 3.711726093045185, 3.7110705299550215, 3.7073631997062892, 3.701598161761543, 7.248666853653881, 7.173902245091256, 2.8281146095342415, 2.8278528451509635, 2.8278261156892905, 2.827795929831712, 2.827770122075614, 2.82773094958868, 2.8277346364109794, 2.827615505965421, 2.827572646656187, 2.8268451905311793, 2.8267919620342274, 2.8251819728212317, 5.477939562036139, 5.454875262582066, 5.985248614737414, 7.01069583893973, 6.366105653645562, 6.363199976820618, 22.133857953711328, 8.80152045976587, 4.596354909084449, 4.59616780285274, 7.242140717330642, 4.586076509365701, 9.017854896961502, 8.111966711410258, 12.124907799324868, 29.546444613631724, 17.699003373759222, 22.7281128758534, 10.781873093699385, 18.780248810056193, 12.780431256148768, 11.901897448650072, 41.513102939387, 50.31790927952747, 31.203372604736085, 25.314160641524932, 24.271597344796305, 18.60287947604041, 18.77139306289234, 22.088222467285764, 18.932142201981122, 26.35931761774139, 51.63942861191754, 23.373221981386255, 10.70760021506098, 46.12159763259875, 30.392822878738098, 36.24501730264922, 28.78135156317776, 18.941091963113617, 37.55877587409844, 30.585660275712232, 17.043993306940553, 17.990415338560165, 24.06072585654324, 29.481351922519547, 21.134895017498835, 22.03261965677299, 22.30792205153544, 27.453417159986234, 23.527788319478454, 22.510501876436503, 20.06455335815319, 19.742879955916393, 19.15023433170813, 18.94890802638896, 4.462600101128205, 39.991738775387375, 3.6132335632942327, 3.6131102007627294, 3.612175112773933, 18.920886878314885, 2.7529566669419054, 2.7528632638823383, 2.7524991681822155, 2.7524760817656055, 2.7523661128803796, 2.7522020407134797, 2.7511964598495386, 2.75054263843257, 2.7478284865073057, 2.7415433417593915, 2.738131662834569, 8.63571204640034, 2.6496838999259573, 4.4730841539841215, 4.45313643264001, 1.8924536646925507, 1.8923782373161457, 1.8923724216539464, 1.8923438720395127, 1.8923158511216427, 1.8922971705097293, 1.8922939983303477, 1.8922774325046887, 1.8922381327267954, 5.066580235654223, 10.592819132692922, 10.994309893222878, 7.24375127464523, 4.297241439257187, 12.525739408594559, 8.741495064700194, 5.334137705588358, 3.6135370351217313, 12.064576429254492, 12.2174952134487, 6.837815938337391, 42.186669789342375, 17.23426870816933, 7.7706749424216675, 19.079312565915405, 16.991049960772084, 21.516485296018146, 23.087729187271634, 4.472805354662924, 31.472234938592063, 48.33201870669943, 9.78003698720162, 14.658302556193908, 36.53667148591313, 16.79098836139601, 13.454127754537149, 11.01659551077117, 9.461210401639018, 33.5697025033718, 15.639717052677954, 28.28638557872599, 18.345980825213605, 28.35515278828729, 16.612824668754932, 19.407558409454865, 18.354696564296514, 20.67978844263396, 18.8347530440329, 16.97936788150308, 15.857795221083546, 17.059162996452038, 14.5857343708048, 16.41428853519699, 15.438431696989365, 17.019921022716407, 15.480727422076273, 15.033520622157381, 4.30530775823155, 10.756957596457937, 3.476359535529182, 3.4741942145221754, 3.4699542592771406, 22.297734609975947, 2.6494613918781633, 2.649359822696907, 2.6493430805241722, 2.649219746518361, 2.6491134337214963, 2.6490514876823785, 2.6483837540264803, 2.648201822416098, 2.6478033587050147, 2.646422129454411, 2.6460683115372867, 2.6458623828126515, 2.640132653230451, 7.610249488819314, 4.305428859947664, 4.299851205101136, 1.8211725317453251, 1.821099842812036, 1.8210950991964276, 1.8210890999178646, 1.8210719391908115, 1.8210376177367056, 1.8209996688118406, 1.8210052495360853, 3.443633610484882, 3.4769661602545985, 6.467268611170484, 3.317419671926853, 3.2299086140793714, 5.878742174479988, 4.173993595786142, 4.123222956968502, 10.838707393631234, 6.780929310846026, 12.771072228484691, 31.021167815483498, 11.586521094008303, 5.962729284003051, 34.39497456710802, 25.803036618547626, 18.754829681442384, 5.870666866497672, 16.634596461754715, 11.569277772236525, 7.1393552319793105, 4.305494991529966, 26.936789768657576, 24.92107904949679, 14.695263534609122, 16.69576566405781, 20.632178620545137, 12.287304915029061, 16.317983000881217, 18.6712728457586, 9.777810598537968, 12.746988054933562, 15.143753973968126, 23.235637823436683, 13.60482461765325, 16.14112426883727, 14.824276485412163, 14.873836665141091, 15.312046294296207, 12.518912784204812, 13.818329733523514, 12.336069283480674, 12.379068763787341, 12.618209494548806, 11.583143639695312, 3.32472963843367, 3.3228058971809857, 2.5335166223861822, 2.5335137619679866, 2.533471295759389, 2.533471735823727, 2.5332134180574393, 2.5331322261871154, 1.7416740943034743, 1.7416350385934947, 1.741625577210232, 1.7416168859395604, 1.7415804706156077, 1.7415755198918075, 1.741578600342172, 1.7415461455972594, 1.741532833651041, 1.7415387745196014, 1.7415211719460895, 1.741481456139603, 1.741450321587704, 1.7408720770478372, 1.7403229867703498, 1.739981386828134, 1.7394540797353675, 1.7386955188330881, 1.7327245058656753, 1.732613279604297, 6.269919627832687, 3.289688415375656, 3.2888181881476606, 5.7025908838651365, 4.117590475394042, 5.5993293469364875, 4.1097133237474575, 6.593909075378417, 3.3263816399577637, 3.3263880208906618, 12.33126108135056, 9.665530869219825, 2.533784621567901, 2.5337331340403786, 2.5336730652582693, 2.529640755731026, 2.5285601777495628, 2.5338336887415656, 6.496308086026865, 5.1852464076420395, 6.922910855731667, 2.472388825447838, 21.27120154860751, 29.024793690682927, 4.910421387979445, 19.934433951994553, 11.330498448962567, 17.870655425736306, 7.642179293417735, 13.326238627953858, 17.139993722344645, 7.184841990296779, 9.093478034586013, 13.693884218066506, 8.5408751635542, 12.269071189132939, 6.150917869669677, 7.59559672300446, 19.959867910461927, 10.271606838066157, 10.337520554710222, 10.923068402326951, 15.63014178064631, 9.348760237071335, 10.121404078288927, 8.095556457562846, 10.902768234424327, 12.870974467928269, 10.034167484221195, 9.882800314206152, 9.71761512398425, 12.156487769336715, 8.330769965987225, 9.223139471203504, 9.87630144406555, 8.600319934432635, 9.251085316911032, 9.203564529329572, 8.944212611848295], \"Total\": [46.0, 27.0, 107.0, 110.0, 23.0, 35.0, 12.0, 114.0, 22.0, 70.0, 186.0, 57.0, 17.0, 25.0, 21.0, 99.0, 153.0, 14.0, 37.0, 14.0, 27.0, 15.0, 60.0, 40.0, 15.0, 10.0, 34.0, 28.0, 18.0, 29.0, 17.891990021409775, 7.134703608160885, 6.237124270500532, 6.235553565529945, 7.121853337349339, 5.339781574418892, 5.33943188373976, 5.339135407454969, 5.339111766056753, 4.44210477653827, 4.4420969241993555, 4.441965377192232, 4.441945824545092, 4.441969754931718, 4.441888660622673, 4.441845247951313, 4.441638270514921, 4.440807062904479, 4.441205038307498, 4.441005534158055, 8.824311419998455, 4.436759674595688, 3.544413847118823, 3.544400135417897, 3.544401920087527, 3.5443913649904744, 3.5443903583865777, 3.5443982704999195, 3.5443976825226824, 3.544392387833442, 10.663968961132428, 16.916286822948884, 8.828912693522796, 9.710595558887459, 12.369042675700632, 7.1204173690062875, 24.601272603116204, 4.412092869448725, 12.362889053473355, 20.506063369360447, 31.599094121882175, 124.00019205560734, 87.29642114402401, 54.14915325588582, 8.718451399206444, 27.218831904549738, 14.808699471865227, 11.576045091744584, 8.790295025763388, 7.094734528299563, 18.680337719032437, 20.424661829040282, 41.82440865967383, 214.24736007022895, 163.69171253615906, 43.67530956794065, 167.49485464016715, 97.51097955008785, 114.7213210060415, 91.63364179483517, 55.62636445028039, 153.5473659076518, 76.9731316680154, 35.67350102229528, 60.78255995525599, 43.613784163922425, 126.90237135450225, 101.57395997754253, 85.03009816109551, 186.51661914478234, 30.729205395127952, 52.33269898284067, 99.46216901172943, 68.06142622249303, 110.01464597414349, 107.39607610110153, 89.86346029668404, 114.38954461669047, 51.02408357432703, 128.50435325989488, 76.28412371028443, 85.3844322493962, 84.76205122060719, 59.83307288868575, 85.15141077681963, 82.78475197356488, 71.99978875095526, 7.9245056499824, 5.272626448307304, 5.2726120392266544, 5.271498402781509, 5.270361653860438, 5.268997957085787, 5.273999254819968, 4.388420689505653, 4.388421887025199, 4.388430988414322, 4.388404701130594, 4.388388587299907, 4.388364620471262, 4.388318759882251, 4.387741872889334, 4.387415652443816, 8.821529007721114, 8.81878327185688, 3.5041763818694607, 3.5041396849383317, 3.504180761611887, 3.5041571015079196, 3.5041726517822176, 3.5041560957560134, 3.504164087906199, 3.5041665775045083, 3.5041393882929492, 3.5040251672440914, 3.5039642389325656, 3.5040599378629067, 7.0162256708386215, 7.014756701399517, 7.943112227529365, 9.652756908267358, 8.72831290190717, 8.761487926884845, 37.1234055950084, 13.016162966963591, 6.168881104295534, 6.168818933537265, 10.547016904454281, 6.167404640998997, 13.793156308121363, 12.183386279284672, 20.851113040972265, 66.39411531680491, 35.49136863929678, 49.804449846577654, 18.320360509037247, 39.0495654368377, 23.651159413792, 21.66771245148686, 126.90237135450225, 167.49485464016715, 85.47974775906602, 64.55591567456923, 60.78255995525599, 41.70399942713115, 42.378647457585664, 54.94457717799971, 44.20064304473731, 72.90555019625626, 214.24736007022895, 63.84032183225195, 19.221769587566403, 186.51661914478234, 97.51097955008785, 128.50435325989488, 91.63364179483517, 48.73014960525726, 163.69171253615906, 114.7213210060415, 42.22851707791576, 47.45079055096707, 82.78475197356488, 124.00019205560734, 68.04576805857509, 76.92268711997532, 84.76205122060719, 153.5473659076518, 114.38954461669047, 101.57395997754253, 76.9731316680154, 85.15141077681963, 76.28412371028443, 89.86346029668404, 5.1551047032824675, 46.63494279919599, 4.294398389347552, 4.294396575735769, 4.294423625419343, 23.168739998305487, 3.4337108434339574, 3.433715518699114, 3.433717944978791, 3.4337165196763872, 3.4337059644492998, 3.433712723558301, 3.433596069576858, 3.4334263007080974, 3.433141290051537, 3.4334368226619523, 3.432819506760542, 11.178555046455847, 3.4356319630828627, 6.037979001843064, 6.038817055928462, 2.5730306714478064, 2.573019652069506, 2.573024657009446, 2.57302307602209, 2.573025974890705, 2.573024001433384, 2.5730223607945457, 2.573024549169455, 2.5730248543557406, 6.906166372187964, 14.71286480409668, 15.493332686826985, 10.198945983370997, 5.975873658560254, 18.916159368978605, 13.046126496478823, 7.783023617762236, 5.177319770004319, 20.89551471384497, 21.8062431313674, 11.186165548755557, 128.50435325989488, 39.25899154163726, 13.921934541452318, 47.622835855736, 40.74698582614915, 57.13256339013808, 68.04576805857509, 6.842574021725378, 114.38954461669047, 214.24736007022895, 21.671955531637217, 40.00731967381731, 167.49485464016715, 50.896246797782304, 36.4919743726718, 26.829544302315064, 20.95491722832791, 186.51661914478234, 51.79466631480462, 153.5473659076518, 70.61399364618683, 163.69171253615906, 60.42460665046077, 85.47974775906602, 76.92268711997532, 101.57395997754253, 89.86346029668404, 69.58651807049178, 64.65801124875603, 85.3844322493962, 49.611451781194376, 85.03009816109551, 66.58738275409345, 124.00019205560734, 99.46216901172943, 76.9731316680154, 4.993081572990895, 12.52980088037665, 4.164799044694182, 4.164749546878863, 4.1649678117471085, 27.564892304447167, 3.336605343147334, 3.3365947849044217, 3.336603140397767, 3.3366161674016053, 3.336619434454356, 3.3366305194253254, 3.33667587850477, 3.336536461052704, 3.336473615242227, 3.336499330698516, 3.33623800956976, 3.3368945994232924, 3.3366004044161954, 10.048765380016668, 5.852732966529615, 5.8524429719479825, 2.5083478011425564, 2.508350133255404, 2.508353502128891, 2.5083527990229353, 2.508358315159405, 2.508361000765309, 2.5083518561595586, 2.5083655981726345, 4.958613907996059, 5.024565223472424, 11.09292247586228, 5.063893888676348, 4.945584595154064, 10.20438369171177, 6.760107247164796, 6.6960470019115315, 22.979434748144296, 12.844952583523229, 29.853200947426217, 107.39607610110153, 27.52906717814679, 11.030491045241387, 153.5473659076518, 110.01464597414349, 70.61399364618683, 11.87292137085822, 67.04751450944431, 38.194715665194806, 17.531226883390154, 7.596636306642817, 186.51661914478234, 163.69171253615906, 66.7086827098793, 85.3844322493962, 126.90237135450225, 49.14625451423309, 85.15141077681963, 114.7213210060415, 32.80692180675369, 56.9260582647704, 85.47974775906602, 214.24736007022895, 68.06142622249303, 99.46216901172943, 84.76205122060719, 87.29642114402401, 101.57395997754253, 66.58738275409345, 89.86346029668404, 71.99978875095526, 76.92268711997532, 124.00019205560734, 60.42460665046077, 4.02041731563222, 4.020233786094125, 3.2282395724330817, 3.2282584255798032, 3.228246304395644, 3.2282565592760535, 3.2282919787409696, 3.2283035226818577, 2.436159919484653, 2.4361684874894403, 2.436159436490422, 2.4361572716306172, 2.4361672933189285, 2.4361702968634553, 2.4361751492770845, 2.436178773627416, 2.436164503975726, 2.43617940659267, 2.4361767552498463, 2.4361872361080668, 2.4361812635028937, 2.436149560449824, 2.4361152031746984, 2.436092366204798, 2.4360830967472866, 2.4361288125496667, 2.4360722603068847, 2.4363124383085997, 8.957125419690106, 4.881691233175924, 4.921013853396986, 9.06464312445514, 6.579686258514046, 10.705725062410995, 7.488490837275725, 14.215042743589734, 5.799102766362261, 5.799239919518541, 35.01536213022384, 25.20839007304605, 4.055682817924452, 4.087917352789802, 4.08792805063667, 4.088287992413246, 4.087823328583273, 4.1103479631785, 15.948495331524688, 11.742110398538781, 19.30809710330401, 4.128217362073617, 110.01464597414349, 186.51661914478234, 11.793785362890294, 114.38954461669047, 46.99945918472826, 99.46216901172943, 25.314076237348914, 67.13049109157141, 107.39607610110153, 22.930796696216394, 36.52255040100702, 82.78475197356488, 34.21294033416206, 71.99978875095526, 18.706699758387526, 28.62340599006678, 214.24736007022895, 57.13256339013808, 58.32329848305629, 66.58738275409345, 163.69171253615906, 48.707536959155775, 59.397011161552115, 36.59032902613848, 85.15141077681963, 153.5473659076518, 72.90555019625626, 69.58651807049178, 70.61399364618683, 167.49485464016715, 41.104932194589495, 68.06142622249303, 97.51097955008785, 49.77041143993574, 89.86346029668404, 124.00019205560734, 126.90237135450225], \"Category\": [\"Default\", \"Default\", \"Default\", \"Default\", \"Default\", \"Default\", \"Default\", \"Default\", \"Default\", \"Default\", \"Default\", \"Default\", \"Default\", \"Default\", \"Default\", \"Default\", \"Default\", \"Default\", \"Default\", \"Default\", \"Default\", \"Default\", \"Default\", \"Default\", \"Default\", \"Default\", \"Default\", \"Default\", \"Default\", \"Default\", \"Topic1\", \"Topic1\", \"Topic1\", \"Topic1\", \"Topic1\", \"Topic1\", \"Topic1\", \"Topic1\", \"Topic1\", \"Topic1\", \"Topic1\", \"Topic1\", \"Topic1\", \"Topic1\", \"Topic1\", \"Topic1\", \"Topic1\", \"Topic1\", \"Topic1\", \"Topic1\", \"Topic1\", \"Topic1\", \"Topic1\", \"Topic1\", \"Topic1\", \"Topic1\", \"Topic1\", \"Topic1\", \"Topic1\", \"Topic1\", \"Topic1\", \"Topic1\", \"Topic1\", \"Topic1\", \"Topic1\", \"Topic1\", \"Topic1\", \"Topic1\", \"Topic1\", \"Topic1\", \"Topic1\", \"Topic1\", \"Topic1\", \"Topic1\", \"Topic1\", \"Topic1\", \"Topic1\", \"Topic1\", \"Topic1\", \"Topic1\", \"Topic1\", \"Topic1\", \"Topic1\", \"Topic1\", \"Topic1\", \"Topic1\", \"Topic1\", \"Topic1\", \"Topic1\", \"Topic1\", \"Topic1\", \"Topic1\", \"Topic1\", \"Topic1\", \"Topic1\", \"Topic1\", \"Topic1\", \"Topic1\", \"Topic1\", \"Topic1\", \"Topic1\", \"Topic1\", \"Topic1\", \"Topic1\", \"Topic1\", \"Topic1\", \"Topic1\", \"Topic1\", \"Topic1\", \"Topic1\", \"Topic1\", \"Topic1\", \"Topic1\", \"Topic1\", \"Topic1\", \"Topic1\", \"Topic1\", \"Topic2\", \"Topic2\", \"Topic2\", \"Topic2\", \"Topic2\", \"Topic2\", \"Topic2\", \"Topic2\", \"Topic2\", \"Topic2\", \"Topic2\", \"Topic2\", \"Topic2\", \"Topic2\", \"Topic2\", \"Topic2\", \"Topic2\", \"Topic2\", \"Topic2\", \"Topic2\", \"Topic2\", \"Topic2\", \"Topic2\", \"Topic2\", \"Topic2\", \"Topic2\", \"Topic2\", \"Topic2\", \"Topic2\", \"Topic2\", \"Topic2\", \"Topic2\", \"Topic2\", \"Topic2\", \"Topic2\", \"Topic2\", \"Topic2\", \"Topic2\", \"Topic2\", \"Topic2\", \"Topic2\", \"Topic2\", \"Topic2\", \"Topic2\", \"Topic2\", \"Topic2\", \"Topic2\", \"Topic2\", \"Topic2\", \"Topic2\", \"Topic2\", \"Topic2\", \"Topic2\", \"Topic2\", \"Topic2\", \"Topic2\", \"Topic2\", \"Topic2\", \"Topic2\", \"Topic2\", \"Topic2\", \"Topic2\", \"Topic2\", \"Topic2\", \"Topic2\", \"Topic2\", \"Topic2\", \"Topic2\", \"Topic2\", \"Topic2\", \"Topic2\", \"Topic2\", \"Topic2\", \"Topic2\", \"Topic2\", \"Topic2\", \"Topic2\", \"Topic2\", \"Topic2\", \"Topic2\", \"Topic2\", \"Topic2\", \"Topic2\", \"Topic2\", \"Topic2\", \"Topic2\", \"Topic3\", \"Topic3\", \"Topic3\", \"Topic3\", \"Topic3\", \"Topic3\", \"Topic3\", \"Topic3\", \"Topic3\", \"Topic3\", \"Topic3\", \"Topic3\", \"Topic3\", \"Topic3\", \"Topic3\", \"Topic3\", \"Topic3\", \"Topic3\", \"Topic3\", \"Topic3\", \"Topic3\", \"Topic3\", \"Topic3\", \"Topic3\", \"Topic3\", \"Topic3\", \"Topic3\", \"Topic3\", \"Topic3\", \"Topic3\", \"Topic3\", \"Topic3\", \"Topic3\", \"Topic3\", \"Topic3\", \"Topic3\", \"Topic3\", \"Topic3\", \"Topic3\", \"Topic3\", \"Topic3\", \"Topic3\", \"Topic3\", \"Topic3\", \"Topic3\", \"Topic3\", \"Topic3\", \"Topic3\", \"Topic3\", \"Topic3\", \"Topic3\", \"Topic3\", \"Topic3\", \"Topic3\", \"Topic3\", \"Topic3\", \"Topic3\", \"Topic3\", \"Topic3\", \"Topic3\", \"Topic3\", \"Topic3\", \"Topic3\", \"Topic3\", \"Topic3\", \"Topic3\", \"Topic3\", \"Topic3\", \"Topic3\", \"Topic3\", \"Topic3\", \"Topic3\", \"Topic3\", \"Topic3\", \"Topic3\", \"Topic3\", \"Topic3\", \"Topic3\", \"Topic4\", \"Topic4\", \"Topic4\", \"Topic4\", \"Topic4\", \"Topic4\", \"Topic4\", \"Topic4\", \"Topic4\", \"Topic4\", \"Topic4\", \"Topic4\", \"Topic4\", \"Topic4\", \"Topic4\", \"Topic4\", \"Topic4\", \"Topic4\", \"Topic4\", \"Topic4\", \"Topic4\", \"Topic4\", \"Topic4\", \"Topic4\", \"Topic4\", \"Topic4\", \"Topic4\", \"Topic4\", \"Topic4\", \"Topic4\", \"Topic4\", \"Topic4\", \"Topic4\", \"Topic4\", \"Topic4\", \"Topic4\", \"Topic4\", \"Topic4\", \"Topic4\", \"Topic4\", \"Topic4\", \"Topic4\", \"Topic4\", \"Topic4\", \"Topic4\", \"Topic4\", \"Topic4\", \"Topic4\", \"Topic4\", \"Topic4\", \"Topic4\", \"Topic4\", \"Topic4\", \"Topic4\", \"Topic4\", \"Topic4\", \"Topic4\", \"Topic4\", \"Topic4\", \"Topic4\", \"Topic4\", \"Topic4\", \"Topic4\", \"Topic4\", \"Topic4\", \"Topic4\", \"Topic4\", \"Topic4\", \"Topic4\", \"Topic4\", \"Topic4\", \"Topic4\", \"Topic4\", \"Topic4\", \"Topic4\", \"Topic5\", \"Topic5\", \"Topic5\", \"Topic5\", \"Topic5\", \"Topic5\", \"Topic5\", \"Topic5\", \"Topic5\", \"Topic5\", \"Topic5\", \"Topic5\", \"Topic5\", \"Topic5\", \"Topic5\", \"Topic5\", \"Topic5\", \"Topic5\", \"Topic5\", \"Topic5\", \"Topic5\", \"Topic5\", \"Topic5\", \"Topic5\", \"Topic5\", \"Topic5\", \"Topic5\", \"Topic5\", \"Topic5\", \"Topic5\", \"Topic5\", \"Topic5\", \"Topic5\", \"Topic5\", \"Topic5\", \"Topic5\", \"Topic5\", \"Topic5\", \"Topic5\", \"Topic5\", \"Topic5\", \"Topic5\", \"Topic5\", \"Topic5\", \"Topic5\", \"Topic5\", \"Topic5\", \"Topic5\", \"Topic5\", \"Topic5\", \"Topic5\", \"Topic5\", \"Topic5\", \"Topic5\", \"Topic5\", \"Topic5\", \"Topic5\", \"Topic5\", \"Topic5\", \"Topic5\", \"Topic5\", \"Topic5\", \"Topic5\", \"Topic5\", \"Topic5\", \"Topic5\", \"Topic5\", \"Topic5\", \"Topic5\", \"Topic5\", \"Topic5\", \"Topic5\", \"Topic5\", \"Topic5\", \"Topic5\", \"Topic5\", \"Topic5\", \"Topic5\", \"Topic5\", \"Topic5\", \"Topic5\", \"Topic5\", \"Topic5\", \"Topic5\", \"Topic5\", \"Topic5\", \"Topic5\"], \"logprob\": [30.0, 29.0, 28.0, 27.0, 26.0, 25.0, 24.0, 23.0, 22.0, 21.0, 20.0, 19.0, 18.0, 17.0, 16.0, 15.0, 14.0, 13.0, 12.0, 11.0, 10.0, 9.0, 8.0, 7.0, 6.0, 5.0, 4.0, 3.0, 2.0, 1.0, -6.3054, -7.2333, -7.3828, -7.3863, -7.2576, -7.5582, -7.5588, -7.5594, -7.5628, -7.7718, -7.7718, -7.7721, -7.7721, -7.7722, -7.7723, -7.7726, -7.7729, -7.7744, -7.7762, -7.7842, -7.1025, -7.8008, -8.0438, -8.0438, -8.0438, -8.0438, -8.0438, -8.0438, -8.0438, -8.0438, -6.949, -6.5058, -7.1593, -7.073, -6.8421, -7.3822, -6.2543, -7.8406, -6.8959, -6.4719, -6.1144, -5.0789, -5.3732, -5.7679, -7.233, -6.3322, -6.823, -7.0168, -7.2351, -7.4058, -6.6529, -6.5907, -6.0586, -4.8346, -5.0514, -6.0306, -5.0417, -5.4408, -5.324, -5.491, -5.8542, -5.1756, -5.6626, -6.2034, -5.8453, -6.0762, -5.364, -5.5131, -5.6356, -5.1693, -6.3189, -5.993, -5.609, -5.8457, -5.5873, -5.6276, -5.7308, -5.6335, -6.0153, -5.665, -5.8648, -5.837, -5.8556, -5.97, -5.9027, -5.9134, -5.9377, -6.9971, -7.4516, -7.4517, -7.4535, -7.4556, -7.4643, -7.4812, -7.6652, -7.6652, -7.6652, -7.6653, -7.6653, -7.6653, -7.6655, -7.6665, -7.6681, -6.996, -7.0064, -7.9372, -7.9373, -7.9373, -7.9373, -7.9373, -7.9373, -7.9373, -7.9374, -7.9374, -7.9377, -7.9377, -7.9382, -7.2761, -7.2803, -7.1875, -7.0294, -7.1258, -7.1263, -5.8797, -6.8019, -7.4516, -7.4516, -6.9969, -7.4538, -6.7776, -6.8835, -6.4816, -5.5909, -6.1033, -5.8532, -6.599, -6.044, -6.4289, -6.5001, -5.2508, -5.0585, -5.5363, -5.7455, -5.7875, -6.0535, -6.0445, -5.8818, -6.036, -5.705, -5.0325, -5.8252, -6.6059, -5.1455, -5.5626, -5.3865, -5.6171, -6.0355, -5.3509, -5.5563, -6.141, -6.087, -5.7962, -5.5931, -5.9259, -5.8843, -5.8719, -5.6643, -5.8186, -5.8628, -5.9779, -5.994, -6.0245, -6.0351, -7.213, -5.02, -7.4241, -7.4241, -7.4244, -5.7684, -7.696, -7.696, -7.6962, -7.6962, -7.6962, -7.6963, -7.6967, -7.6969, -7.6979, -7.7002, -7.7014, -6.5528, -7.7342, -7.2106, -7.2151, -8.0708, -8.0709, -8.0709, -8.0709, -8.0709, -8.0709, -8.0709, -8.0709, -8.0709, -7.086, -6.3485, -6.3113, -6.7285, -7.2507, -6.1809, -6.5406, -7.0346, -7.424, -6.2184, -6.2058, -6.7862, -4.9666, -5.8618, -6.6583, -5.7601, -5.876, -5.6399, -5.5694, -7.2107, -5.2596, -4.8306, -6.4283, -6.0237, -5.1104, -5.8878, -6.1094, -6.3093, -6.4615, -5.1951, -5.9589, -5.3663, -5.7993, -5.3639, -5.8985, -5.743, -5.7988, -5.6795, -5.773, -5.8767, -5.945, -5.872, -6.0286, -5.9105, -5.9718, -5.8743, -5.9691, -5.9984, -7.0152, -6.0995, -7.2291, -7.2297, -7.2309, -5.3706, -7.5007, -7.5008, -7.5008, -7.5008, -7.5009, -7.5009, -7.5011, -7.5012, -7.5013, -7.5019, -7.502, -7.5021, -7.5043, -6.4456, -7.0152, -7.0165, -7.8756, -7.8756, -7.8756, -7.8756, -7.8757, -7.8757, -7.8757, -7.8757, -7.2386, -7.2289, -6.6083, -7.2759, -7.3026, -6.7037, -7.0462, -7.0584, -6.092, -6.561, -5.9279, -5.0404, -6.0252, -6.6896, -4.9372, -5.2246, -5.5436, -6.7051, -5.6636, -6.0267, -6.5095, -7.0152, -5.1816, -5.2594, -5.7876, -5.6599, -5.4482, -5.9665, -5.6828, -5.5481, -6.195, -5.9298, -5.7575, -5.3294, -5.8647, -5.6937, -5.7788, -5.7755, -5.7464, -5.9478, -5.8491, -5.9626, -5.9591, -5.9399, -6.0255, -7.0361, -7.0367, -7.3079, -7.3079, -7.3079, -7.3079, -7.308, -7.3081, -7.6827, -7.6827, -7.6827, -7.6827, -7.6827, -7.6827, -7.6827, -7.6827, -7.6827, -7.6827, -7.6828, -7.6828, -7.6828, -7.6831, -7.6834, -7.6836, -7.6839, -7.6844, -7.6878, -7.6879, -6.4017, -7.0467, -7.047, -6.4966, -6.8222, -6.5149, -6.8242, -6.3514, -7.0356, -7.0356, -5.7254, -5.9689, -7.3078, -7.3078, -7.3078, -7.3094, -7.3099, -7.3078, -6.3663, -6.5917, -6.3027, -7.3323, -5.1802, -4.8694, -6.6462, -5.2451, -5.81, -5.3544, -6.2038, -5.6478, -5.3961, -6.2655, -6.03, -5.6206, -6.0926, -5.7304, -6.4209, -6.2099, -5.2438, -5.9081, -5.9017, -5.8466, -5.4883, -6.0023, -5.9229, -6.1462, -5.8485, -5.6825, -5.9315, -5.9467, -5.9636, -5.7396, -6.1176, -6.0158, -5.9474, -6.0857, -6.0128, -6.0179, -6.0465], \"loglift\": [30.0, 29.0, 28.0, 27.0, 26.0, 25.0, 24.0, 23.0, 22.0, 21.0, 20.0, 19.0, 18.0, 17.0, 16.0, 15.0, 14.0, 13.0, 12.0, 11.0, 10.0, 9.0, 8.0, 7.0, 6.0, 5.0, 4.0, 3.0, 2.0, 1.0, 1.1676, 1.1591, 1.144, 1.1408, 1.1366, 1.124, 1.1234, 1.1229, 1.1195, 1.0945, 1.0944, 1.0942, 1.0941, 1.0941, 1.0939, 1.0937, 1.0935, 1.0921, 1.0902, 1.0823, 1.0773, 1.0667, 1.0482, 1.0482, 1.0482, 1.0482, 1.0482, 1.0482, 1.0482, 1.0482, 1.0415, 1.0233, 1.02, 1.0112, 1.0, 1.0122, 0.9003, 1.0324, 0.9467, 0.8647, 0.7899, 0.4582, 0.5149, 0.5977, 0.9589, 0.7212, 0.8392, 0.8916, 0.9486, 0.9922, 0.777, 0.7499, 0.5653, 0.1556, 0.2079, 0.55, 0.1947, 0.3366, 0.2908, 0.3486, 0.4845, 0.1477, 0.3513, 0.5796, 0.4048, 0.5058, 0.1499, 0.2235, 0.2788, -0.0405, 0.6133, 0.4067, 0.1486, 0.2912, 0.0694, 0.0533, 0.1283, -0.0158, 0.4097, -0.1636, 0.1581, 0.0732, 0.0619, 0.2958, 0.0102, 0.0277, 0.143, 1.2903, 1.2432, 1.2432, 1.2415, 1.2396, 1.2313, 1.2134, 1.2132, 1.2132, 1.2131, 1.2131, 1.2131, 1.2131, 1.2129, 1.2121, 1.2106, 1.1842, 1.1741, 1.1662, 1.1661, 1.1661, 1.1661, 1.1661, 1.1661, 1.1661, 1.166, 1.166, 1.1658, 1.1658, 1.1652, 1.133, 1.129, 1.0975, 1.0607, 1.065, 1.0607, 0.8634, 0.9893, 1.0863, 1.0863, 1.0046, 1.0843, 0.9556, 0.9738, 0.8384, 0.5709, 0.6848, 0.596, 0.8504, 0.6485, 0.765, 0.7814, 0.2631, 0.178, 0.3728, 0.4444, 0.4625, 0.5733, 0.5662, 0.4693, 0.5327, 0.3632, -0.0423, 0.3758, 0.7955, -0.0167, 0.2148, 0.1149, 0.2225, 0.4356, -0.0915, 0.0586, 0.4732, 0.4107, 0.1449, -0.056, 0.2113, 0.1303, 0.0456, -0.341, -0.2009, -0.1263, 0.036, -0.0811, -0.0016, -0.176, 1.5044, 1.495, 1.476, 1.4759, 1.4757, 1.4461, 1.4277, 1.4277, 1.4275, 1.4275, 1.4275, 1.4274, 1.4271, 1.4269, 1.426, 1.4236, 1.4226, 1.3906, 1.3889, 1.3487, 1.3441, 1.3415, 1.3414, 1.3414, 1.3414, 1.3414, 1.3414, 1.3414, 1.3414, 1.3414, 1.3389, 1.3201, 1.3056, 1.3065, 1.3189, 1.2364, 1.2483, 1.2709, 1.2891, 1.0994, 1.0693, 1.1565, 0.5348, 0.8254, 1.0656, 0.734, 0.774, 0.6721, 0.5678, 1.2235, 0.3582, 0.1596, 0.853, 0.6446, 0.126, 0.5397, 0.6509, 0.7586, 0.8535, -0.0662, 0.4512, -0.043, 0.3009, -0.1045, 0.3575, 0.1661, 0.2158, 0.057, 0.0861, 0.2381, 0.2432, 0.0382, 0.4245, 0.0038, 0.187, -0.3372, -0.2115, 0.0155, 1.7341, 1.7297, 1.7016, 1.701, 1.6997, 1.6702, 1.6517, 1.6516, 1.6516, 1.6516, 1.6515, 1.6515, 1.6513, 1.6512, 1.6511, 1.6506, 1.6505, 1.6502, 1.6482, 1.6043, 1.5752, 1.574, 1.5621, 1.5621, 1.5621, 1.5621, 1.5621, 1.5621, 1.562, 1.562, 1.5177, 1.5141, 1.3427, 1.4593, 1.4562, 1.3308, 1.4001, 1.3974, 1.1308, 1.2434, 1.0332, 0.6404, 1.0169, 1.2671, 0.3862, 0.4322, 0.5565, 1.178, 0.4884, 0.6879, 0.9839, 1.3145, -0.0527, 0.0, 0.3695, 0.2503, 0.0657, 0.496, 0.2301, 0.0668, 0.6718, 0.3858, 0.1516, -0.3392, 0.2723, 0.0639, 0.1387, 0.1126, -0.0099, 0.211, 0.01, 0.1181, 0.0555, -0.4029, 0.2304, 1.9299, 1.9293, 1.8775, 1.8775, 1.8775, 1.8775, 1.8774, 1.8773, 1.7843, 1.7842, 1.7842, 1.7842, 1.7842, 1.7842, 1.7842, 1.7842, 1.7842, 1.7842, 1.7842, 1.7842, 1.7841, 1.7838, 1.7835, 1.7833, 1.783, 1.7826, 1.7792, 1.779, 1.7632, 1.7252, 1.7169, 1.6564, 1.6511, 1.4717, 1.5198, 1.3517, 1.564, 1.564, 1.0762, 1.1612, 1.6494, 1.6415, 1.6415, 1.6398, 1.6395, 1.6361, 1.2217, 1.3025, 1.0942, 1.6072, 0.4766, 0.2595, 1.2436, 0.3727, 0.6972, 0.4032, 0.9222, 0.5029, 0.2847, 0.9593, 0.7295, 0.3206, 0.7321, 0.3503, 1.0076, 0.7932, -0.2536, 0.4039, 0.3896, 0.3122, -0.2289, 0.4693, 0.3503, 0.6114, 0.0644, -0.3592, 0.1367, 0.1681, 0.1366, -0.5032, 0.5237, 0.1212, -0.17, 0.3642, -0.1537, -0.4808, -0.5326]}, \"token.table\": {\"Topic\": [1, 2, 3, 4, 5, 2, 3, 1, 1, 1, 3, 1, 4, 5, 2, 1, 2, 3, 4, 5, 1, 2, 3, 4, 5, 1, 1, 2, 3, 4, 5, 1, 2, 3, 4, 5, 1, 2, 3, 3, 4, 4, 3, 1, 2, 3, 4, 5, 1, 2, 1, 2, 3, 4, 5, 1, 5, 1, 3, 5, 4, 3, 5, 1, 2, 3, 4, 5, 4, 1, 2, 4, 5, 2, 3, 5, 1, 3, 1, 2, 3, 1, 2, 3, 4, 5, 1, 5, 1, 1, 2, 3, 5, 1, 2, 3, 4, 5, 5, 1, 2, 3, 4, 5, 1, 4, 1, 2, 3, 5, 1, 2, 3, 5, 3, 2, 3, 1, 2, 3, 3, 5, 2, 3, 1, 2, 4, 5, 2, 1, 2, 3, 4, 5, 1, 2, 1, 2, 3, 4, 2, 3, 3, 3, 5, 1, 2, 1, 1, 3, 2, 1, 2, 3, 4, 5, 4, 4, 5, 1, 4, 5, 2, 3, 1, 2, 3, 4, 5, 1, 3, 4, 5, 2, 1, 2, 3, 4, 5, 3, 1, 2, 3, 4, 5, 1, 2, 3, 4, 5, 2, 1, 2, 3, 4, 5, 3, 1, 1, 2, 1, 5, 1, 2, 3, 4, 5, 1, 1, 2, 3, 4, 5, 4, 1, 2, 3, 4, 5, 1, 3, 5, 1, 2, 4, 1, 2, 2, 3, 4, 1, 2, 3, 4, 5, 1, 2, 3, 4, 3, 5, 1, 1, 2, 3, 5, 1, 3, 4, 2, 1, 2, 4, 4, 2, 1, 4, 5, 5, 1, 2, 3, 4, 5, 1, 2, 3, 4, 5, 3, 2, 3, 4, 5, 1, 2, 3, 4, 5, 5, 1, 2, 3, 4, 5, 1, 3, 1, 2, 3, 4, 5, 1, 4, 1, 2, 3, 4, 5, 5, 5, 1, 3, 4, 1, 2, 3, 4, 5, 1, 2, 3, 4, 5, 1, 2, 3, 4, 3, 5, 1, 2, 3, 4, 5, 2, 3, 1, 2, 1, 2, 3, 4, 5, 2, 1, 2, 5, 2, 4, 5, 5, 1, 1, 4, 1, 2, 3, 4, 5, 1, 2, 4, 1, 2, 3, 4, 5, 2, 3, 2, 1, 2, 3, 4, 5, 2, 2, 1, 2, 3, 4, 5, 1, 2, 3, 4, 5, 1, 2, 3, 4, 5, 1, 2, 3, 4, 3, 4, 5, 1, 2, 3, 4, 5, 1, 2, 3, 4, 5, 5, 2, 1, 2, 3, 4, 5, 1, 2, 3, 4, 5, 1, 2, 3, 4, 5, 2, 1, 4, 2, 5, 1, 2, 3, 4, 5, 1, 2, 5, 2, 1, 2, 3, 4, 5, 1, 2, 3, 4, 5, 2, 5, 2, 5, 1, 2, 3, 4, 5, 1, 2, 5, 1, 2, 4, 5, 5, 1, 2, 3, 4, 5, 1, 3, 4, 3, 4, 1, 2, 3, 4, 5, 3, 1, 2, 3, 3, 1, 2, 3, 4, 5, 4, 1, 2, 3, 4, 5, 1, 2, 1, 2, 3, 4, 5, 4, 5, 1, 2, 3, 4, 5, 3, 1, 2, 4, 5, 1, 2, 3, 4, 3, 5, 5, 4, 4, 1, 4, 5, 1, 3, 4, 1, 2, 3, 4, 5, 1, 4, 5, 3, 2, 3, 4, 2, 3, 2, 3, 5, 1, 2, 3, 4, 5, 1, 5, 2, 3, 4, 1, 2, 3, 4, 5, 3, 1, 2, 3, 4, 5, 4, 2, 2, 3, 1, 2, 3, 4, 2, 3, 5, 2, 2, 3, 4, 1, 2, 3, 4, 5, 5, 3, 5, 3, 3, 1, 2, 3, 5, 5, 2, 3, 1, 2, 3, 1, 2, 3, 4, 5, 3, 5, 2, 2, 1, 2, 3, 4, 5, 1, 1, 1, 2, 1, 2, 4, 2, 3, 4, 1, 2, 3, 4, 5, 1, 2, 3, 4, 5, 1, 1, 2, 3, 4, 5, 1, 2, 2, 1, 2, 3, 4, 5, 1, 2, 3, 4, 5, 1, 3, 4, 1, 5, 5, 1, 2, 3, 4, 5, 3, 1, 2, 3, 4, 5, 4, 2, 3, 5, 1, 1, 2, 3, 4, 5, 1, 2, 3, 4, 5, 1, 1, 2, 3, 4, 5, 3, 5, 1, 2, 3, 4, 5, 3, 1, 2, 5, 5, 2, 1, 1, 2, 3, 4, 5, 2, 1, 3, 5, 5, 1, 2, 3, 4, 5, 5, 3, 1, 2, 3, 4, 5, 1, 2, 3, 4, 5, 1, 2, 3, 4, 5, 1, 5, 1, 1, 1, 4, 1, 2, 1, 2, 3, 4, 5, 1, 2, 3, 5, 4, 3, 1, 4, 1, 1, 2, 3, 4, 5, 2, 3, 5, 1, 2, 3, 4, 5, 1, 2, 3, 4, 5, 1, 2, 3, 4, 5, 4, 4, 5, 1, 2, 3, 4, 5, 1, 4, 4, 1, 2, 3, 4, 5, 3, 4, 4, 1, 2, 5, 4, 1, 2, 3, 4, 5, 1, 2, 3, 4, 2, 4, 1, 2, 3, 4, 5, 1, 2, 3, 4, 5, 1, 2, 3, 4, 5, 1, 2, 3, 4, 5, 1, 2, 3, 4, 5, 4, 1, 2, 1, 1, 1, 3, 4, 1, 1, 2, 3, 4, 5, 1, 2, 3, 3, 1, 2, 3, 4, 5, 1, 2, 3, 4, 5, 1, 2, 3, 4, 1, 2, 3, 4, 5, 1, 2, 3, 4, 5, 1, 2, 3, 4, 5, 4], \"Freq\": [0.33178443953005243, 0.17091925672760278, 0.15081110887729657, 0.16086518280244969, 0.1809733306527559, 0.9115012871401839, 0.7772957882258921, 0.9363678888951802, 0.9005022912916988, 0.7047480043200968, 0.14094960086401934, 0.14934184298803882, 0.5973673719521553, 0.14934184298803882, 0.9482965867394562, 0.283381123655578, 0.2237219397280879, 0.14914795981872528, 0.253551531691833, 0.1044035718731077, 0.3333343113410396, 0.1527782260313098, 0.18055608530972977, 0.1666671556705198, 0.1666671556705198, 0.8464060105685768, 0.17925935722184752, 0.4865611124593004, 0.15365087761872645, 0.05121695920624215, 0.12804239801560538, 0.4516122037527736, 0.2338706055148292, 0.13709656185352057, 0.104838547299751, 0.07258053274598147, 0.0954429921248412, 0.4294934645617854, 0.4294934645617854, 0.1708603494672936, 0.6834413978691743, 0.7203228697965397, 0.7759299238777896, 0.2609064068000583, 0.149089375314319, 0.4099957821143773, 0.11181703148573927, 0.03727234382857975, 0.8426472338709758, 0.14044120564516266, 0.15801485159858675, 0.19751856449823343, 0.23702227739788012, 0.11851113869894006, 0.3160297031971735, 0.24223530698434367, 0.48447061396868735, 0.6752787453752312, 0.13505574907504625, 0.20258362361256937, 0.8991187545350998, 0.9314463462924755, 0.8209612800882554, 0.19859459027042742, 0.2647927870272366, 0.28134233621643884, 0.19859459027042742, 0.06619819675680914, 0.7973363047487777, 0.1974764918033048, 0.1974764918033048, 0.5924294754099143, 0.9292990599637992, 0.19363167761515332, 0.7099828179222288, 0.06454389253838444, 0.9004756240704858, 0.7772955086644497, 0.7684901619405039, 0.05911462784157722, 0.11822925568315444, 0.3277199323626312, 0.20854904786712894, 0.19365268730519117, 0.05958544224775113, 0.19365268730519117, 0.7932630283351021, 0.11332328976215744, 0.8464051390441399, 0.3232462056663658, 0.5926180437216706, 0.053874367611060965, 0.026937183805530483, 0.4276542684346574, 0.05345678355433218, 0.16037035066299654, 0.05345678355433218, 0.3207407013259931, 0.7462252594306618, 0.32147614490407067, 0.18083033150853975, 0.16073807245203534, 0.16073807245203534, 0.18083033150853975, 0.0798097279874682, 0.8779070078621503, 0.16958083757341347, 0.33916167514682694, 0.08479041878670673, 0.42395209393353367, 0.0923032371081128, 0.5538194226486769, 0.1846064742162256, 0.13845485566216922, 0.8737195462743256, 0.14479813345174117, 0.7239906672587059, 0.5875250273636408, 0.2937625136818204, 0.09792083789394013, 0.7772960042921674, 0.9292839742364309, 0.7126338625026538, 0.14252677250053075, 0.076827556825933, 0.691448011433397, 0.153655113651866, 0.076827556825933, 0.9482939952260744, 0.33096308249963935, 0.33096308249963935, 0.11032102749987979, 0.16548154124981967, 0.070920660535637, 0.1621039509585745, 0.8105197547928724, 0.25427668706322026, 0.25427668706322026, 0.07265048201806294, 0.4359028921083776, 0.6848151877934854, 0.22827172926449513, 0.8732017958373046, 0.46703982876933414, 0.5604477945232009, 0.6827248969160207, 0.2925963843925803, 0.8409599514599349, 0.8439634467057069, 0.1875474326012682, 0.9115108128807237, 0.587828311520067, 0.2204356168200251, 0.07347853894000837, 0.036739269470004186, 0.11021780841001255, 0.7973319365634008, 0.7203314307935403, 0.8209641674193053, 0.3916545423610472, 0.47868888510794655, 0.13055151412034907, 0.7127830960983219, 0.1425566192196644, 0.11423557423521152, 0.11423557423521152, 0.19991225491162015, 0.22847114847042305, 0.34270672270563457, 0.1711232202945437, 0.11408214686302913, 0.399287514020602, 0.28520536715757283, 0.948947037126094, 0.14695991073819328, 0.3086158125502059, 0.3380077946978446, 0.07347995536909664, 0.13226391966437395, 0.8737600704340592, 0.35074448097107414, 0.08768612024276853, 0.2630583607283056, 0.02922870674758951, 0.2630583607283056, 0.2848204945468991, 0.2698299422023255, 0.17988662813488365, 0.22485828516860457, 0.04497165703372091, 0.9114893925368464, 0.28990846052983, 0.28990846052983, 0.16911326864240084, 0.08455663432120042, 0.16911326864240084, 0.77729534319662, 0.9619817947796794, 0.6910823114973155, 0.2591558668114933, 0.6881956124164575, 0.22939853747215252, 0.32271181083230666, 0.21143187606254574, 0.21143187606254574, 0.1557919086776653, 0.10015194129278483, 0.84640741535781, 0.6329295366144729, 0.15823238415361823, 0.03164647683072365, 0.1265859073228946, 0.0632929536614473, 0.8992164202298262, 0.10572970765301772, 0.10572970765301772, 0.6872430997446152, 0.15859456147952658, 0.8209626224896052, 0.14614383371301062, 0.5845753348520425, 0.14614383371301062, 0.10359734628181962, 0.7251814239727373, 0.10359734628181962, 0.11339432767230716, 0.7937602937061501, 0.1316372088427556, 0.2632744176855112, 0.5265488353710224, 0.20945305811741005, 0.07854489679402878, 0.2618163226467626, 0.3141795871761151, 0.15708979358805755, 0.21336960661024185, 0.27433235135602524, 0.24385097898313354, 0.3048137237289169, 0.2446227006965683, 0.7338681020897049, 0.9364853591916457, 0.3691406614562962, 0.046142582682037026, 0.46142582682037026, 0.09228516536407405, 0.1479266472317288, 0.1479266472317288, 0.5917065889269152, 0.9116984386405187, 0.18962707826469374, 0.6636947739264282, 0.09481353913234687, 0.899110639471312, 0.7584377256679273, 0.9364292136072686, 0.7973375937296243, 0.8209549620640415, 0.8209650597234719, 0.4027379337208572, 0.2598309249811982, 0.19487319373589865, 0.10393236999247928, 0.03897463874717973, 0.273434079139144, 0.24662681647844364, 0.18228938609276268, 0.14475921836778213, 0.1554821234320623, 0.8736891520752919, 0.4389128788948139, 0.06270183984211627, 0.06270183984211627, 0.3762110390526976, 0.16519646132695875, 0.25530362205075446, 0.22526790180948922, 0.195232181568224, 0.16519646132695875, 0.9292941700621091, 0.34059173078608734, 0.17029586539304367, 0.14596788462260887, 0.14596788462260887, 0.1946238461634785, 0.306604416343779, 0.6898599367735028, 0.2750693986459139, 0.21612595607893237, 0.3340128412128955, 0.01964781418899385, 0.1571825135119508, 0.9005014038105461, 0.8991180172666147, 0.12049260633758505, 0.4518472737659439, 0.16567733371417945, 0.1506157579219813, 0.10543103054538691, 0.820958493955783, 0.9292936328234603, 0.3668674127774134, 0.5503011191661201, 0.04585842659717668, 0.23400118578704399, 0.286001449295276, 0.23400118578704399, 0.15600079052469598, 0.07800039526234799, 0.38200786323527686, 0.19100393161763843, 0.10284827087103607, 0.20569654174207214, 0.1322334911199035, 0.2536873518556195, 0.549655929020509, 0.04228122530926993, 0.1691249012370797, 0.24462896745260576, 0.7338869023578173, 0.2872964707354317, 0.389902353140943, 0.10260588240551131, 0.14364823536771584, 0.061563529443306786, 0.1656183301887527, 0.6624733207550108, 0.16210558467900915, 0.8105279233950458, 0.420387261264961, 0.2101936306324805, 0.22930214250816056, 0.05732553562704014, 0.09554255937840023, 0.9487014987553267, 0.1724363906094475, 0.1724363906094475, 0.5173091718283425, 0.8561731214796612, 0.6066016953667223, 0.20220056512224074, 0.82096067035009, 0.9015588612796592, 0.7928496116102098, 0.11326423023002997, 0.2107446447969916, 0.37934036063458487, 0.16859571583759328, 0.1053723223984958, 0.14752125135789412, 0.3892579569669813, 0.07785159139339626, 0.5449611397537738, 0.12745349094819255, 0.21242248491365429, 0.2549069818963851, 0.26906848089062874, 0.14161498994243618, 0.16559534603193093, 0.6623813841277237, 0.8833358583087825, 0.3321450661073079, 0.17584150558622183, 0.18235415394126708, 0.2214300440715386, 0.08466442861558829, 0.8561236840905119, 0.91149630904977, 0.18877431159186325, 0.44833899003067523, 0.11798394474491454, 0.16517752264288035, 0.09438715579593163, 0.1847763315880055, 0.24636844211734066, 0.266899145627119, 0.12318422105867033, 0.1847763315880055, 0.37633732868770475, 0.2116897473868339, 0.18816866434385238, 0.1293659567363985, 0.09408433217192619, 0.5206773098837357, 0.1627116593386674, 0.1627116593386674, 0.13016932747093393, 0.19902219506047344, 0.5970665851814203, 0.8209746503128413, 0.43116893942744694, 0.17638729340213738, 0.09799294077896521, 0.15678870524634433, 0.1371901170905513, 0.279745846591393, 0.20980938494354476, 0.271003788885412, 0.061194403941867224, 0.17484115411962065, 0.9292806512529533, 0.8561262449562074, 0.1684505386272454, 0.0842252693136227, 0.0842252693136227, 0.5053516158817362, 0.0842252693136227, 0.2571871000121453, 0.291478713347098, 0.12002064667233447, 0.15431226000728718, 0.17145806667476352, 0.33139264809016383, 0.24271010846040167, 0.22404010011729386, 0.10735254797286997, 0.09335004171553911, 0.8561202187012837, 0.8464061509781786, 0.8011084821119734, 0.2432884050105354, 0.7298652150316062, 0.40378183465458933, 0.3164776541887322, 0.08730418046585715, 0.10913022558232144, 0.076391157907625, 0.8238423638886015, 0.1029802954860752, 0.1029802954860752, 0.9116306555576831, 0.5020991491087772, 0.0956379331635766, 0.2390948329089415, 0.0956379331635766, 0.07172844987268245, 0.26797796370609017, 0.10049173638978381, 0.13398898185304509, 0.4354641910223966, 0.06699449092652254, 0.3039658612007557, 0.6079317224015114, 0.8561497386456443, 0.8209578137905063, 0.23801599319170608, 0.15867732879447072, 0.03966933219861768, 0.15867732879447072, 0.3966933219861768, 0.11031873911308651, 0.22063747822617302, 0.6619124346785191, 0.4808208621242333, 0.27475477835670475, 0.11448115764862699, 0.09158492611890158, 0.7461911947138858, 0.5045762115905118, 0.1681920705301706, 0.05606402351005686, 0.1681920705301706, 0.11212804702011372, 0.293991297332015, 0.09799709911067167, 0.58798259466403, 0.6693581940558806, 0.16733954851397015, 0.3844027874481645, 0.23398430540323054, 0.16713164671659325, 0.10027898802995595, 0.11699215270161527, 0.7772949124949874, 0.07182909796210558, 0.28731639184842234, 0.5746327836968447, 0.8738352856881592, 0.2186370063599363, 0.19130738056494426, 0.2186370063599363, 0.16397775476995222, 0.2186370063599363, 0.8991136265111985, 0.31915260856605804, 0.21276840571070538, 0.08510736228428215, 0.12766104342642323, 0.2340452462817759, 0.16214275829289837, 0.8107137914644917, 0.3462792939198202, 0.2985166326895002, 0.22090230819023013, 0.06567365919169003, 0.07164399184548004, 0.24656760523293658, 0.7397028156988097, 0.11840340002407636, 0.4025715600818596, 0.21312612004333745, 0.21312612004333745, 0.07104204001444582, 0.8739171966635141, 0.07249972215650188, 0.6524974994085169, 0.07249972215650188, 0.21749916646950562, 0.10916815741772223, 0.6004248657974722, 0.21833631483544447, 0.10916815741772223, 0.24460116358136433, 0.733803490744093, 0.8209900568131051, 0.8990984168784051, 0.8991202688359823, 0.3626311814763334, 0.5439467722145002, 0.09065779536908335, 0.03627803036395921, 0.14511212145583685, 0.7981166680071027, 0.32772218889144245, 0.24906886355749627, 0.19663331333486547, 0.131088875556577, 0.09176221288960389, 0.3517400608770415, 0.1406960243508166, 0.4924360852278581, 0.8736903416712237, 0.09951471272168773, 0.09951471272168773, 0.7961177017735018, 0.19315013258282207, 0.7726005303312883, 0.26818841424474943, 0.625772966571082, 0.08939613808158314, 0.08751576514879557, 0.24504414241662759, 0.3850693666547005, 0.10501891817855469, 0.17503153029759114, 0.900506255140932, 0.820912773153386, 0.6566318933515508, 0.1641579733378877, 0.1641579733378877, 0.24123696367938405, 0.2801461513696073, 0.32683717659787515, 0.08560021291849111, 0.062254700304357175, 0.8737627481275165, 0.32760284862483857, 0.4004034816525805, 0.07280063302774191, 0.10920094954161286, 0.09100079128467738, 0.8991359857801391, 0.8561222000503326, 0.27187091387438234, 0.7476450131545515, 0.4277542771995691, 0.39485010203037146, 0.04935626275379643, 0.1316167006767905, 0.11164296056430541, 0.11164296056430541, 0.6698577633858324, 0.8561303268993127, 0.91148964126559, 0.7772952510016775, 0.8991174236897245, 0.28185087928729197, 0.23487573273940995, 0.16441301291758698, 0.18790058619152797, 0.12918165300667547, 0.9292971220675265, 0.2048470401413367, 0.6145411204240101, 0.931445952923739, 0.8736888973824598, 0.08516356651905117, 0.3406542660762047, 0.08516356651905117, 0.4258178325952559, 0.8209569747385197, 0.2569695401457663, 0.6424238503644157, 0.6423866731153268, 0.3211933365576634, 0.053532222759610566, 0.34821555176416674, 0.23214370117611116, 0.17105325349818717, 0.15272611919481, 0.09774471628467839, 0.9314404793051609, 0.8209676583365059, 0.9114929621166141, 0.9114875021528652, 0.3367172793527036, 0.21886623157925736, 0.15152277570871664, 0.11785104777344628, 0.1683586396763518, 0.9005686092344207, 0.8424773322042491, 0.12589523745291978, 0.7553714247175187, 0.7279851789555168, 0.08088724210616853, 0.16177448421233706, 0.6874180689247491, 0.11456967815412485, 0.11456967815412485, 0.20716697137987347, 0.1553752285349051, 0.1553752285349051, 0.1553752285349051, 0.3625421999147786, 0.34025172712721297, 0.13919388837022348, 0.24745580154706395, 0.17012586356360648, 0.10826191317684047, 0.9006564582130536, 0.2729782837666564, 0.18898496568460826, 0.3989682608897286, 0.04199665904102406, 0.10499164760256015, 0.8942549141182285, 0.055890932132389284, 0.948496920223242, 0.30526632339621274, 0.08721894954177506, 0.21804737385443765, 0.04360947477088753, 0.30526632339621274, 0.39995496076385034, 0.30765766212603873, 0.07178678782940903, 0.1128078094462142, 0.10255255404201291, 0.8084700054956808, 0.08084700054956807, 0.16169400109913615, 0.962224113215532, 0.8209576004902174, 0.8209590351471585, 0.2943184958568366, 0.3872611787589956, 0.15490447150359823, 0.07745223575179912, 0.07745223575179912, 0.7772968225840715, 0.15664081434733665, 0.36027387299887426, 0.2192971400862713, 0.1723048957820703, 0.07832040717366832, 0.7973360050384655, 0.09804934761204372, 0.6863454332843061, 0.19609869522408743, 0.936481212485932, 0.3154766672507886, 0.356625797761761, 0.12344739153291727, 0.06858188418495405, 0.1371637683699081, 0.1737630655886184, 0.30891211660198825, 0.30891211660198825, 0.13514905101336988, 0.07722802915049706, 0.8464076596146607, 0.1438772114517352, 0.5755088458069408, 0.09591814096782347, 0.04795907048391174, 0.09591814096782347, 0.24462334086024254, 0.7338700225807275, 0.2810663602524866, 0.2634997127367062, 0.12296653261046289, 0.22836641770514537, 0.08783323757890207, 0.7772934936973097, 0.2670765102688688, 0.1335382551344344, 0.5341530205377376, 0.820961682510435, 0.8561582342627675, 0.8464055652244494, 0.3544215467031059, 0.22643598817142876, 0.20674590224347844, 0.14767564445962747, 0.06891530074782615, 0.8561259992336048, 0.08632320964136486, 0.8200704915929662, 0.08632320964136486, 0.8209937088434518, 0.2979624690372816, 0.1117359258889806, 0.13966990736122573, 0.2886511418798665, 0.15829256167605585, 0.8209643301840861, 0.873688534722828, 0.12093981902529909, 0.2620362745548147, 0.3023495475632477, 0.16125309203373211, 0.1410964555295156, 0.5170902648779, 0.11080505675955, 0.166207585139325, 0.1477400756794, 0.055402528379775, 0.29996006175174095, 0.1545248802963514, 0.10907638609154216, 0.23633216986500802, 0.1908836756601988, 0.20321015745763404, 0.6096304723729021, 0.9005266452821376, 0.9006969185770981, 0.3605902780537615, 0.5408854170806422, 0.11335903323842635, 0.7935132326689844, 0.4674042651706846, 0.1797708712194941, 0.08988543560974704, 0.19774795834144349, 0.07190834848779763, 0.14357148130035088, 0.23928580216725148, 0.5742859252014035, 0.8209792366935843, 0.7202936818715938, 0.873691583105935, 0.682570946983538, 0.2275236489945127, 0.9065992304236754, 0.3067410430209, 0.2595501133253769, 0.17696598635821154, 0.17696598635821154, 0.08258412696716538, 0.8561302544230043, 0.7772953106188044, 0.820986932903456, 0.3052114580909904, 0.3052114580909904, 0.040694861078798716, 0.2441691664727923, 0.10173715269699679, 0.06987288657031462, 0.13974577314062925, 0.3493644328515731, 0.17468221642578655, 0.2794915462812585, 0.691021162777028, 0.0812966073855327, 0.04064830369276635, 0.12194491107829905, 0.0812966073855327, 0.7973342516150452, 0.6050077815419994, 0.2016692605139998, 0.4696641564762098, 0.17182834993032065, 0.1374626799442565, 0.17182834993032065, 0.03436566998606413, 0.9007371730722811, 0.7973357815405839, 0.7973333979398474, 0.16378148470279213, 0.36265900184189687, 0.22227487209664645, 0.17548016218156298, 0.07019206487262519, 0.17086881577372304, 0.6834752630948921, 0.8991145068796613, 0.17244046886020153, 0.17244046886020153, 0.5173214065806045, 0.8991459918476687, 0.18099284193451365, 0.4298579995944699, 0.13574463145088522, 0.22624105241814205, 0.022624105241814206, 0.20809738571558983, 0.572267810717872, 0.05202434642889746, 0.1560730392866924, 0.8561242923394474, 0.8990394843512537, 0.19182812463774115, 0.45559179601463523, 0.19182812463774115, 0.09591406231887058, 0.07193554673915294, 0.18070674463274772, 0.4618061251725775, 0.2810993805398298, 0.060235581544249246, 0.020078527181416415, 0.3045051576153551, 0.19909952613311682, 0.19909952613311682, 0.19909952613311682, 0.0936938946508785, 0.2586707957102529, 0.21555899642521076, 0.2443001959485722, 0.14370599761680716, 0.14370599761680716, 0.38353812189525655, 0.27022004042620346, 0.11331808146905306, 0.16561873445476985, 0.0784509794785752, 0.8991529219038049, 0.9005178440108115, 0.8561212887347626, 0.8464022908720534, 0.8464078999937279, 0.08945700010817134, 0.8051130009735421, 0.08945700010817134, 0.9004740322935827, 0.2749496864494755, 0.24995426040861407, 0.3749313906129211, 0.024995426040861406, 0.07498627812258422, 0.021443148419970626, 0.10721574209985313, 0.857725936798825, 0.8736898632833642, 0.24642309754337002, 0.24642309754337002, 0.08214103251445667, 0.1916624092003989, 0.24642309754337002, 0.10188748724627031, 0.15283123086940545, 0.4330218207966488, 0.15283123086940545, 0.12735935905783788, 0.14725015552314874, 0.2945003110462975, 0.4172087739822548, 0.14725015552314874, 0.11270345870998948, 0.5071655641949526, 0.19723105274248157, 0.11270345870998948, 0.0845275940324921, 0.48149914992635107, 0.25221384043761247, 0.09171412379549544, 0.06878559284662158, 0.1146426547443693, 0.32883942856724657, 0.1918229999975605, 0.35624271428118376, 0.027403285713937214, 0.08220985714181164, 0.7973368524131622], \"Term\": [\"I\", \"I\", \"I\", \"I\", \"I\", \"I_warn\", \"admit\", \"adventure\", \"anger\", \"anymore\", \"anymore\", \"anywhere\", \"anywhere\", \"anywhere\", \"archway\", \"around\", \"around\", \"around\", \"around\", \"around\", \"ask\", \"ask\", \"ask\", \"ask\", \"ask\", \"astronomy\", \"aunt\", \"aunt\", \"aunt\", \"aunt\", \"aunt\", \"back\", \"back\", \"back\", \"back\", \"back\", \"ball\", \"ball\", \"ball\", \"bar\", \"bar\", \"bartender\", \"beater\", \"become\", \"become\", \"become\", \"become\", \"become\", \"bedroom\", \"bedroom\", \"begin\", \"begin\", \"begin\", \"begin\", \"begin\", \"behind_back\", \"behind_back\", \"bet\", \"bet\", \"bet\", \"bezoar\", \"bin\", \"biscuit\", \"bit\", \"bit\", \"bit\", \"bit\", \"bit\", \"blonde\", \"bloody_baron\", \"bloody_baron\", \"bloody_baron\", \"blow_toilet\", \"bludger\", \"bludger\", \"bludger\", \"boa_constrictor\", \"booger\", \"bottle\", \"bottle\", \"bottle\", \"boy\", \"boy\", \"boy\", \"boy\", \"boy\", \"branch\", \"branch\", \"brazil\", \"broom\", \"broom\", \"broom\", \"broom\", \"brother\", \"brother\", \"brother\", \"brother\", \"brother\", \"bye\", \"call\", \"call\", \"call\", \"call\", \"call\", \"card\", \"card\", \"case\", \"case\", \"case\", \"case\", \"cat\", \"cat\", \"cat\", \"cat\", \"ceremony\", \"chaser\", \"chaser\", \"christmas\", \"christmas\", \"christmas\", \"circumstance\", \"cliff\", \"club\", \"club\", \"coat\", \"coat\", \"coat\", \"coat\", \"coin\", \"come\", \"come\", \"come\", \"come\", \"come\", \"computer\", \"computer\", \"corridor\", \"corridor\", \"corridor\", \"corridor\", \"count\", \"count\", \"countryside\", \"crate\", \"crate\", \"cupboard\", \"cupboard\", \"curious\", \"death\", \"death\", \"desperately\", \"die\", \"die\", \"die\", \"die\", \"die\", \"diffrent\", \"discovery\", \"dish\", \"dog\", \"dog\", \"dog\", \"doorway\", \"doorway\", \"dragon\", \"dragon\", \"dragon\", \"dragon\", \"dragon\", \"either\", \"either\", \"either\", \"either\", \"emerald_green\", \"even\", \"even\", \"even\", \"even\", \"even\", \"even_tell\", \"ever\", \"ever\", \"ever\", \"ever\", \"ever\", \"eye\", \"eye\", \"eye\", \"eye\", \"eye\", \"eye_like\", \"face\", \"face\", \"face\", \"face\", \"face\", \"fantastic\", \"favorite\", \"feather\", \"feather\", \"figure\", \"figure\", \"find\", \"find\", \"find\", \"find\", \"find\", \"finished\", \"fire\", \"fire\", \"fire\", \"fire\", \"fire\", \"first_day\", \"first_year\", \"first_year\", \"first_year\", \"first_year\", \"fitch\", \"five_minute\", \"five_minute\", \"five_minute\", \"flat\", \"flat\", \"flat\", \"flint\", \"flint\", \"float\", \"float\", \"float\", \"follow\", \"follow\", \"follow\", \"follow\", \"follow\", \"forget\", \"forget\", \"forget\", \"forget\", \"four_hundred\", \"four_hundred\", \"freeze\", \"friend\", \"friend\", \"friend\", \"friend\", \"frog\", \"frog\", \"frog\", \"front_mirror\", \"furiously\", \"furiously\", \"furiously\", \"g\", \"galleon\", \"gang\", \"garlic\", \"gateway\", \"git\", \"give\", \"give\", \"give\", \"give\", \"give\", \"go\", \"go\", \"go\", \"go\", \"go\", \"go_sleep\", \"goblin\", \"goblin\", \"goblin\", \"goblin\", \"good\", \"good\", \"good\", \"good\", \"good\", \"goyle\", \"great\", \"great\", \"great\", \"great\", \"great\", \"great_hall\", \"great_hall\", \"gryffindor\", \"gryffindor\", \"gryffindor\", \"gryffindor\", \"gryffindor\", \"gulp\", \"ha\", \"hand\", \"hand\", \"hand\", \"hand\", \"hand\", \"harbor\", \"harry_see\", \"hat\", \"hat\", \"hat\", \"head\", \"head\", \"head\", \"head\", \"head\", \"hear\", \"hear\", \"hear\", \"hear\", \"hear\", \"high\", \"high\", \"high\", \"high\", \"high_voice\", \"high_voice\", \"hold\", \"hold\", \"hold\", \"hold\", \"hold\", \"hoop\", \"hoop\", \"horse\", \"horse\", \"house\", \"house\", \"house\", \"house\", \"house\", \"hug\", \"hundred_thirteen\", \"hundred_thirteen\", \"hundred_thirteen\", \"hush\", \"ickle\", \"ickle\", \"importantly\", \"impressed\", \"indeed\", \"indeed\", \"inside\", \"inside\", \"inside\", \"inside\", \"inside\", \"invisibility_cloak\", \"invisibility_cloak\", \"invisibility_cloak\", \"keep\", \"keep\", \"keep\", \"keep\", \"keep\", \"king_cross\", \"king_cross\", \"knight\", \"know\", \"know\", \"know\", \"know\", \"know\", \"knowing\", \"knut\", \"large\", \"large\", \"large\", \"large\", \"large\", \"last\", \"last\", \"last\", \"last\", \"last\", \"leave\", \"leave\", \"leave\", \"leave\", \"leave\", \"leg\", \"leg\", \"leg\", \"leg\", \"lemon_drop\", \"lemon_drop\", \"lent\", \"letter\", \"letter\", \"letter\", \"letter\", \"letter\", \"like\", \"like\", \"like\", \"like\", \"like\", \"little_boat\", \"little_bronze\", \"lock\", \"lock\", \"lock\", \"lock\", \"lock\", \"long\", \"long\", \"long\", \"long\", \"long\", \"look\", \"look\", \"look\", \"look\", \"look\", \"look_mirror\", \"look_quite\", \"love\", \"lurk\", \"lurk\", \"make\", \"make\", \"make\", \"make\", \"make\", \"malfoy\", \"malfoy\", \"malfoy\", \"marcus_flint\", \"mean\", \"mean\", \"mean\", \"mean\", \"mean\", \"meet\", \"meet\", \"meet\", \"meet\", \"meet\", \"ministry_magic\", \"ministry_magic\", \"monday\", \"moren\", \"mother\", \"mother\", \"mother\", \"mother\", \"mother\", \"motorcycle\", \"motorcycle\", \"motorcycle\", \"move\", \"move\", \"move\", \"move\", \"nail\", \"name\", \"name\", \"name\", \"name\", \"name\", \"nasty\", \"nasty\", \"nasty\", \"nearly_headless\", \"nearly_headless\", \"never\", \"never\", \"never\", \"never\", \"never\", \"nibble\", \"nimbus_two\", \"nimbus_two\", \"nimbus_two\", \"notice_seem\", \"oh\", \"oh\", \"oh\", \"oh\", \"oh\", \"oh_I\", \"old\", \"old\", \"old\", \"old\", \"old\", \"old_man\", \"old_man\", \"one\", \"one\", \"one\", \"one\", \"one\", \"one_twin\", \"one_twin\", \"open\", \"open\", \"open\", \"open\", \"open\", \"overtake_slytherin\", \"pain\", \"pain\", \"pain\", \"pain\", \"pair\", \"pair\", \"pair\", \"pair\", \"pale_boy\", \"pale_boy\", \"passersby\", \"password\", \"pasty\", \"path\", \"path\", \"path\", \"peeve\", \"peeve\", \"peeve\", \"people\", \"people\", \"people\", \"people\", \"people\", \"pier\", \"pier\", \"pier\", \"plain\", \"plant\", \"plant\", \"plant\", \"plastic\", \"plastic\", \"platform_nine\", \"platform_nine\", \"platform_nine\", \"point\", \"point\", \"point\", \"point\", \"point\", \"poison\", \"polite\", \"present\", \"present\", \"present\", \"professor\", \"professor\", \"professor\", \"professor\", \"professor\", \"pure\", \"put\", \"put\", \"put\", \"put\", \"put\", \"put_hat\", \"put_outer\", \"quaffle\", \"quaffle\", \"quirrell\", \"quirrell\", \"quirrell\", \"quirrell\", \"rat\", \"rat\", \"rat\", \"red_card\", \"reflect\", \"resign\", \"rid_norbert\", \"right\", \"right\", \"right\", \"right\", \"right\", \"rock_cake\", \"rub\", \"rub\", \"rumor\", \"sandy\", \"scabber\", \"scabber\", \"scabber\", \"scabber\", \"school_witchcraft\", \"score\", \"score\", \"scream\", \"scream\", \"scream\", \"see\", \"see\", \"see\", \"see\", \"see\", \"see_anythin\", \"see_dragon\", \"see_make\", \"see_quirrell\", \"seem\", \"seem\", \"seem\", \"seem\", \"seem\", \"seemed\", \"shall\", \"shape\", \"shape\", \"shed\", \"shed\", \"shed\", \"shriek\", \"shriek\", \"shriek\", \"shut\", \"shut\", \"shut\", \"shut\", \"shut\", \"sit\", \"sit\", \"sit\", \"sit\", \"sit\", \"six_hundred\", \"slytherin\", \"slytherin\", \"slytherin\", \"slytherin\", \"slytherin\", \"snake\", \"snake\", \"sock\", \"someone\", \"someone\", \"someone\", \"someone\", \"someone\", \"something\", \"something\", \"something\", \"something\", \"something\", \"sorcerer_stone\", \"sorcerer_stone\", \"sorcerer_stone\", \"spring\", \"stalactite\", \"stalagmite\", \"stand\", \"stand\", \"stand\", \"stand\", \"stand\", \"standard\", \"start\", \"start\", \"start\", \"start\", \"start\", \"state\", \"station\", \"station\", \"station\", \"step_forward\", \"still\", \"still\", \"still\", \"still\", \"still\", \"stop\", \"stop\", \"stop\", \"stop\", \"stop\", \"stop_name\", \"street\", \"street\", \"street\", \"street\", \"street\", \"stroke\", \"stroke\", \"suddenly\", \"suddenly\", \"suddenly\", \"suddenly\", \"suddenly\", \"sugar\", \"summer\", \"summer\", \"summer\", \"sunny\", \"sway\", \"swiftly\", \"take\", \"take\", \"take\", \"take\", \"take\", \"tape_measure\", \"team\", \"team\", \"team\", \"teddy\", \"tell\", \"tell\", \"tell\", \"tell\", \"tell\", \"tell_first\", \"ten_point\", \"ter\", \"ter\", \"ter\", \"ter\", \"ter\", \"thing\", \"thing\", \"thing\", \"thing\", \"thing\", \"think\", \"think\", \"think\", \"think\", \"think\", \"think_anything\", \"think_anything\", \"think_keep\", \"think_let\", \"third_floor\", \"third_floor\", \"thirty\", \"thirty\", \"though\", \"though\", \"though\", \"though\", \"though\", \"thousand\", \"thousand\", \"thousand\", \"thrash\", \"threaten\", \"three_chaser\", \"three_head\", \"three_head\", \"throw_cloak\", \"time\", \"time\", \"time\", \"time\", \"time\", \"time_hogwart\", \"told\", \"torch\", \"toward\", \"toward\", \"toward\", \"toward\", \"toward\", \"train\", \"train\", \"train\", \"train\", \"train\", \"tree\", \"tree\", \"tree\", \"tree\", \"tree\", \"tremblin\", \"trophy_room\", \"trophy_room\", \"try\", \"try\", \"try\", \"try\", \"try\", \"try_take\", \"tub\", \"tug\", \"turn\", \"turn\", \"turn\", \"turn\", \"turn\", \"twitch\", \"twitch\", \"vampire\", \"vault_seven\", \"vault_seven\", \"vault_seven\", \"village\", \"voice\", \"voice\", \"voice\", \"voice\", \"voice\", \"wake\", \"wake\", \"wake\", \"wake\", \"walk_toward\", \"walking_stick\", \"wall\", \"wall\", \"wall\", \"wall\", \"wall\", \"wand\", \"wand\", \"wand\", \"wand\", \"wand\", \"want\", \"want\", \"want\", \"want\", \"want\", \"way\", \"way\", \"way\", \"way\", \"way\", \"well\", \"well\", \"well\", \"well\", \"well\", \"wherever_go\", \"white_queen\", \"whole_crowd\", \"whole_hall\", \"wife\", \"win\", \"win\", \"win\", \"wine\", \"wizard\", \"wizard\", \"wizard\", \"wizard\", \"wizard\", \"wood\", \"wood\", \"wood\", \"wood_take\", \"work\", \"work\", \"work\", \"work\", \"work\", \"year\", \"year\", \"year\", \"year\", \"year\", \"yeh\", \"yeh\", \"yeh\", \"yeh\", \"yer\", \"yer\", \"yer\", \"yer\", \"yer\", \"yes\", \"yes\", \"yes\", \"yes\", \"yes\", \"yet\", \"yet\", \"yet\", \"yet\", \"yet\", \"zombie\"]}, \"R\": 30, \"lambda.step\": 0.01, \"plot.opts\": {\"xlab\": \"PC1\", \"ylab\": \"PC2\"}, \"topic.order\": [3, 1, 4, 2, 5]};\n",
       "\n",
       "function LDAvis_load_lib(url, callback){\n",
       "  var s = document.createElement('script');\n",
       "  s.src = url;\n",
       "  s.async = true;\n",
       "  s.onreadystatechange = s.onload = callback;\n",
       "  s.onerror = function(){console.warn(\"failed to load library \" + url);};\n",
       "  document.getElementsByTagName(\"head\")[0].appendChild(s);\n",
       "}\n",
       "\n",
       "if(typeof(LDAvis) !== \"undefined\"){\n",
       "   // already loaded: just create the visualization\n",
       "   !function(LDAvis){\n",
       "       new LDAvis(\"#\" + \"ldavis_el100061189312801671324911\", ldavis_el100061189312801671324911_data);\n",
       "   }(LDAvis);\n",
       "}else if(typeof define === \"function\" && define.amd){\n",
       "   // require.js is available: use it to load d3/LDAvis\n",
       "   require.config({paths: {d3: \"https://d3js.org/d3.v5\"}});\n",
       "   require([\"d3\"], function(d3){\n",
       "      window.d3 = d3;\n",
       "      LDAvis_load_lib(\"https://cdn.jsdelivr.net/gh/bmabey/pyLDAvis@3.4.0/pyLDAvis/js/ldavis.v3.0.0.js\", function(){\n",
       "        new LDAvis(\"#\" + \"ldavis_el100061189312801671324911\", ldavis_el100061189312801671324911_data);\n",
       "      });\n",
       "    });\n",
       "}else{\n",
       "    // require.js not available: dynamically load d3 & LDAvis\n",
       "    LDAvis_load_lib(\"https://d3js.org/d3.v5.js\", function(){\n",
       "         LDAvis_load_lib(\"https://cdn.jsdelivr.net/gh/bmabey/pyLDAvis@3.4.0/pyLDAvis/js/ldavis.v3.0.0.js\", function(){\n",
       "                 new LDAvis(\"#\" + \"ldavis_el100061189312801671324911\", ldavis_el100061189312801671324911_data);\n",
       "            })\n",
       "         });\n",
       "}\n",
       "</script>"
      ],
      "text/plain": [
       "<IPython.core.display.HTML object>"
      ]
     },
     "execution_count": 9,
     "metadata": {},
     "output_type": "execute_result"
    }
   ],
   "source": [
    "import pyLDAvis\n",
    "import pyLDAvis.gensim_models as gensimvis  # ako koristiš gensim >= 4\n",
    "\n",
    "# Korpus i dictionary su već bigramski, kao i model\n",
    "lda_best = best_model[\"model\"]\n",
    "\n",
    "# Priprema za vizualizaciju\n",
    "vis_data = gensimvis.prepare(lda_best, corpus, dictionary)\n",
    "\n",
    "# Ako si u Jupyter okruženju:\n",
    "pyLDAvis.display(vis_data)\n",
    "\n",
    "# Ako nisi u Jupyteru, koristi:\n",
    "# pyLDAvis.save_html(vis_data, 'lda_bigrams_visualization.html')\n",
    "pyLDAvis.display(vis_data)"
   ]
  },
  {
   "cell_type": "code",
   "execution_count": 10,
   "id": "0836abbc-9c69-4872-8377-931ad586a1d5",
   "metadata": {},
   "outputs": [
    {
     "data": {
      "image/png": "[encoded data removed]",
      "text/plain": [
       "<Figure size 800x400 with 1 Axes>"
      ]
     },
     "metadata": {},
     "output_type": "display_data"
    },
    {
     "data": {
      "image/png": "[encoded data removed]",
      "text/plain": [
       "<Figure size 800x400 with 1 Axes>"
      ]
     },
     "metadata": {},
     "output_type": "display_data"
    },
    {
     "data": {
      "image/png": "[encoded data removed]",
      "text/plain": [
       "<Figure size 800x400 with 1 Axes>"
      ]
     },
     "metadata": {},
     "output_type": "display_data"
    },
    {
     "data": {
      "image/png": "[encoded data removed]",
      "text/plain": [
       "<Figure size 800x400 with 1 Axes>"
      ]
     },
     "metadata": {},
     "output_type": "display_data"
    },
    {
     "data": {
      "image/png": "[encoded data removed]",
      "text/plain": [
       "<Figure size 800x400 with 1 Axes>"
      ]
     },
     "metadata": {},
     "output_type": "display_data"
    }
   ],
   "source": [
    "import pyLDAvis\n",
    "import pyLDAvis.gensim_models as gensimvis\n",
    "import matplotlib.pyplot as plt\n",
    "import numpy as np\n",
    "\n",
    "# 📌 LDA model (iz best_model)\n",
    "lda_best = best_model[\"model\"]\n",
    "\n",
    "# ---------------------------\n",
    "# 📊 1. Interaktivna pyLDAvis vizualizacija\n",
    "vis_data = gensimvis.prepare(lda_best, corpus, dictionary)\n",
    "pyLDAvis.display(vis_data)\n",
    "\n",
    "# ---------------------------\n",
    "# 📈 2. Bar chart top reči po svakoj temi\n",
    "def plot_top_words_per_topic(lda_model, num_words=10, cmap=\"Set2\"):\n",
    "    topics = lda_model.show_topics(num_topics=-1, num_words=num_words, formatted=False)\n",
    "    colors = plt.cm.get_cmap(cmap, len(topics))  # paleta boja po broju tema\n",
    "    \n",
    "    for i, (topic_num, topic_words) in enumerate(topics):\n",
    "        words = [w for w, _ in topic_words]\n",
    "        weights = [p for _, p in topic_words]\n",
    "        \n",
    "        plt.figure(figsize=(8, 4))\n",
    "        plt.barh(words[::-1], weights[::-1], color=colors(i))  # dodela boje\n",
    "        plt.title(f\"Tema {topic_num} – Top {num_words} reči\", fontsize=12, fontweight=\"bold\")\n",
    "        plt.xlabel(\"Težina reči\")\n",
    "        plt.tight_layout()\n",
    "        plt.show()\n",
    "\n",
    "# Prikaz bar chart-ova za svaku temu\n",
    "plot_top_words_per_topic(lda_best, num_words=10, cmap=\"tab10\")"
   ]
  },
  {
   "cell_type": "markdown",
   "id": "afde1760-95db-4388-b88d-75b4b11586b1",
   "metadata": {},
   "source": [
    "# BERTopic"
   ]
  },
  {
   "cell_type": "code",
   "execution_count": 11,
   "id": "2460361e-59c6-4718-84e1-9318c756c2bf",
   "metadata": {},
   "outputs": [
    {
     "name": "stdout",
     "output_type": "stream",
     "text": [
      "📘 Broj segmenata za BERTopic: 346\n"
     ]
    }
   ],
   "source": [
    "# 1. Podela sirovog teksta po paragrafima\n",
    "paragraphs = re.split(r'\\n\\s*\\n', text)\n",
    "\n",
    "# 2. Čišćenje svakog paragrafa i čuvanje svih tokena (lema)\n",
    "all_lemmas = []\n",
    "for para in paragraphs:\n",
    "    _, lemmas = clean_text(para)\n",
    "    if lemmas:\n",
    "        all_lemmas.extend(lemmas)\n",
    "\n",
    "# 3. Pretvaramo sve leme nazad u string (celokupan očišćen tekst)\n",
    "cleaned_text = ' '.join(all_lemmas)\n",
    "\n",
    "# 4. Delimo očišćen tekst na chunkove po 100 reči\n",
    "def split_text(text, max_words=100):\n",
    "    words = text.split()\n",
    "    chunks = []\n",
    "    for i in range(0, len(words), max_words):\n",
    "        chunk = \" \".join(words[i:i+max_words])\n",
    "        chunks.append(chunk)\n",
    "    return chunks\n",
    "\n",
    "texts = split_text(cleaned_text, max_words=100)\n",
    "print(f\"📘 Broj segmenata za BERTopic: {len(texts)}\")"
   ]
  },
  {
   "cell_type": "code",
   "execution_count": 12,
   "id": "edc6bd5a-9441-49ed-9e6b-b6356363c337",
   "metadata": {},
   "outputs": [
    {
     "name": "stdout",
     "output_type": "stream",
     "text": [
      "\n",
      "🔍 Treniranje BERTopic | n-gram: (1, 1), min_topic_size: 5\n",
      "   Topic  Count                          Name  \\\n",
      "0     -1    108   -1_look_know_like_professor   \n",
      "1      0     43       0_door_peeve_right_come   \n",
      "2      1     23  1_quirrell_stone_know_mirror   \n",
      "\n",
      "                                      Representation  \\\n",
      "0  [look, know, like, professor, tell, think, com...   \n",
      "1  [door, peeve, right, come, look, key, hear, ru...   \n",
      "2  [quirrell, stone, know, mirror, try, look, kil...   \n",
      "\n",
      "                                 Representative_Docs  \n",
      "0  [first time life potter smile wave stare hungr...  \n",
      "1  [know yeh well follow clearing stare shoulder ...  \n",
      "2  [skin without suffer terrible pain chance keep...  \n",
      "\n",
      "🔍 Treniranje BERTopic | n-gram: (1, 1), min_topic_size: 10\n",
      "   Topic  Count                         Name  \\\n",
      "0     -1    145      -1_look_know_think_tell   \n",
      "1      0     42      0_door_peeve_right_come   \n",
      "2      1     36  1_letter_aunt_want_cupboard   \n",
      "\n",
      "                                      Representation  \\\n",
      "0  [look, know, think, tell, professor, like, com...   \n",
      "1  [door, peeve, right, come, look, eye, hear, he...   \n",
      "2  [letter, aunt, want, cupboard, look, car, cat,...   \n",
      "\n",
      "                                 Representative_Docs  \n",
      "0  [family anymore paisley pajama though stare tr...  \n",
      "1  [know yeh well follow clearing stare shoulder ...  \n",
      "2  [brown orange puff ball hard try pull head sma...  \n",
      "\n",
      "🔍 Treniranje BERTopic | n-gram: (1, 2), min_topic_size: 5\n",
      "   Topic  Count                         Name  \\\n",
      "0     -1     92  -1_look_professor_know_like   \n",
      "1      0     47      0_door_look_peeve_right   \n",
      "2      1     43      1_letter_aunt_look_want   \n",
      "\n",
      "                                      Representation  \\\n",
      "0  [look, professor, know, like, tell, think, com...   \n",
      "1  [door, look, peeve, right, come, head, hear, e...   \n",
      "2  [letter, aunt, look, want, mirror, cat, like, ...   \n",
      "\n",
      "                                 Representative_Docs  \n",
      "0  [report shake head want trouble mumble stand u...  \n",
      "1  [go dozen pace doorknob rattle something come ...  \n",
      "2  [hour cupboard come strange vision blind flash...  \n",
      "\n",
      "🔍 Treniranje BERTopic | n-gram: (1, 2), min_topic_size: 10\n",
      "   Topic  Count                          Name  \\\n",
      "0     -1    149  -1_look_know_think_professor   \n",
      "1      0     43       0_door_look_peeve_right   \n",
      "2      1     36   1_letter_aunt_want_cupboard   \n",
      "\n",
      "                                      Representation  \\\n",
      "0  [look, know, think, professor, tell, like, try...   \n",
      "1  [door, look, peeve, right, come, hear, head, e...   \n",
      "2  [letter, aunt, want, cupboard, look, cat, car,...   \n",
      "\n",
      "                                 Representative_Docs  \n",
      "0  [people mirror trick reflect invisible look mi...  \n",
      "1  [go dozen pace doorknob rattle something come ...  \n",
      "2  [stonewall high like wear bit old elephant ski...  \n"
     ]
    }
   ],
   "source": [
    "# 5. Učitavanje SentenceTransformer embedding modela\n",
    "embedding_model = SentenceTransformer(\"all-MiniLM-L6-v2\")\n",
    "\n",
    "# 6. Parametri koje ćemo testirati\n",
    "ngram_ranges = [(1, 1), (1, 2)]\n",
    "min_topic_sizes = [5, 10]\n",
    "\n",
    "bertopic_results = []\n",
    "\n",
    "# 7. Loop kroz različite kombinacije parametara\n",
    "for ngram_range, min_size in itertools.product(ngram_ranges, min_topic_sizes):\n",
    "    print(f\"\\n🔍 Treniranje BERTopic | n-gram: {ngram_range}, min_topic_size: {min_size}\")\n",
    "\n",
    "    vectorizer_model = CountVectorizer(\n",
    "        ngram_range=ngram_range,\n",
    "        stop_words=\"english\"\n",
    "    )\n",
    "\n",
    "    topic_model = BERTopic(\n",
    "        embedding_model=embedding_model,\n",
    "        vectorizer_model=vectorizer_model,\n",
    "        min_topic_size=min_size,\n",
    "        verbose=False\n",
    "    )\n",
    "\n",
    "    topics, probs = topic_model.fit_transform(texts)\n",
    "\n",
    "    info = topic_model.get_topic_info()\n",
    "    print(info.head(3))\n",
    "\n",
    "    bertopic_results.append({\n",
    "        \"ngram\": ngram_range,\n",
    "        \"min_topic_size\": min_size,\n",
    "        \"model\": topic_model,\n",
    "        \"topics\": topics,\n",
    "        \"topic_info\": info\n",
    "    })"
   ]
  },
  {
   "cell_type": "code",
   "execution_count": 13,
   "id": "e5461585-f08a-4d71-9395-93506fdb7bc5",
   "metadata": {},
   "outputs": [
    {
     "name": "stdout",
     "output_type": "stream",
     "text": [
      "\n",
      "🏆 Najbolji BERTopic model:\n",
      "- ngram_range: (1, 1)\n",
      "- min_topic_size: 5\n",
      "- Broj pravih tema: 15\n",
      "\n",
      "📄 Sve teme:\n",
      "    Topic  Count                                   Name  \\\n",
      "1       0     43                0_door_peeve_right_come   \n",
      "2       1     23           1_quirrell_stone_know_mirror   \n",
      "3       2     22         2_letter_aunt_cupboard_kitchen   \n",
      "4       3     22            3_slytherin_hat_table_house   \n",
      "5       4     20                     4_know_boy_ter_yeh   \n",
      "6       5     18               5_train_platform_boy_owl   \n",
      "7       6     18          6_think_stone_look_gryffindor   \n",
      "8       7     15        7_broom_flint_ground_broomstick   \n",
      "9       8     12  8_professor_know_dumbledore_voldemort   \n",
      "10      9     11                9_cat_mirror_street_owl   \n",
      "11     10      9         10_cloak_book_library_restrict   \n",
      "12     11      7           11_quidditch_wood_team_match   \n",
      "13     12      6                  12_dragon_ter_egg_bit   \n",
      "\n",
      "                                       Representation  \\\n",
      "1   [door, peeve, right, come, look, key, hear, ru...   \n",
      "2   [quirrell, stone, know, mirror, try, look, kil...   \n",
      "3   [letter, aunt, cupboard, kitchen, television, ...   \n",
      "4   [slytherin, hat, table, house, point, hall, gr...   \n",
      "5   [know, boy, ter, yeh, wizard, world, think, co...   \n",
      "6   [train, platform, boy, owl, station, look, bar...   \n",
      "7   [think, stone, look, gryffindor, know, try, te...   \n",
      "8   [broom, flint, ground, broomstick, gryffindor,...   \n",
      "9   [professor, know, dumbledore, voldemort, lemon...   \n",
      "10  [cat, mirror, street, owl, cloak, people, driv...   \n",
      "11  [cloak, book, library, restrict, section, lamp...   \n",
      "12  [quidditch, wood, team, match, play, practice,...   \n",
      "13  [dragon, ter, egg, bit, week, boat, tell, yeh,...   \n",
      "\n",
      "                                  Representative_Docs  \n",
      "1   [know yeh well follow clearing stare shoulder ...  \n",
      "2   [skin without suffer terrible pain chance keep...  \n",
      "3   [first noise day wake start aunt rap door scre...  \n",
      "4   [crowd stand rather close together usually pee...  \n",
      "5   [year ago year old come ter yer house suddenly...  \n",
      "6   [great idea though thank mom funny look ron wo...  \n",
      "7   [sense think gryffindor mean three receive det...  \n",
      "8   [slope lawn toward smooth flat lawn opposite s...  \n",
      "9   [glance dumbledore though hope go tell somethi...  \n",
      "10  [chuckle muttered know find look inside pocket...  \n",
      "11  [climb bed free think invisibility cloak whoev...  \n",
      "12  [seven shall speak professor see bend first ye...  \n",
      "13  [nervous spend free time darken hut try reason...  \n"
     ]
    },
    {
     "data": {
      "application/vnd.plotly.v1+json": {
       "config": {
        "plotlyServerURL": "https://plot.ly"
       },
       "data": [
        {
         "customdata": [
          [
           0,
           "door | peeve | right | come | look",
           43
          ],
          [
           1,
           "quirrell | stone | know | mirror | try",
           23
          ],
          [
           2,
           "letter | aunt | cupboard | kitchen | television",
           22
          ],
          [
           3,
           "slytherin | hat | table | house | point",
           22
          ],
          [
           4,
           "know | boy | ter | yeh | wizard",
           20
          ],
          [
           5,
           "train | platform | boy | owl | station",
           18
          ],
          [
           6,
           "think | stone | look | gryffindor | know",
           18
          ],
          [
           7,
           "broom | flint | ground | broomstick | gryffindor",
           15
          ],
          [
           8,
           "professor | know | dumbledore | voldemort | lemon",
           12
          ],
          [
           9,
           "cat | mirror | street | owl | cloak",
           11
          ],
          [
           10,
           "cloak | book | library | restrict | section",
           9
          ],
          [
           11,
           "quidditch | wood | team | match | play",
           7
          ],
          [
           12,
           "dragon | ter | egg | bit | week",
           6
          ],
          [
           13,
           "wand | inch | curious | measure | yes",
           6
          ],
          [
           14,
           "wood | bludger | ball | snitch | chaser",
           6
          ]
         ],
         "hovertemplate": "<b>Topic %{customdata[0]}</b><br>%{customdata[1]}<br>Size: %{customdata[2]}",
         "legendgroup": "",
         "marker": {
          "color": "#B0BEC5",
          "line": {
           "color": "DarkSlateGrey",
           "width": 2
          },
          "size": {
           "bdata": "KxcWFhQSEg8MCwkHBgYG",
           "dtype": "i1"
          },
          "sizemode": "area",
          "sizeref": 0.026875,
          "symbol": "circle"
         },
         "mode": "markers",
         "name": "",
         "orientation": "v",
         "showlegend": false,
         "type": "scatter",
         "x": {
          "bdata": "W3UhPLxCH0C//4I/l0OuQABGtj89yEE/J7P9P0q3ukAZfdE/3IWbPwB9HEB7UcRACRv/P7PFlr7aD75A",
          "dtype": "f4"
         },
         "xaxis": "x",
         "y": {
          "bdata": "WKHeQP5mskDVrvBAQgljQEruyED5jtpAv9e3QMtRW0CHRZ9Aeiz5QJVtj0AN7IxAOCGvQO8M5UDj5ohA",
          "dtype": "f4"
         },
         "yaxis": "y"
        }
       ],
       "layout": {
        "annotations": [
         {
          "showarrow": false,
          "text": "D1",
          "x": -0.3386486366391182,
          "y": 5.933759158849716,
          "yshift": 10
         },
         {
          "showarrow": false,
          "text": "D2",
          "x": 3.3582698307931422,
          "xshift": 10,
          "y": 8.954681158065796
         }
        ],
        "height": 650,
        "hoverlabel": {
         "bgcolor": "white",
         "font": {
          "family": "Rockwell",
          "size": 16
         }
        },
        "legend": {
         "itemsizing": "constant",
         "tracegroupgap": 0
        },
        "margin": {
         "t": 60
        },
        "shapes": [
         {
          "line": {
           "color": "#CFD8DC",
           "width": 2
          },
          "type": "line",
          "x0": 3.3582698307931422,
          "x1": 3.3582698307931422,
          "y0": 2.9128371596336367,
          "y1": 8.954681158065796
         },
         {
          "line": {
           "color": "#9E9E9E",
           "width": 2
          },
          "type": "line",
          "x0": -0.3386486366391182,
          "x1": 7.055188298225403,
          "y0": 5.933759158849716,
          "y1": 5.933759158849716
         }
        ],
        "sliders": [
         {
          "active": 0,
          "pad": {
           "t": 50
          },
          "steps": [
           {
            "args": [
             {
              "marker.color": [
               [
                "red",
                "#B0BEC5",
                "#B0BEC5",
                "#B0BEC5",
                "#B0BEC5",
                "#B0BEC5",
                "#B0BEC5",
                "#B0BEC5",
                "#B0BEC5",
                "#B0BEC5",
                "#B0BEC5",
                "#B0BEC5",
                "#B0BEC5",
                "#B0BEC5",
                "#B0BEC5"
               ]
              ]
             }
            ],
            "label": "Topic 0",
            "method": "update"
           },
           {
            "args": [
             {
              "marker.color": [
               [
                "#B0BEC5",
                "red",
                "#B0BEC5",
                "#B0BEC5",
                "#B0BEC5",
                "#B0BEC5",
                "#B0BEC5",
                "#B0BEC5",
                "#B0BEC5",
                "#B0BEC5",
                "#B0BEC5",
                "#B0BEC5",
                "#B0BEC5",
                "#B0BEC5",
                "#B0BEC5"
               ]
              ]
             }
            ],
            "label": "Topic 1",
            "method": "update"
           },
           {
            "args": [
             {
              "marker.color": [
               [
                "#B0BEC5",
                "#B0BEC5",
                "red",
                "#B0BEC5",
                "#B0BEC5",
                "#B0BEC5",
                "#B0BEC5",
                "#B0BEC5",
                "#B0BEC5",
                "#B0BEC5",
                "#B0BEC5",
                "#B0BEC5",
                "#B0BEC5",
                "#B0BEC5",
                "#B0BEC5"
               ]
              ]
             }
            ],
            "label": "Topic 2",
            "method": "update"
           },
           {
            "args": [
             {
              "marker.color": [
               [
                "#B0BEC5",
                "#B0BEC5",
                "#B0BEC5",
                "red",
                "#B0BEC5",
                "#B0BEC5",
                "#B0BEC5",
                "#B0BEC5",
                "#B0BEC5",
                "#B0BEC5",
                "#B0BEC5",
                "#B0BEC5",
                "#B0BEC5",
                "#B0BEC5",
                "#B0BEC5"
               ]
              ]
             }
            ],
            "label": "Topic 3",
            "method": "update"
           },
           {
            "args": [
             {
              "marker.color": [
               [
                "#B0BEC5",
                "#B0BEC5",
                "#B0BEC5",
                "#B0BEC5",
                "red",
                "#B0BEC5",
                "#B0BEC5",
                "#B0BEC5",
                "#B0BEC5",
                "#B0BEC5",
                "#B0BEC5",
                "#B0BEC5",
                "#B0BEC5",
                "#B0BEC5",
                "#B0BEC5"
               ]
              ]
             }
            ],
            "label": "Topic 4",
            "method": "update"
           },
           {
            "args": [
             {
              "marker.color": [
               [
                "#B0BEC5",
                "#B0BEC5",
                "#B0BEC5",
                "#B0BEC5",
                "#B0BEC5",
                "red",
                "#B0BEC5",
                "#B0BEC5",
                "#B0BEC5",
                "#B0BEC5",
                "#B0BEC5",
                "#B0BEC5",
                "#B0BEC5",
                "#B0BEC5",
                "#B0BEC5"
               ]
              ]
             }
            ],
            "label": "Topic 5",
            "method": "update"
           },
           {
            "args": [
             {
              "marker.color": [
               [
                "#B0BEC5",
                "#B0BEC5",
                "#B0BEC5",
                "#B0BEC5",
                "#B0BEC5",
                "#B0BEC5",
                "red",
                "#B0BEC5",
                "#B0BEC5",
                "#B0BEC5",
                "#B0BEC5",
                "#B0BEC5",
                "#B0BEC5",
                "#B0BEC5",
                "#B0BEC5"
               ]
              ]
             }
            ],
            "label": "Topic 6",
            "method": "update"
           },
           {
            "args": [
             {
              "marker.color": [
               [
                "#B0BEC5",
                "#B0BEC5",
                "#B0BEC5",
                "#B0BEC5",
                "#B0BEC5",
                "#B0BEC5",
                "#B0BEC5",
                "red",
                "#B0BEC5",
                "#B0BEC5",
                "#B0BEC5",
                "#B0BEC5",
                "#B0BEC5",
                "#B0BEC5",
                "#B0BEC5"
               ]
              ]
             }
            ],
            "label": "Topic 7",
            "method": "update"
           },
           {
            "args": [
             {
              "marker.color": [
               [
                "#B0BEC5",
                "#B0BEC5",
                "#B0BEC5",
                "#B0BEC5",
                "#B0BEC5",
                "#B0BEC5",
                "#B0BEC5",
                "#B0BEC5",
                "red",
                "#B0BEC5",
                "#B0BEC5",
                "#B0BEC5",
                "#B0BEC5",
                "#B0BEC5",
                "#B0BEC5"
               ]
              ]
             }
            ],
            "label": "Topic 8",
            "method": "update"
           },
           {
            "args": [
             {
              "marker.color": [
               [
                "#B0BEC5",
                "#B0BEC5",
                "#B0BEC5",
                "#B0BEC5",
                "#B0BEC5",
                "#B0BEC5",
                "#B0BEC5",
                "#B0BEC5",
                "#B0BEC5",
                "red",
                "#B0BEC5",
                "#B0BEC5",
                "#B0BEC5",
                "#B0BEC5",
                "#B0BEC5"
               ]
              ]
             }
            ],
            "label": "Topic 9",
            "method": "update"
           },
           {
            "args": [
             {
              "marker.color": [
               [
                "#B0BEC5",
                "#B0BEC5",
                "#B0BEC5",
                "#B0BEC5",
                "#B0BEC5",
                "#B0BEC5",
                "#B0BEC5",
                "#B0BEC5",
                "#B0BEC5",
                "#B0BEC5",
                "red",
                "#B0BEC5",
                "#B0BEC5",
                "#B0BEC5",
                "#B0BEC5"
               ]
              ]
             }
            ],
            "label": "Topic 10",
            "method": "update"
           },
           {
            "args": [
             {
              "marker.color": [
               [
                "#B0BEC5",
                "#B0BEC5",
                "#B0BEC5",
                "#B0BEC5",
                "#B0BEC5",
                "#B0BEC5",
                "#B0BEC5",
                "#B0BEC5",
                "#B0BEC5",
                "#B0BEC5",
                "#B0BEC5",
                "red",
                "#B0BEC5",
                "#B0BEC5",
                "#B0BEC5"
               ]
              ]
             }
            ],
            "label": "Topic 11",
            "method": "update"
           },
           {
            "args": [
             {
              "marker.color": [
               [
                "#B0BEC5",
                "#B0BEC5",
                "#B0BEC5",
                "#B0BEC5",
                "#B0BEC5",
                "#B0BEC5",
                "#B0BEC5",
                "#B0BEC5",
                "#B0BEC5",
                "#B0BEC5",
                "#B0BEC5",
                "#B0BEC5",
                "red",
                "#B0BEC5",
                "#B0BEC5"
               ]
              ]
             }
            ],
            "label": "Topic 12",
            "method": "update"
           },
           {
            "args": [
             {
              "marker.color": [
               [
                "#B0BEC5",
                "#B0BEC5",
                "#B0BEC5",
                "#B0BEC5",
                "#B0BEC5",
                "#B0BEC5",
                "#B0BEC5",
                "#B0BEC5",
                "#B0BEC5",
                "#B0BEC5",
                "#B0BEC5",
                "#B0BEC5",
                "#B0BEC5",
                "red",
                "#B0BEC5"
               ]
              ]
             }
            ],
            "label": "Topic 13",
            "method": "update"
           },
           {
            "args": [
             {
              "marker.color": [
               [
                "#B0BEC5",
                "#B0BEC5",
                "#B0BEC5",
                "#B0BEC5",
                "#B0BEC5",
                "#B0BEC5",
                "#B0BEC5",
                "#B0BEC5",
                "#B0BEC5",
                "#B0BEC5",
                "#B0BEC5",
                "#B0BEC5",
                "#B0BEC5",
                "#B0BEC5",
                "red"
               ]
              ]
             }
            ],
            "label": "Topic 14",
            "method": "update"
           }
          ]
         }
        ],
        "template": {
         "data": {
          "bar": [
           {
            "error_x": {
             "color": "rgb(36,36,36)"
            },
            "error_y": {
             "color": "rgb(36,36,36)"
            },
            "marker": {
             "line": {
              "color": "white",
              "width": 0.5
             },
             "pattern": {
              "fillmode": "overlay",
              "size": 10,
              "solidity": 0.2
             }
            },
            "type": "bar"
           }
          ],
          "barpolar": [
           {
            "marker": {
             "line": {
              "color": "white",
              "width": 0.5
             },
             "pattern": {
              "fillmode": "overlay",
              "size": 10,
              "solidity": 0.2
             }
            },
            "type": "barpolar"
           }
          ],
          "carpet": [
           {
            "aaxis": {
             "endlinecolor": "rgb(36,36,36)",
             "gridcolor": "white",
             "linecolor": "white",
             "minorgridcolor": "white",
             "startlinecolor": "rgb(36,36,36)"
            },
            "baxis": {
             "endlinecolor": "rgb(36,36,36)",
             "gridcolor": "white",
             "linecolor": "white",
             "minorgridcolor": "white",
             "startlinecolor": "rgb(36,36,36)"
            },
            "type": "carpet"
           }
          ],
          "choropleth": [
           {
            "colorbar": {
             "outlinewidth": 1,
             "tickcolor": "rgb(36,36,36)",
             "ticks": "outside"
            },
            "type": "choropleth"
           }
          ],
          "contour": [
           {
            "colorbar": {
             "outlinewidth": 1,
             "tickcolor": "rgb(36,36,36)",
             "ticks": "outside"
            },
            "colorscale": [
             [
              0,
              "#440154"
             ],
             [
              0.1111111111111111,
              "#482878"
             ],
             [
              0.2222222222222222,
              "#3e4989"
             ],
             [
              0.3333333333333333,
              "#31688e"
             ],
             [
              0.4444444444444444,
              "#26828e"
             ],
             [
              0.5555555555555556,
              "#1f9e89"
             ],
             [
              0.6666666666666666,
              "#35b779"
             ],
             [
              0.7777777777777778,
              "#6ece58"
             ],
             [
              0.8888888888888888,
              "#b5de2b"
             ],
             [
              1,
              "#fde725"
             ]
            ],
            "type": "contour"
           }
          ],
          "contourcarpet": [
           {
            "colorbar": {
             "outlinewidth": 1,
             "tickcolor": "rgb(36,36,36)",
             "ticks": "outside"
            },
            "type": "contourcarpet"
           }
          ],
          "heatmap": [
           {
            "colorbar": {
             "outlinewidth": 1,
             "tickcolor": "rgb(36,36,36)",
             "ticks": "outside"
            },
            "colorscale": [
             [
              0,
              "#440154"
             ],
             [
              0.1111111111111111,
              "#482878"
             ],
             [
              0.2222222222222222,
              "#3e4989"
             ],
             [
              0.3333333333333333,
              "#31688e"
             ],
             [
              0.4444444444444444,
              "#26828e"
             ],
             [
              0.5555555555555556,
              "#1f9e89"
             ],
             [
              0.6666666666666666,
              "#35b779"
             ],
             [
              0.7777777777777778,
              "#6ece58"
             ],
             [
              0.8888888888888888,
              "#b5de2b"
             ],
             [
              1,
              "#fde725"
             ]
            ],
            "type": "heatmap"
           }
          ],
          "histogram": [
           {
            "marker": {
             "line": {
              "color": "white",
              "width": 0.6
             }
            },
            "type": "histogram"
           }
          ],
          "histogram2d": [
           {
            "colorbar": {
             "outlinewidth": 1,
             "tickcolor": "rgb(36,36,36)",
             "ticks": "outside"
            },
            "colorscale": [
             [
              0,
              "#440154"
             ],
             [
              0.1111111111111111,
              "#482878"
             ],
             [
              0.2222222222222222,
              "#3e4989"
             ],
             [
              0.3333333333333333,
              "#31688e"
             ],
             [
              0.4444444444444444,
              "#26828e"
             ],
             [
              0.5555555555555556,
              "#1f9e89"
             ],
             [
              0.6666666666666666,
              "#35b779"
             ],
             [
              0.7777777777777778,
              "#6ece58"
             ],
             [
              0.8888888888888888,
              "#b5de2b"
             ],
             [
              1,
              "#fde725"
             ]
            ],
            "type": "histogram2d"
           }
          ],
          "histogram2dcontour": [
           {
            "colorbar": {
             "outlinewidth": 1,
             "tickcolor": "rgb(36,36,36)",
             "ticks": "outside"
            },
            "colorscale": [
             [
              0,
              "#440154"
             ],
             [
              0.1111111111111111,
              "#482878"
             ],
             [
              0.2222222222222222,
              "#3e4989"
             ],
             [
              0.3333333333333333,
              "#31688e"
             ],
             [
              0.4444444444444444,
              "#26828e"
             ],
             [
              0.5555555555555556,
              "#1f9e89"
             ],
             [
              0.6666666666666666,
              "#35b779"
             ],
             [
              0.7777777777777778,
              "#6ece58"
             ],
             [
              0.8888888888888888,
              "#b5de2b"
             ],
             [
              1,
              "#fde725"
             ]
            ],
            "type": "histogram2dcontour"
           }
          ],
          "mesh3d": [
           {
            "colorbar": {
             "outlinewidth": 1,
             "tickcolor": "rgb(36,36,36)",
             "ticks": "outside"
            },
            "type": "mesh3d"
           }
          ],
          "parcoords": [
           {
            "line": {
             "colorbar": {
              "outlinewidth": 1,
              "tickcolor": "rgb(36,36,36)",
              "ticks": "outside"
             }
            },
            "type": "parcoords"
           }
          ],
          "pie": [
           {
            "automargin": true,
            "type": "pie"
           }
          ],
          "scatter": [
           {
            "fillpattern": {
             "fillmode": "overlay",
             "size": 10,
             "solidity": 0.2
            },
            "type": "scatter"
           }
          ],
          "scatter3d": [
           {
            "line": {
             "colorbar": {
              "outlinewidth": 1,
              "tickcolor": "rgb(36,36,36)",
              "ticks": "outside"
             }
            },
            "marker": {
             "colorbar": {
              "outlinewidth": 1,
              "tickcolor": "rgb(36,36,36)",
              "ticks": "outside"
             }
            },
            "type": "scatter3d"
           }
          ],
          "scattercarpet": [
           {
            "marker": {
             "colorbar": {
              "outlinewidth": 1,
              "tickcolor": "rgb(36,36,36)",
              "ticks": "outside"
             }
            },
            "type": "scattercarpet"
           }
          ],
          "scattergeo": [
           {
            "marker": {
             "colorbar": {
              "outlinewidth": 1,
              "tickcolor": "rgb(36,36,36)",
              "ticks": "outside"
             }
            },
            "type": "scattergeo"
           }
          ],
          "scattergl": [
           {
            "marker": {
             "colorbar": {
              "outlinewidth": 1,
              "tickcolor": "rgb(36,36,36)",
              "ticks": "outside"
             }
            },
            "type": "scattergl"
           }
          ],
          "scattermap": [
           {
            "marker": {
             "colorbar": {
              "outlinewidth": 1,
              "tickcolor": "rgb(36,36,36)",
              "ticks": "outside"
             }
            },
            "type": "scattermap"
           }
          ],
          "scattermapbox": [
           {
            "marker": {
             "colorbar": {
              "outlinewidth": 1,
              "tickcolor": "rgb(36,36,36)",
              "ticks": "outside"
             }
            },
            "type": "scattermapbox"
           }
          ],
          "scatterpolar": [
           {
            "marker": {
             "colorbar": {
              "outlinewidth": 1,
              "tickcolor": "rgb(36,36,36)",
              "ticks": "outside"
             }
            },
            "type": "scatterpolar"
           }
          ],
          "scatterpolargl": [
           {
            "marker": {
             "colorbar": {
              "outlinewidth": 1,
              "tickcolor": "rgb(36,36,36)",
              "ticks": "outside"
             }
            },
            "type": "scatterpolargl"
           }
          ],
          "scatterternary": [
           {
            "marker": {
             "colorbar": {
              "outlinewidth": 1,
              "tickcolor": "rgb(36,36,36)",
              "ticks": "outside"
             }
            },
            "type": "scatterternary"
           }
          ],
          "surface": [
           {
            "colorbar": {
             "outlinewidth": 1,
             "tickcolor": "rgb(36,36,36)",
             "ticks": "outside"
            },
            "colorscale": [
             [
              0,
              "#440154"
             ],
             [
              0.1111111111111111,
              "#482878"
             ],
             [
              0.2222222222222222,
              "#3e4989"
             ],
             [
              0.3333333333333333,
              "#31688e"
             ],
             [
              0.4444444444444444,
              "#26828e"
             ],
             [
              0.5555555555555556,
              "#1f9e89"
             ],
             [
              0.6666666666666666,
              "#35b779"
             ],
             [
              0.7777777777777778,
              "#6ece58"
             ],
             [
              0.8888888888888888,
              "#b5de2b"
             ],
             [
              1,
              "#fde725"
             ]
            ],
            "type": "surface"
           }
          ],
          "table": [
           {
            "cells": {
             "fill": {
              "color": "rgb(237,237,237)"
             },
             "line": {
              "color": "white"
             }
            },
            "header": {
             "fill": {
              "color": "rgb(217,217,217)"
             },
             "line": {
              "color": "white"
             }
            },
            "type": "table"
           }
          ]
         },
         "layout": {
          "annotationdefaults": {
           "arrowhead": 0,
           "arrowwidth": 1
          },
          "autotypenumbers": "strict",
          "coloraxis": {
           "colorbar": {
            "outlinewidth": 1,
            "tickcolor": "rgb(36,36,36)",
            "ticks": "outside"
           }
          },
          "colorscale": {
           "diverging": [
            [
             0,
             "rgb(103,0,31)"
            ],
            [
             0.1,
             "rgb(178,24,43)"
            ],
            [
             0.2,
             "rgb(214,96,77)"
            ],
            [
             0.3,
             "rgb(244,165,130)"
            ],
            [
             0.4,
             "rgb(253,219,199)"
            ],
            [
             0.5,
             "rgb(247,247,247)"
            ],
            [
             0.6,
             "rgb(209,229,240)"
            ],
            [
             0.7,
             "rgb(146,197,222)"
            ],
            [
             0.8,
             "rgb(67,147,195)"
            ],
            [
             0.9,
             "rgb(33,102,172)"
            ],
            [
             1,
             "rgb(5,48,97)"
            ]
           ],
           "sequential": [
            [
             0,
             "#440154"
            ],
            [
             0.1111111111111111,
             "#482878"
            ],
            [
             0.2222222222222222,
             "#3e4989"
            ],
            [
             0.3333333333333333,
             "#31688e"
            ],
            [
             0.4444444444444444,
             "#26828e"
            ],
            [
             0.5555555555555556,
             "#1f9e89"
            ],
            [
             0.6666666666666666,
             "#35b779"
            ],
            [
             0.7777777777777778,
             "#6ece58"
            ],
            [
             0.8888888888888888,
             "#b5de2b"
            ],
            [
             1,
             "#fde725"
            ]
           ],
           "sequentialminus": [
            [
             0,
             "#440154"
            ],
            [
             0.1111111111111111,
             "#482878"
            ],
            [
             0.2222222222222222,
             "#3e4989"
            ],
            [
             0.3333333333333333,
             "#31688e"
            ],
            [
             0.4444444444444444,
             "#26828e"
            ],
            [
             0.5555555555555556,
             "#1f9e89"
            ],
            [
             0.6666666666666666,
             "#35b779"
            ],
            [
             0.7777777777777778,
             "#6ece58"
            ],
            [
             0.8888888888888888,
             "#b5de2b"
            ],
            [
             1,
             "#fde725"
            ]
           ]
          },
          "colorway": [
           "#1F77B4",
           "#FF7F0E",
           "#2CA02C",
           "#D62728",
           "#9467BD",
           "#8C564B",
           "#E377C2",
           "#7F7F7F",
           "#BCBD22",
           "#17BECF"
          ],
          "font": {
           "color": "rgb(36,36,36)"
          },
          "geo": {
           "bgcolor": "white",
           "lakecolor": "white",
           "landcolor": "white",
           "showlakes": true,
           "showland": true,
           "subunitcolor": "white"
          },
          "hoverlabel": {
           "align": "left"
          },
          "hovermode": "closest",
          "mapbox": {
           "style": "light"
          },
          "paper_bgcolor": "white",
          "plot_bgcolor": "white",
          "polar": {
           "angularaxis": {
            "gridcolor": "rgb(232,232,232)",
            "linecolor": "rgb(36,36,36)",
            "showgrid": false,
            "showline": true,
            "ticks": "outside"
           },
           "bgcolor": "white",
           "radialaxis": {
            "gridcolor": "rgb(232,232,232)",
            "linecolor": "rgb(36,36,36)",
            "showgrid": false,
            "showline": true,
            "ticks": "outside"
           }
          },
          "scene": {
           "xaxis": {
            "backgroundcolor": "white",
            "gridcolor": "rgb(232,232,232)",
            "gridwidth": 2,
            "linecolor": "rgb(36,36,36)",
            "showbackground": true,
            "showgrid": false,
            "showline": true,
            "ticks": "outside",
            "zeroline": false,
            "zerolinecolor": "rgb(36,36,36)"
           },
           "yaxis": {
            "backgroundcolor": "white",
            "gridcolor": "rgb(232,232,232)",
            "gridwidth": 2,
            "linecolor": "rgb(36,36,36)",
            "showbackground": true,
            "showgrid": false,
            "showline": true,
            "ticks": "outside",
            "zeroline": false,
            "zerolinecolor": "rgb(36,36,36)"
           },
           "zaxis": {
            "backgroundcolor": "white",
            "gridcolor": "rgb(232,232,232)",
            "gridwidth": 2,
            "linecolor": "rgb(36,36,36)",
            "showbackground": true,
            "showgrid": false,
            "showline": true,
            "ticks": "outside",
            "zeroline": false,
            "zerolinecolor": "rgb(36,36,36)"
           }
          },
          "shapedefaults": {
           "fillcolor": "black",
           "line": {
            "width": 0
           },
           "opacity": 0.3
          },
          "ternary": {
           "aaxis": {
            "gridcolor": "rgb(232,232,232)",
            "linecolor": "rgb(36,36,36)",
            "showgrid": false,
            "showline": true,
            "ticks": "outside"
           },
           "baxis": {
            "gridcolor": "rgb(232,232,232)",
            "linecolor": "rgb(36,36,36)",
            "showgrid": false,
            "showline": true,
            "ticks": "outside"
           },
           "bgcolor": "white",
           "caxis": {
            "gridcolor": "rgb(232,232,232)",
            "linecolor": "rgb(36,36,36)",
            "showgrid": false,
            "showline": true,
            "ticks": "outside"
           }
          },
          "title": {
           "x": 0.05
          },
          "xaxis": {
           "automargin": true,
           "gridcolor": "rgb(232,232,232)",
           "linecolor": "rgb(36,36,36)",
           "showgrid": false,
           "showline": true,
           "ticks": "outside",
           "title": {
            "standoff": 15
           },
           "zeroline": false,
           "zerolinecolor": "rgb(36,36,36)"
          },
          "yaxis": {
           "automargin": true,
           "gridcolor": "rgb(232,232,232)",
           "linecolor": "rgb(36,36,36)",
           "showgrid": false,
           "showline": true,
           "ticks": "outside",
           "title": {
            "standoff": 15
           },
           "zeroline": false,
           "zerolinecolor": "rgb(36,36,36)"
          }
         }
        },
        "title": {
         "font": {
          "color": "Black",
          "size": 22
         },
         "text": "<b>Intertopic Distance Map</b>",
         "x": 0.5,
         "xanchor": "center",
         "y": 0.95,
         "yanchor": "top"
        },
        "width": 650,
        "xaxis": {
         "anchor": "y",
         "domain": [
          0,
          1
         ],
         "range": [
          -0.3386486366391182,
          7.055188298225403
         ],
         "title": {
          "text": ""
         },
         "visible": false
        },
        "yaxis": {
         "anchor": "x",
         "domain": [
          0,
          1
         ],
         "range": [
          2.9128371596336367,
          8.954681158065796
         ],
         "title": {
          "text": ""
         },
         "visible": false
        }
       }
      },
      "image/png": "[encoded data removed]"
     },
     "metadata": {},
     "output_type": "display_data"
    },
    {
     "data": {
      "application/vnd.plotly.v1+json": {
       "config": {
        "plotlyServerURL": "https://plot.ly"
       },
       "data": [
        {
         "marker": {
          "color": "#D55E00"
         },
         "orientation": "h",
         "type": "bar",
         "x": [
          0.02138427799161645,
          0.022368751276185525,
          0.023262157040775073,
          0.02668727658712858,
          0.02883336151016092
         ],
         "xaxis": "x",
         "y": [
          "look  ",
          "come  ",
          "right  ",
          "peeve  ",
          "door  "
         ],
         "yaxis": "y"
        },
        {
         "marker": {
          "color": "#0072B2"
         },
         "orientation": "h",
         "type": "bar",
         "x": [
          0.02881511443376957,
          0.029344866018182373,
          0.029578869255430403,
          0.04673182356816529,
          0.1306375971912595
         ],
         "xaxis": "x2",
         "y": [
          "try  ",
          "mirror  ",
          "know  ",
          "stone  ",
          "quirrell  "
         ],
         "yaxis": "y2"
        },
        {
         "marker": {
          "color": "#CC79A7"
         },
         "orientation": "h",
         "type": "bar",
         "x": [
          0.025414519462475117,
          0.03007550434710115,
          0.04077047890134428,
          0.05593854256632548,
          0.057774638838249744
         ],
         "xaxis": "x3",
         "y": [
          "television  ",
          "kitchen  ",
          "cupboard  ",
          "aunt  ",
          "letter  "
         ],
         "yaxis": "y3"
        },
        {
         "marker": {
          "color": "#E69F00"
         },
         "orientation": "h",
         "type": "bar",
         "x": [
          0.03950993344000938,
          0.04386882209641476,
          0.044759898899377315,
          0.0532249809514929,
          0.05754571416951631
         ],
         "xaxis": "x4",
         "y": [
          "point  ",
          "house  ",
          "table  ",
          "hat  ",
          "slytherin  "
         ],
         "yaxis": "y4"
        },
        {
         "marker": {
          "color": "#56B4E9"
         },
         "orientation": "h",
         "type": "bar",
         "x": [
          0.036918757085667823,
          0.04213206712486998,
          0.044302905912355056,
          0.04634281811405437,
          0.06376615286232173
         ],
         "xaxis": "x5",
         "y": [
          "wizard  ",
          "yeh  ",
          "ter  ",
          "boy  ",
          "know  "
         ],
         "yaxis": "y5"
        },
        {
         "marker": {
          "color": "#009E73"
         },
         "orientation": "h",
         "type": "bar",
         "x": [
          0.03169689292071996,
          0.03211117223465826,
          0.04666577317166375,
          0.06510904634147523,
          0.06778825416156863
         ],
         "xaxis": "x6",
         "y": [
          "station  ",
          "owl  ",
          "boy  ",
          "platform  ",
          "train  "
         ],
         "yaxis": "y6"
        },
        {
         "marker": {
          "color": "#F0E442"
         },
         "orientation": "h",
         "type": "bar",
         "x": [
          0.026541683553263768,
          0.03111004034967831,
          0.031684602496800024,
          0.03257323237732364,
          0.03652480000155825
         ],
         "xaxis": "x7",
         "y": [
          "know  ",
          "gryffindor  ",
          "look  ",
          "stone  ",
          "think  "
         ],
         "yaxis": "y7"
        },
        {
         "marker": {
          "color": "#D55E00"
         },
         "orientation": "h",
         "type": "bar",
         "x": [
          0.03558968816454846,
          0.03743076487546663,
          0.04659071382234461,
          0.047032898483471086,
          0.09900526687248229
         ],
         "xaxis": "x8",
         "y": [
          "gryffindor  ",
          "broomstick  ",
          "ground  ",
          "flint  ",
          "broom  "
         ],
         "yaxis": "y8"
        },
        {
         "marker": {
          "color": "#0072B2"
         },
         "orientation": "h",
         "type": "bar",
         "x": [
          0.029048130849602283,
          0.02939582237423333,
          0.03493087524760634,
          0.04000727562850451,
          0.10240170292678338
         ],
         "xaxis": "x9",
         "y": [
          "lemon  ",
          "voldemort  ",
          "dumbledore  ",
          "know  ",
          "professor  "
         ],
         "yaxis": "y9"
        },
        {
         "marker": {
          "color": "#CC79A7"
         },
         "orientation": "h",
         "type": "bar",
         "x": [
          0.041308306500624246,
          0.0442708613233585,
          0.05336912467187525,
          0.06107257432705142,
          0.08208890474611667
         ],
         "xaxis": "x10",
         "y": [
          "cloak  ",
          "owl  ",
          "street  ",
          "mirror  ",
          "cat  "
         ],
         "yaxis": "y10"
        },
        {
         "marker": {
          "color": "#E69F00"
         },
         "orientation": "h",
         "type": "bar",
         "x": [
          0.03792259848341138,
          0.03913272824087642,
          0.04026358867100182,
          0.04879139600985365,
          0.076421117086193
         ],
         "xaxis": "x11",
         "y": [
          "section  ",
          "restrict  ",
          "library  ",
          "book  ",
          "cloak  "
         ],
         "yaxis": "y11"
        },
        {
         "marker": {
          "color": "#56B4E9"
         },
         "orientation": "h",
         "type": "bar",
         "x": [
          0.04926216396849112,
          0.051358844933716515,
          0.05504400146794354,
          0.060380499661683164,
          0.09907557939334527
         ],
         "xaxis": "x12",
         "y": [
          "play  ",
          "match  ",
          "team  ",
          "wood  ",
          "quidditch  "
         ],
         "yaxis": "y12"
        },
        {
         "marker": {
          "color": "#009E73"
         },
         "orientation": "h",
         "type": "bar",
         "x": [
          0.03996450086244471,
          0.04601515601888762,
          0.04912090802635104,
          0.06418111523652212,
          0.1318920613462435
         ],
         "xaxis": "x13",
         "y": [
          "week  ",
          "bit  ",
          "egg  ",
          "ter  ",
          "dragon  "
         ],
         "yaxis": "y13"
        }
       ],
       "layout": {
        "annotations": [
         {
          "font": {
           "size": 16
          },
          "showarrow": false,
          "text": "Topic 0",
          "x": 0.0875,
          "xanchor": "center",
          "xref": "paper",
          "y": 1,
          "yanchor": "bottom",
          "yref": "paper"
         },
         {
          "font": {
           "size": 16
          },
          "showarrow": false,
          "text": "Topic 1",
          "x": 0.36250000000000004,
          "xanchor": "center",
          "xref": "paper",
          "y": 1,
          "yanchor": "bottom",
          "yref": "paper"
         },
         {
          "font": {
           "size": 16
          },
          "showarrow": false,
          "text": "Topic 2",
          "x": 0.6375000000000001,
          "xanchor": "center",
          "xref": "paper",
          "y": 1,
          "yanchor": "bottom",
          "yref": "paper"
         },
         {
          "font": {
           "size": 16
          },
          "showarrow": false,
          "text": "Topic 3",
          "x": 0.9125,
          "xanchor": "center",
          "xref": "paper",
          "y": 1,
          "yanchor": "bottom",
          "yref": "paper"
         },
         {
          "font": {
           "size": 16
          },
          "showarrow": false,
          "text": "Topic 4",
          "x": 0.0875,
          "xanchor": "center",
          "xref": "paper",
          "y": 0.7250000000000001,
          "yanchor": "bottom",
          "yref": "paper"
         },
         {
          "font": {
           "size": 16
          },
          "showarrow": false,
          "text": "Topic 5",
          "x": 0.36250000000000004,
          "xanchor": "center",
          "xref": "paper",
          "y": 0.7250000000000001,
          "yanchor": "bottom",
          "yref": "paper"
         },
         {
          "font": {
           "size": 16
          },
          "showarrow": false,
          "text": "Topic 6",
          "x": 0.6375000000000001,
          "xanchor": "center",
          "xref": "paper",
          "y": 0.7250000000000001,
          "yanchor": "bottom",
          "yref": "paper"
         },
         {
          "font": {
           "size": 16
          },
          "showarrow": false,
          "text": "Topic 7",
          "x": 0.9125,
          "xanchor": "center",
          "xref": "paper",
          "y": 0.7250000000000001,
          "yanchor": "bottom",
          "yref": "paper"
         },
         {
          "font": {
           "size": 16
          },
          "showarrow": false,
          "text": "Topic 8",
          "x": 0.0875,
          "xanchor": "center",
          "xref": "paper",
          "y": 0.45,
          "yanchor": "bottom",
          "yref": "paper"
         },
         {
          "font": {
           "size": 16
          },
          "showarrow": false,
          "text": "Topic 9",
          "x": 0.36250000000000004,
          "xanchor": "center",
          "xref": "paper",
          "y": 0.45,
          "yanchor": "bottom",
          "yref": "paper"
         },
         {
          "font": {
           "size": 16
          },
          "showarrow": false,
          "text": "Topic 10",
          "x": 0.6375000000000001,
          "xanchor": "center",
          "xref": "paper",
          "y": 0.45,
          "yanchor": "bottom",
          "yref": "paper"
         },
         {
          "font": {
           "size": 16
          },
          "showarrow": false,
          "text": "Topic 11",
          "x": 0.9125,
          "xanchor": "center",
          "xref": "paper",
          "y": 0.45,
          "yanchor": "bottom",
          "yref": "paper"
         },
         {
          "font": {
           "size": 16
          },
          "showarrow": false,
          "text": "Topic 12",
          "x": 0.0875,
          "xanchor": "center",
          "xref": "paper",
          "y": 0.175,
          "yanchor": "bottom",
          "yref": "paper"
         }
        ],
        "height": 1000,
        "hoverlabel": {
         "bgcolor": "white",
         "font": {
          "family": "Rockwell",
          "size": 16
         }
        },
        "showlegend": false,
        "template": {
         "data": {
          "bar": [
           {
            "error_x": {
             "color": "#2a3f5f"
            },
            "error_y": {
             "color": "#2a3f5f"
            },
            "marker": {
             "line": {
              "color": "white",
              "width": 0.5
             },
             "pattern": {
              "fillmode": "overlay",
              "size": 10,
              "solidity": 0.2
             }
            },
            "type": "bar"
           }
          ],
          "barpolar": [
           {
            "marker": {
             "line": {
              "color": "white",
              "width": 0.5
             },
             "pattern": {
              "fillmode": "overlay",
              "size": 10,
              "solidity": 0.2
             }
            },
            "type": "barpolar"
           }
          ],
          "carpet": [
           {
            "aaxis": {
             "endlinecolor": "#2a3f5f",
             "gridcolor": "#C8D4E3",
             "linecolor": "#C8D4E3",
             "minorgridcolor": "#C8D4E3",
             "startlinecolor": "#2a3f5f"
            },
            "baxis": {
             "endlinecolor": "#2a3f5f",
             "gridcolor": "#C8D4E3",
             "linecolor": "#C8D4E3",
             "minorgridcolor": "#C8D4E3",
             "startlinecolor": "#2a3f5f"
            },
            "type": "carpet"
           }
          ],
          "choropleth": [
           {
            "colorbar": {
             "outlinewidth": 0,
             "ticks": ""
            },
            "type": "choropleth"
           }
          ],
          "contour": [
           {
            "colorbar": {
             "outlinewidth": 0,
             "ticks": ""
            },
            "colorscale": [
             [
              0,
              "#0d0887"
             ],
             [
              0.1111111111111111,
              "#46039f"
             ],
             [
              0.2222222222222222,
              "#7201a8"
             ],
             [
              0.3333333333333333,
              "#9c179e"
             ],
             [
              0.4444444444444444,
              "#bd3786"
             ],
             [
              0.5555555555555556,
              "#d8576b"
             ],
             [
              0.6666666666666666,
              "#ed7953"
             ],
             [
              0.7777777777777778,
              "#fb9f3a"
             ],
             [
              0.8888888888888888,
              "#fdca26"
             ],
             [
              1,
              "#f0f921"
             ]
            ],
            "type": "contour"
           }
          ],
          "contourcarpet": [
           {
            "colorbar": {
             "outlinewidth": 0,
             "ticks": ""
            },
            "type": "contourcarpet"
           }
          ],
          "heatmap": [
           {
            "colorbar": {
             "outlinewidth": 0,
             "ticks": ""
            },
            "colorscale": [
             [
              0,
              "#0d0887"
             ],
             [
              0.1111111111111111,
              "#46039f"
             ],
             [
              0.2222222222222222,
              "#7201a8"
             ],
             [
              0.3333333333333333,
              "#9c179e"
             ],
             [
              0.4444444444444444,
              "#bd3786"
             ],
             [
              0.5555555555555556,
              "#d8576b"
             ],
             [
              0.6666666666666666,
              "#ed7953"
             ],
             [
              0.7777777777777778,
              "#fb9f3a"
             ],
             [
              0.8888888888888888,
              "#fdca26"
             ],
             [
              1,
              "#f0f921"
             ]
            ],
            "type": "heatmap"
           }
          ],
          "histogram": [
           {
            "marker": {
             "pattern": {
              "fillmode": "overlay",
              "size": 10,
              "solidity": 0.2
             }
            },
            "type": "histogram"
           }
          ],
          "histogram2d": [
           {
            "colorbar": {
             "outlinewidth": 0,
             "ticks": ""
            },
            "colorscale": [
             [
              0,
              "#0d0887"
             ],
             [
              0.1111111111111111,
              "#46039f"
             ],
             [
              0.2222222222222222,
              "#7201a8"
             ],
             [
              0.3333333333333333,
              "#9c179e"
             ],
             [
              0.4444444444444444,
              "#bd3786"
             ],
             [
              0.5555555555555556,
              "#d8576b"
             ],
             [
              0.6666666666666666,
              "#ed7953"
             ],
             [
              0.7777777777777778,
              "#fb9f3a"
             ],
             [
              0.8888888888888888,
              "#fdca26"
             ],
             [
              1,
              "#f0f921"
             ]
            ],
            "type": "histogram2d"
           }
          ],
          "histogram2dcontour": [
           {
            "colorbar": {
             "outlinewidth": 0,
             "ticks": ""
            },
            "colorscale": [
             [
              0,
              "#0d0887"
             ],
             [
              0.1111111111111111,
              "#46039f"
             ],
             [
              0.2222222222222222,
              "#7201a8"
             ],
             [
              0.3333333333333333,
              "#9c179e"
             ],
             [
              0.4444444444444444,
              "#bd3786"
             ],
             [
              0.5555555555555556,
              "#d8576b"
             ],
             [
              0.6666666666666666,
              "#ed7953"
             ],
             [
              0.7777777777777778,
              "#fb9f3a"
             ],
             [
              0.8888888888888888,
              "#fdca26"
             ],
             [
              1,
              "#f0f921"
             ]
            ],
            "type": "histogram2dcontour"
           }
          ],
          "mesh3d": [
           {
            "colorbar": {
             "outlinewidth": 0,
             "ticks": ""
            },
            "type": "mesh3d"
           }
          ],
          "parcoords": [
           {
            "line": {
             "colorbar": {
              "outlinewidth": 0,
              "ticks": ""
             }
            },
            "type": "parcoords"
           }
          ],
          "pie": [
           {
            "automargin": true,
            "type": "pie"
           }
          ],
          "scatter": [
           {
            "fillpattern": {
             "fillmode": "overlay",
             "size": 10,
             "solidity": 0.2
            },
            "type": "scatter"
           }
          ],
          "scatter3d": [
           {
            "line": {
             "colorbar": {
              "outlinewidth": 0,
              "ticks": ""
             }
            },
            "marker": {
             "colorbar": {
              "outlinewidth": 0,
              "ticks": ""
             }
            },
            "type": "scatter3d"
           }
          ],
          "scattercarpet": [
           {
            "marker": {
             "colorbar": {
              "outlinewidth": 0,
              "ticks": ""
             }
            },
            "type": "scattercarpet"
           }
          ],
          "scattergeo": [
           {
            "marker": {
             "colorbar": {
              "outlinewidth": 0,
              "ticks": ""
             }
            },
            "type": "scattergeo"
           }
          ],
          "scattergl": [
           {
            "marker": {
             "colorbar": {
              "outlinewidth": 0,
              "ticks": ""
             }
            },
            "type": "scattergl"
           }
          ],
          "scattermap": [
           {
            "marker": {
             "colorbar": {
              "outlinewidth": 0,
              "ticks": ""
             }
            },
            "type": "scattermap"
           }
          ],
          "scattermapbox": [
           {
            "marker": {
             "colorbar": {
              "outlinewidth": 0,
              "ticks": ""
             }
            },
            "type": "scattermapbox"
           }
          ],
          "scatterpolar": [
           {
            "marker": {
             "colorbar": {
              "outlinewidth": 0,
              "ticks": ""
             }
            },
            "type": "scatterpolar"
           }
          ],
          "scatterpolargl": [
           {
            "marker": {
             "colorbar": {
              "outlinewidth": 0,
              "ticks": ""
             }
            },
            "type": "scatterpolargl"
           }
          ],
          "scatterternary": [
           {
            "marker": {
             "colorbar": {
              "outlinewidth": 0,
              "ticks": ""
             }
            },
            "type": "scatterternary"
           }
          ],
          "surface": [
           {
            "colorbar": {
             "outlinewidth": 0,
             "ticks": ""
            },
            "colorscale": [
             [
              0,
              "#0d0887"
             ],
             [
              0.1111111111111111,
              "#46039f"
             ],
             [
              0.2222222222222222,
              "#7201a8"
             ],
             [
              0.3333333333333333,
              "#9c179e"
             ],
             [
              0.4444444444444444,
              "#bd3786"
             ],
             [
              0.5555555555555556,
              "#d8576b"
             ],
             [
              0.6666666666666666,
              "#ed7953"
             ],
             [
              0.7777777777777778,
              "#fb9f3a"
             ],
             [
              0.8888888888888888,
              "#fdca26"
             ],
             [
              1,
              "#f0f921"
             ]
            ],
            "type": "surface"
           }
          ],
          "table": [
           {
            "cells": {
             "fill": {
              "color": "#EBF0F8"
             },
             "line": {
              "color": "white"
             }
            },
            "header": {
             "fill": {
              "color": "#C8D4E3"
             },
             "line": {
              "color": "white"
             }
            },
            "type": "table"
           }
          ]
         },
         "layout": {
          "annotationdefaults": {
           "arrowcolor": "#2a3f5f",
           "arrowhead": 0,
           "arrowwidth": 1
          },
          "autotypenumbers": "strict",
          "coloraxis": {
           "colorbar": {
            "outlinewidth": 0,
            "ticks": ""
           }
          },
          "colorscale": {
           "diverging": [
            [
             0,
             "#8e0152"
            ],
            [
             0.1,
             "#c51b7d"
            ],
            [
             0.2,
             "#de77ae"
            ],
            [
             0.3,
             "#f1b6da"
            ],
            [
             0.4,
             "#fde0ef"
            ],
            [
             0.5,
             "#f7f7f7"
            ],
            [
             0.6,
             "#e6f5d0"
            ],
            [
             0.7,
             "#b8e186"
            ],
            [
             0.8,
             "#7fbc41"
            ],
            [
             0.9,
             "#4d9221"
            ],
            [
             1,
             "#276419"
            ]
           ],
           "sequential": [
            [
             0,
             "#0d0887"
            ],
            [
             0.1111111111111111,
             "#46039f"
            ],
            [
             0.2222222222222222,
             "#7201a8"
            ],
            [
             0.3333333333333333,
             "#9c179e"
            ],
            [
             0.4444444444444444,
             "#bd3786"
            ],
            [
             0.5555555555555556,
             "#d8576b"
            ],
            [
             0.6666666666666666,
             "#ed7953"
            ],
            [
             0.7777777777777778,
             "#fb9f3a"
            ],
            [
             0.8888888888888888,
             "#fdca26"
            ],
            [
             1,
             "#f0f921"
            ]
           ],
           "sequentialminus": [
            [
             0,
             "#0d0887"
            ],
            [
             0.1111111111111111,
             "#46039f"
            ],
            [
             0.2222222222222222,
             "#7201a8"
            ],
            [
             0.3333333333333333,
             "#9c179e"
            ],
            [
             0.4444444444444444,
             "#bd3786"
            ],
            [
             0.5555555555555556,
             "#d8576b"
            ],
            [
             0.6666666666666666,
             "#ed7953"
            ],
            [
             0.7777777777777778,
             "#fb9f3a"
            ],
            [
             0.8888888888888888,
             "#fdca26"
            ],
            [
             1,
             "#f0f921"
            ]
           ]
          },
          "colorway": [
           "#636efa",
           "#EF553B",
           "#00cc96",
           "#ab63fa",
           "#FFA15A",
           "#19d3f3",
           "#FF6692",
           "#B6E880",
           "#FF97FF",
           "#FECB52"
          ],
          "font": {
           "color": "#2a3f5f"
          },
          "geo": {
           "bgcolor": "white",
           "lakecolor": "white",
           "landcolor": "white",
           "showlakes": true,
           "showland": true,
           "subunitcolor": "#C8D4E3"
          },
          "hoverlabel": {
           "align": "left"
          },
          "hovermode": "closest",
          "mapbox": {
           "style": "light"
          },
          "paper_bgcolor": "white",
          "plot_bgcolor": "white",
          "polar": {
           "angularaxis": {
            "gridcolor": "#EBF0F8",
            "linecolor": "#EBF0F8",
            "ticks": ""
           },
           "bgcolor": "white",
           "radialaxis": {
            "gridcolor": "#EBF0F8",
            "linecolor": "#EBF0F8",
            "ticks": ""
           }
          },
          "scene": {
           "xaxis": {
            "backgroundcolor": "white",
            "gridcolor": "#DFE8F3",
            "gridwidth": 2,
            "linecolor": "#EBF0F8",
            "showbackground": true,
            "ticks": "",
            "zerolinecolor": "#EBF0F8"
           },
           "yaxis": {
            "backgroundcolor": "white",
            "gridcolor": "#DFE8F3",
            "gridwidth": 2,
            "linecolor": "#EBF0F8",
            "showbackground": true,
            "ticks": "",
            "zerolinecolor": "#EBF0F8"
           },
           "zaxis": {
            "backgroundcolor": "white",
            "gridcolor": "#DFE8F3",
            "gridwidth": 2,
            "linecolor": "#EBF0F8",
            "showbackground": true,
            "ticks": "",
            "zerolinecolor": "#EBF0F8"
           }
          },
          "shapedefaults": {
           "line": {
            "color": "#2a3f5f"
           }
          },
          "ternary": {
           "aaxis": {
            "gridcolor": "#DFE8F3",
            "linecolor": "#A2B1C6",
            "ticks": ""
           },
           "baxis": {
            "gridcolor": "#DFE8F3",
            "linecolor": "#A2B1C6",
            "ticks": ""
           },
           "bgcolor": "white",
           "caxis": {
            "gridcolor": "#DFE8F3",
            "linecolor": "#A2B1C6",
            "ticks": ""
           }
          },
          "title": {
           "x": 0.05
          },
          "xaxis": {
           "automargin": true,
           "gridcolor": "#EBF0F8",
           "linecolor": "#EBF0F8",
           "ticks": "",
           "title": {
            "standoff": 15
           },
           "zerolinecolor": "#EBF0F8",
           "zerolinewidth": 2
          },
          "yaxis": {
           "automargin": true,
           "gridcolor": "#EBF0F8",
           "linecolor": "#EBF0F8",
           "ticks": "",
           "title": {
            "standoff": 15
           },
           "zerolinecolor": "#EBF0F8",
           "zerolinewidth": 2
          }
         }
        },
        "title": {
         "font": {
          "color": "Black",
          "size": 22
         },
         "text": "Topic Word Scores",
         "x": 0.5,
         "xanchor": "center",
         "yanchor": "top"
        },
        "width": 1000,
        "xaxis": {
         "anchor": "y",
         "domain": [
          0,
          0.175
         ],
         "showgrid": true
        },
        "xaxis10": {
         "anchor": "y10",
         "domain": [
          0.275,
          0.45
         ],
         "showgrid": true
        },
        "xaxis11": {
         "anchor": "y11",
         "domain": [
          0.55,
          0.7250000000000001
         ],
         "showgrid": true
        },
        "xaxis12": {
         "anchor": "y12",
         "domain": [
          0.825,
          1
         ],
         "showgrid": true
        },
        "xaxis13": {
         "anchor": "y13",
         "domain": [
          0,
          0.175
         ],
         "showgrid": true
        },
        "xaxis14": {
         "anchor": "y14",
         "domain": [
          0.275,
          0.45
         ],
         "showgrid": true
        },
        "xaxis15": {
         "anchor": "y15",
         "domain": [
          0.55,
          0.7250000000000001
         ],
         "showgrid": true
        },
        "xaxis16": {
         "anchor": "y16",
         "domain": [
          0.825,
          1
         ],
         "showgrid": true
        },
        "xaxis2": {
         "anchor": "y2",
         "domain": [
          0.275,
          0.45
         ],
         "showgrid": true
        },
        "xaxis3": {
         "anchor": "y3",
         "domain": [
          0.55,
          0.7250000000000001
         ],
         "showgrid": true
        },
        "xaxis4": {
         "anchor": "y4",
         "domain": [
          0.825,
          1
         ],
         "showgrid": true
        },
        "xaxis5": {
         "anchor": "y5",
         "domain": [
          0,
          0.175
         ],
         "showgrid": true
        },
        "xaxis6": {
         "anchor": "y6",
         "domain": [
          0.275,
          0.45
         ],
         "showgrid": true
        },
        "xaxis7": {
         "anchor": "y7",
         "domain": [
          0.55,
          0.7250000000000001
         ],
         "showgrid": true
        },
        "xaxis8": {
         "anchor": "y8",
         "domain": [
          0.825,
          1
         ],
         "showgrid": true
        },
        "xaxis9": {
         "anchor": "y9",
         "domain": [
          0,
          0.175
         ],
         "showgrid": true
        },
        "yaxis": {
         "anchor": "x",
         "domain": [
          0.825,
          1
         ],
         "showgrid": true
        },
        "yaxis10": {
         "anchor": "x10",
         "domain": [
          0.275,
          0.45
         ],
         "showgrid": true
        },
        "yaxis11": {
         "anchor": "x11",
         "domain": [
          0.275,
          0.45
         ],
         "showgrid": true
        },
        "yaxis12": {
         "anchor": "x12",
         "domain": [
          0.275,
          0.45
         ],
         "showgrid": true
        },
        "yaxis13": {
         "anchor": "x13",
         "domain": [
          0,
          0.175
         ],
         "showgrid": true
        },
        "yaxis14": {
         "anchor": "x14",
         "domain": [
          0,
          0.175
         ],
         "showgrid": true
        },
        "yaxis15": {
         "anchor": "x15",
         "domain": [
          0,
          0.175
         ],
         "showgrid": true
        },
        "yaxis16": {
         "anchor": "x16",
         "domain": [
          0,
          0.175
         ],
         "showgrid": true
        },
        "yaxis2": {
         "anchor": "x2",
         "domain": [
          0.825,
          1
         ],
         "showgrid": true
        },
        "yaxis3": {
         "anchor": "x3",
         "domain": [
          0.825,
          1
         ],
         "showgrid": true
        },
        "yaxis4": {
         "anchor": "x4",
         "domain": [
          0.825,
          1
         ],
         "showgrid": true
        },
        "yaxis5": {
         "anchor": "x5",
         "domain": [
          0.55,
          0.7250000000000001
         ],
         "showgrid": true
        },
        "yaxis6": {
         "anchor": "x6",
         "domain": [
          0.55,
          0.7250000000000001
         ],
         "showgrid": true
        },
        "yaxis7": {
         "anchor": "x7",
         "domain": [
          0.55,
          0.7250000000000001
         ],
         "showgrid": true
        },
        "yaxis8": {
         "anchor": "x8",
         "domain": [
          0.55,
          0.7250000000000001
         ],
         "showgrid": true
        },
        "yaxis9": {
         "anchor": "x9",
         "domain": [
          0.275,
          0.45
         ],
         "showgrid": true
        }
       }
      },
      "image/png": "[encoded data removed]"
     },
     "metadata": {},
     "output_type": "display_data"
    }
   ],
   "source": [
    "# 🔢 Funkcija za broj pravih tema (isključujući outlier -1)\n",
    "def count_true_topics(topic_info_df):\n",
    "    return topic_info_df[topic_info_df.Topic != -1].shape[0]\n",
    "\n",
    "# 🥇 Izbor najboljeg modela po broju pravih tema\n",
    "best_bertopic = max(bertopic_results, key=lambda x: count_true_topics(x[\"topic_info\"]))\n",
    "best_model = best_bertopic[\"model\"]\n",
    "\n",
    "print(\"\\n🏆 Najbolji BERTopic model:\")\n",
    "print(f\"- ngram_range: {best_bertopic['ngram']}\")\n",
    "print(f\"- min_topic_size: {best_bertopic['min_topic_size']}\")\n",
    "print(f\"- Broj pravih tema: {count_true_topics(best_bertopic['topic_info'])}\")\n",
    "\n",
    "# 🧾 Prikaz svih 13 tema\n",
    "print(\"\\n📄 Sve teme:\")\n",
    "topic_info = best_model.get_topic_info()\n",
    "print(topic_info[topic_info.Topic != -1].head(13))  # samo 13 tema, bez -1 outlier-a\n",
    "\n",
    "# 📊 Interaktivna vizualizacija svih tema\n",
    "best_model.visualize_topics().show()\n",
    "\n",
    "# 📈 Bar chart za svih 13 tema\n",
    "best_model.visualize_barchart(top_n_topics=13).show()\n"
   ]
  },
  {
   "cell_type": "code",
   "execution_count": 14,
   "id": "72d97a66-4f7e-4d49-a4ce-eb60a952d025",
   "metadata": {},
   "outputs": [
    {
     "name": "stdout",
     "output_type": "stream",
     "text": [
      "=== METRIKE ===\n",
      "Original (chars): 444338\n",
      "Cleaned  (chars): 210775\n",
      "Original (words): 78427\n",
      "Cleaned  (words): 34525\n",
      "Retention (cleaned / original %) : 44.02%\n",
      "\n",
      "=== TOP 10 REČI - ORIGINAL ===\n",
      "the: 3629\n",
      "and: 1923\n",
      "to: 1861\n",
      "he: 1758\n",
      "a: 1691\n",
      "harry: 1326\n",
      "of: 1267\n",
      "was: 1186\n",
      "it: 1185\n",
      "you: 1035\n",
      "\n",
      "=== TOP 10 REČI - OČIŠĆENI ===\n",
      "look: 404\n",
      "go: 369\n",
      "know: 310\n",
      "see: 295\n",
      "back: 267\n",
      "one: 266\n",
      "like: 209\n",
      "I: 206\n",
      "think: 202\n",
      "come: 194\n"
     ]
    },
    {
     "data": {
      "image/png": "[encoded data removed]",
      "text/plain": [
       "<Figure size 800x350 with 1 Axes>"
      ]
     },
     "metadata": {},
     "output_type": "display_data"
    },
    {
     "data": {
      "image/png": "[encoded data removed]",
      "text/plain": [
       "<Figure size 800x350 with 1 Axes>"
      ]
     },
     "metadata": {},
     "output_type": "display_data"
    }
   ],
   "source": [
    "from collections import Counter\n",
    "import re\n",
    "import matplotlib.pyplot as plt\n",
    "\n",
    "def analyze_text(original_text, cleaned_text, cleaned_tokens, top_n=10):\n",
    "    analysis = {}\n",
    "    # osnovne metrike\n",
    "    analysis['original_length_chars'] = len(original_text)\n",
    "    analysis['cleaned_length_chars'] = len(cleaned_text)\n",
    "\n",
    "    analysis['original_word_count'] = len(original_text.split())\n",
    "    analysis['cleaned_word_count'] = len(cleaned_tokens)\n",
    "\n",
    "    # tokeni iz originala (lowercase)\n",
    "    original_tokens = re.findall(r'\\b\\w+\\b', original_text.lower())\n",
    "    analysis['top_words_original'] = Counter(original_tokens).most_common(top_n)\n",
    "\n",
    "    # top posle čišćenja\n",
    "    analysis['top_words_cleaned'] = Counter(cleaned_tokens).most_common(top_n)\n",
    "\n",
    "    # izbegavanje deljenja sa nulom\n",
    "    if analysis['original_word_count'] > 0:\n",
    "        analysis['reduction_ratio'] = round(\n",
    "            analysis['cleaned_word_count'] / analysis['original_word_count'] * 100, 2\n",
    "        )\n",
    "    else:\n",
    "        analysis['reduction_ratio'] = None\n",
    "\n",
    "    return analysis\n",
    "\n",
    "# --------------------\n",
    "# Glavni deo (run)\n",
    "# --------------------\n",
    "# Ako već imaš promenljivu `text` u okolini, koristiće se ona.\n",
    "# Ako nema, zameni placeholder dole sa svojim tekstom.\n",
    "try:\n",
    "    original_text = text   # koristi postojeću promenljivu `text` ako postoji\n",
    "except NameError:\n",
    "    original_text = \"\"\"Ovde nalepi svoj originalni tekst (ili zameni ovu liniju). \n",
    "Primer: Ovo je primer teksta koji služi samo za test.\"\"\"\n",
    "\n",
    "\n",
    "# Poziva se funkcija clean_text (pretpostavka: već definisana u tvojoj sesiji)\n",
    "cleaned_text, cleaned_tokens = clean_text(original_text)\n",
    "\n",
    "# Analiza\n",
    "report = analyze_text(original_text, cleaned_text, cleaned_tokens, top_n=10)\n",
    "\n",
    "# Lep ispis u konzolu\n",
    "print(\"=== METRIKE ===\")\n",
    "print(f\"Original (chars): {report['original_length_chars']}\")\n",
    "print(f\"Cleaned  (chars): {report['cleaned_length_chars']}\")\n",
    "print(f\"Original (words): {report['original_word_count']}\")\n",
    "print(f\"Cleaned  (words): {report['cleaned_word_count']}\")\n",
    "print(f\"Retention (cleaned / original %) : {report['reduction_ratio']}%\\n\")\n",
    "\n",
    "print(\"=== TOP 10 REČI - ORIGINAL ===\")\n",
    "for w, c in report['top_words_original']:\n",
    "    print(f\"{w}: {c}\")\n",
    "\n",
    "print(\"\\n=== TOP 10 REČI - OČIŠĆENI ===\")\n",
    "for w, c in report['top_words_cleaned']:\n",
    "    print(f\"{w}: {c}\")\n",
    "\n",
    "# Opcionalno: dva bara (top 10 original i top 10 cleaned)\n",
    "def plot_top_counts(word_counts, title):\n",
    "    words = [w for w, _ in word_counts]\n",
    "    counts = [c for _, c in word_counts]\n",
    "    plt.figure(figsize=(8, 3.5))\n",
    "    plt.bar(words, counts)\n",
    "    plt.title(title)\n",
    "    plt.xticks(rotation=45, ha='right')\n",
    "    plt.tight_layout()\n",
    "    plt.show()\n",
    "\n",
    "plot_top_counts(report['top_words_original'], 'Top 10 - original')\n",
    "plot_top_counts(report['top_words_cleaned'], 'Top 10 - cleaned')\n"
   ]
  },
  {
   "cell_type": "code",
   "execution_count": null,
   "id": "3360bf79-17ef-45e1-b599-9a46363f23ec",
   "metadata": {},
   "outputs": [],
   "source": []
  }
 ],
 "metadata": {
  "kernelspec": {
   "display_name": "Python 3 (ipykernel)",
   "language": "python",
   "name": "python3"
  },
  "language_info": {
   "codemirror_mode": {
    "name": "ipython",
    "version": 3
   },
   "file_extension": ".py",
   "mimetype": "text/x-python",
   "name": "python",
   "nbconvert_exporter": "python",
   "pygments_lexer": "ipython3",
   "version": "3.11.13"
  }
 },
 "nbformat": 4,
 "nbformat_minor": 5
}
